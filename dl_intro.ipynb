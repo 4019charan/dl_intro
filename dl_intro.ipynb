





<!DOCTYPE html>
<html lang="en" data-color-mode="auto" data-light-theme="light" data-dark-theme="dark"  data-a11y-animated-images="system" data-a11y-link-underlines="false">


  <head>
    <meta charset="utf-8">
  <link rel="dns-prefetch" href="https://github.githubassets.com">
  <link rel="dns-prefetch" href="https://avatars.githubusercontent.com">
  <link rel="dns-prefetch" href="https://github-cloud.s3.amazonaws.com">
  <link rel="dns-prefetch" href="https://user-images.githubusercontent.com/">
  <link rel="preconnect" href="https://github.githubassets.com" crossorigin>
  <link rel="preconnect" href="https://avatars.githubusercontent.com">

  


  <link crossorigin="anonymous" media="all" rel="stylesheet" href="https://github.githubassets.com/assets/light-983b05c0927a.css" /><link crossorigin="anonymous" media="all" rel="stylesheet" href="https://github.githubassets.com/assets/dark-5d486a4ede8e.css" /><link data-color-theme="dark_dimmed" crossorigin="anonymous" media="all" rel="stylesheet" data-href="https://github.githubassets.com/assets/dark_dimmed-27c8d635e4e5.css" /><link data-color-theme="dark_high_contrast" crossorigin="anonymous" media="all" rel="stylesheet" data-href="https://github.githubassets.com/assets/dark_high_contrast-8438e75afd36.css" /><link data-color-theme="dark_colorblind" crossorigin="anonymous" media="all" rel="stylesheet" data-href="https://github.githubassets.com/assets/dark_colorblind-bf5665b96628.css" /><link data-color-theme="light_colorblind" crossorigin="anonymous" media="all" rel="stylesheet" data-href="https://github.githubassets.com/assets/light_colorblind-c414b5ba1dce.css" /><link data-color-theme="light_high_contrast" crossorigin="anonymous" media="all" rel="stylesheet" data-href="https://github.githubassets.com/assets/light_high_contrast-e5868b7374db.css" /><link data-color-theme="light_tritanopia" crossorigin="anonymous" media="all" rel="stylesheet" data-href="https://github.githubassets.com/assets/light_tritanopia-299ac9c64ec0.css" /><link data-color-theme="dark_tritanopia" crossorigin="anonymous" media="all" rel="stylesheet" data-href="https://github.githubassets.com/assets/dark_tritanopia-3a26e78ad0ff.css" />
  
    <link crossorigin="anonymous" media="all" rel="stylesheet" href="https://github.githubassets.com/assets/primer-primitives-49b09e982548.css" />
    <link crossorigin="anonymous" media="all" rel="stylesheet" href="https://github.githubassets.com/assets/primer-15214e5f9104.css" />
    <link crossorigin="anonymous" media="all" rel="stylesheet" href="https://github.githubassets.com/assets/global-38f5d4710d3e.css" />
    <link crossorigin="anonymous" media="all" rel="stylesheet" href="https://github.githubassets.com/assets/github-5636d019c151.css" />
  <link crossorigin="anonymous" media="all" rel="stylesheet" href="https://github.githubassets.com/assets/code-ea610ed618d5.css" />

  

  <script type="application/json" id="client-env">{"locale":"en","featureFlags":["failbot_handle_non_errors","fix_react_title","geojson_azure_maps","image_metric_tracking","turbo_experiment_risky","use_scroll_restoration","sample_network_conn_type"]}</script>
<script crossorigin="anonymous" defer="defer" type="application/javascript" src="https://github.githubassets.com/assets/wp-runtime-a9ceb87cd408.js"></script>
<script crossorigin="anonymous" defer="defer" type="application/javascript" src="https://github.githubassets.com/assets/vendors-node_modules_dompurify_dist_purify_js-64d590970fa6.js"></script>
<script crossorigin="anonymous" defer="defer" type="application/javascript" src="https://github.githubassets.com/assets/vendors-node_modules_stacktrace-parser_dist_stack-trace-parser_esm_js-node_modules_github_bro-a4c183-18bf85b8e9f4.js"></script>
<script crossorigin="anonymous" defer="defer" type="application/javascript" src="https://github.githubassets.com/assets/ui_packages_soft-nav_soft-nav_ts-df17d5597d8f.js"></script>
<script crossorigin="anonymous" defer="defer" type="application/javascript" src="https://github.githubassets.com/assets/environment-509b58e05b9f.js"></script>
<script crossorigin="anonymous" defer="defer" type="application/javascript" src="https://github.githubassets.com/assets/vendors-node_modules_github_selector-observer_dist_index_esm_js-2646a2c533e3.js"></script>
<script crossorigin="anonymous" defer="defer" type="application/javascript" src="https://github.githubassets.com/assets/vendors-node_modules_primer_behaviors_dist_esm_focus-zone_js-d55308df5023.js"></script>
<script crossorigin="anonymous" defer="defer" type="application/javascript" src="https://github.githubassets.com/assets/vendors-node_modules_github_relative-time-element_dist_index_js-99e288659d4f.js"></script>
<script crossorigin="anonymous" defer="defer" type="application/javascript" src="https://github.githubassets.com/assets/vendors-node_modules_fzy_js_index_js-node_modules_github_markdown-toolbar-element_dist_index_js-d2119e75298d.js"></script>
<script crossorigin="anonymous" defer="defer" type="application/javascript" src="https://github.githubassets.com/assets/vendors-node_modules_delegated-events_dist_index_js-node_modules_github_auto-complete-element-5b3870-9b38c0812424.js"></script>
<script crossorigin="anonymous" defer="defer" type="application/javascript" src="https://github.githubassets.com/assets/vendors-node_modules_github_filter-input-element_dist_index_js-node_modules_github_remote-inp-8873b7-5771678648e0.js"></script>
<script crossorigin="anonymous" defer="defer" type="application/javascript" src="https://github.githubassets.com/assets/vendors-node_modules_github_file-attachment-element_dist_index_js-node_modules_primer_view-co-bdc901-81f1e189072b.js"></script>
<script crossorigin="anonymous" defer="defer" type="application/javascript" src="https://github.githubassets.com/assets/github-elements-1ff8b48eef26.js"></script>
<script crossorigin="anonymous" defer="defer" type="application/javascript" src="https://github.githubassets.com/assets/element-registry-631c5146145f.js"></script>
<script crossorigin="anonymous" defer="defer" type="application/javascript" src="https://github.githubassets.com/assets/vendors-node_modules_lit-html_lit-html_js-9d9fe1859ce5.js"></script>
<script crossorigin="anonymous" defer="defer" type="application/javascript" src="https://github.githubassets.com/assets/vendors-node_modules_github_hydro-analytics-client_dist_analytics-client_js-node_modules_gith-f3aee1-fd3c22610e40.js"></script>
<script crossorigin="anonymous" defer="defer" type="application/javascript" src="https://github.githubassets.com/assets/vendors-node_modules_morphdom_dist_morphdom-esm_js-b1fdd7158cf0.js"></script>
<script crossorigin="anonymous" defer="defer" type="application/javascript" src="https://github.githubassets.com/assets/vendors-node_modules_github_mini-throttle_dist_index_js-node_modules_github_alive-client_dist-bf5aa2-4aefce0fc3c8.js"></script>
<script crossorigin="anonymous" defer="defer" type="application/javascript" src="https://github.githubassets.com/assets/vendors-node_modules_github_turbo_dist_turbo_es2017-esm_js-1f4793023fcd.js"></script>
<script crossorigin="anonymous" defer="defer" type="application/javascript" src="https://github.githubassets.com/assets/vendors-node_modules_github_remote-form_dist_index_js-node_modules_scroll-anchoring_dist_scro-52dc4b-e1e33bfc0b7e.js"></script>
<script crossorigin="anonymous" defer="defer" type="application/javascript" src="https://github.githubassets.com/assets/vendors-node_modules_color-convert_index_js-35b3ae68c408.js"></script>
<script crossorigin="anonymous" defer="defer" type="application/javascript" src="https://github.githubassets.com/assets/vendors-node_modules_github_paste-markdown_dist_index_esm_js-node_modules_github_quote-select-7a8e2b-f036384374ea.js"></script>
<script crossorigin="anonymous" defer="defer" type="application/javascript" src="https://github.githubassets.com/assets/app_assets_modules_github_details-dialog_ts-app_assets_modules_github_fetch_ts-9ca164041015.js"></script>
<script crossorigin="anonymous" defer="defer" type="application/javascript" src="https://github.githubassets.com/assets/app_assets_modules_github_updatable-content_ts-ui_packages_hydro-analytics_hydro-analytics_ts-e4da304b75e7.js"></script>
<script crossorigin="anonymous" defer="defer" type="application/javascript" src="https://github.githubassets.com/assets/app_assets_modules_github_onfocus_ts-app_assets_modules_github_sticky-scroll-into-view_ts-7ce0c9d975f3.js"></script>
<script crossorigin="anonymous" defer="defer" type="application/javascript" src="https://github.githubassets.com/assets/app_assets_modules_github_behaviors_task-list_ts-app_assets_modules_github_sso_ts-ui_packages-7d50ad-9491f2be61ee.js"></script>
<script crossorigin="anonymous" defer="defer" type="application/javascript" src="https://github.githubassets.com/assets/app_assets_modules_github_behaviors_ajax-error_ts-app_assets_modules_github_behaviors_include-2e2258-f7b8ad0ef997.js"></script>
<script crossorigin="anonymous" defer="defer" type="application/javascript" src="https://github.githubassets.com/assets/app_assets_modules_github_behaviors_commenting_edit_ts-app_assets_modules_github_behaviors_ht-83c235-f22ac6b94445.js"></script>
<script crossorigin="anonymous" defer="defer" type="application/javascript" src="https://github.githubassets.com/assets/app_assets_modules_github_blob-anchor_ts-app_assets_modules_github_filter-sort_ts-app_assets_-c96432-b9f980134541.js"></script>
<script crossorigin="anonymous" defer="defer" type="application/javascript" src="https://github.githubassets.com/assets/behaviors-04fef4626986.js"></script>
<script crossorigin="anonymous" defer="defer" type="application/javascript" src="https://github.githubassets.com/assets/vendors-node_modules_delegated-events_dist_index_js-node_modules_github_catalyst_lib_index_js-06ff531-fe0b8ccc90a5.js"></script>
<script crossorigin="anonymous" defer="defer" type="application/javascript" src="https://github.githubassets.com/assets/notifications-global-f57687007bfc.js"></script>
<script crossorigin="anonymous" defer="defer" type="application/javascript" src="https://github.githubassets.com/assets/code-menu-c743a13234fc.js"></script>
  
  <script crossorigin="anonymous" defer="defer" type="application/javascript" src="https://github.githubassets.com/assets/react-lib-210c4b5934c3.js"></script>
<script crossorigin="anonymous" defer="defer" type="application/javascript" src="https://github.githubassets.com/assets/vendors-node_modules_primer_octicons-react_dist_index_esm_js-node_modules_primer_react_lib-es-14a089-38d45acba361.js"></script>
<script crossorigin="anonymous" defer="defer" type="application/javascript" src="https://github.githubassets.com/assets/vendors-node_modules_primer_react_lib-esm_Box_Box_js-8d2713f90c9a.js"></script>
<script crossorigin="anonymous" defer="defer" type="application/javascript" src="https://github.githubassets.com/assets/vendors-node_modules_primer_react_lib-esm_Button_Button_js-node_modules_primer_react_lib-esm_-c2022e-70aff6ca05a9.js"></script>
<script crossorigin="anonymous" defer="defer" type="application/javascript" src="https://github.githubassets.com/assets/vendors-node_modules_primer_react_lib-esm_ActionList_index_js-7bad8659e7bd.js"></script>
<script crossorigin="anonymous" defer="defer" type="application/javascript" src="https://github.githubassets.com/assets/vendors-node_modules_primer_react_lib-esm_Button_index_js-node_modules_primer_react_lib-esm_O-133b0c-6f42d36f1de7.js"></script>
<script crossorigin="anonymous" defer="defer" type="application/javascript" src="https://github.githubassets.com/assets/vendors-node_modules_primer_react_lib-esm_TextInput_TextInput_js-47fe5c8a888d.js"></script>
<script crossorigin="anonymous" defer="defer" type="application/javascript" src="https://github.githubassets.com/assets/vendors-node_modules_primer_react_lib-esm_ActionMenu_js-f0cd24c33676.js"></script>
<script crossorigin="anonymous" defer="defer" type="application/javascript" src="https://github.githubassets.com/assets/vendors-node_modules_primer_behaviors_dist_esm_scroll-into-view_js-node_modules_primer_react_-04bb1b-f1945840d2c2.js"></script>
<script crossorigin="anonymous" defer="defer" type="application/javascript" src="https://github.githubassets.com/assets/vendors-node_modules_primer_react_lib-esm_FormControl_FormControl_js-eadb97e299c8.js"></script>
<script crossorigin="anonymous" defer="defer" type="application/javascript" src="https://github.githubassets.com/assets/vendors-node_modules_react-router-dom_dist_index_js-4a785319b497.js"></script>
<script crossorigin="anonymous" defer="defer" type="application/javascript" src="https://github.githubassets.com/assets/vendors-node_modules_primer_react_lib-esm_Heading_Heading_js-node_modules_primer_react_lib-es-20c766-83991b288f66.js"></script>
<script crossorigin="anonymous" defer="defer" type="application/javascript" src="https://github.githubassets.com/assets/vendors-node_modules_primer_react_lib-esm_Dialog_js-node_modules_primer_react_lib-esm_Flash_F-ad64b6-2f6c119b1b24.js"></script>
<script crossorigin="anonymous" defer="defer" type="application/javascript" src="https://github.githubassets.com/assets/vendors-node_modules_primer_react_lib-esm_Avatar_Avatar_js-node_modules_primer_react_lib-esm_-b5621e0-6334f99521f0.js"></script>
<script crossorigin="anonymous" defer="defer" type="application/javascript" src="https://github.githubassets.com/assets/vendors-node_modules_primer_react_lib-esm_UnderlineNav2_index_js-f81b8e23600f.js"></script>
<script crossorigin="anonymous" defer="defer" type="application/javascript" src="https://github.githubassets.com/assets/vendors-node_modules_primer_react_lib-esm_TreeView_TreeView_js-d86950fa1004.js"></script>
<script crossorigin="anonymous" defer="defer" type="application/javascript" src="https://github.githubassets.com/assets/vendors-node_modules_primer_react_lib-esm_AvatarStack_AvatarStack_js-node_modules_primer_reac-f3f8d8-8c642384763c.js"></script>
<script crossorigin="anonymous" defer="defer" type="application/javascript" src="https://github.githubassets.com/assets/vendors-node_modules_primer_react_lib-esm_Breadcrumbs_Breadcrumbs_js-node_modules_primer_reac-4a8b91-0923bb14d9e1.js"></script>
<script crossorigin="anonymous" defer="defer" type="application/javascript" src="https://github.githubassets.com/assets/ui_packages_react-core_create-browser-history_ts-ui_packages_react-core_deferred-registry_ts--ebbb92-6b5332bffa1d.js"></script>
<script crossorigin="anonymous" defer="defer" type="application/javascript" src="https://github.githubassets.com/assets/ui_packages_react-core_register-app_ts-3f96a0d371d8.js"></script>
<script crossorigin="anonymous" defer="defer" type="application/javascript" src="https://github.githubassets.com/assets/ui_packages_paths_index_ts-90deee34cb88.js"></script>
<script crossorigin="anonymous" defer="defer" type="application/javascript" src="https://github.githubassets.com/assets/ui_packages_ref-selector_RefSelector_tsx-00cc5dfb3b54.js"></script>
<script crossorigin="anonymous" defer="defer" type="application/javascript" src="https://github.githubassets.com/assets/app_assets_modules_github_command-palette_copy_ts-app_assets_modules_react-shared_hooks_use-v-328d8a-00e2d6279188.js"></script>
<script crossorigin="anonymous" defer="defer" type="application/javascript" src="https://github.githubassets.com/assets/ui_packages_alive_alive_ts-ui_packages_alive_connect-alive-subscription_ts-app_assets_modules-face4e-4ef25b6824c1.js"></script>
<script crossorigin="anonymous" defer="defer" type="application/javascript" src="https://github.githubassets.com/assets/react-code-view-d0b87985803e.js"></script>


  <title>4019charan/dl_intro.ipynb at main · 4019charan/4019charan</title>



  <meta name="route-pattern" content="/:user_id/:repository/blob/*name(/*path)">

    
  <meta name="current-catalog-service-hash" content="82c569b93da5c18ed649ebd4c2c79437db4611a6a1373e805a3cb001c64130b7">


  <meta name="request-id" content="CF70:222A:812ABE:BEF719:64F89C1B" data-turbo-transient="true" /><meta name="html-safe-nonce" content="e8cfd4fb52fdeaaf3a0903b7ab1b2889bb93098a3fa14da17d5aed1178cd6598" data-turbo-transient="true" /><meta name="visitor-payload" content="eyJyZWZlcnJlciI6Imh0dHBzOi8vZ2l0aHViLmNvbS80MDE5Y2hhcmFuLzQwMTljaGFyYW4vdHJlZS9tYWluIiwicmVxdWVzdF9pZCI6IkNGNzA6MjIyQTo4MTJBQkU6QkVGNzE5OjY0Rjg5QzFCIiwidmlzaXRvcl9pZCI6IjUzOTY4NTQ0Njc1NjcwMjI4NjgiLCJyZWdpb25fZWRnZSI6ImlhZCIsInJlZ2lvbl9yZW5kZXIiOiJpYWQifQ==" data-turbo-transient="true" /><meta name="visitor-hmac" content="dcf6791387a90a66f16d995c5bf6a2ba7d373173eb09e4eb586bb64e9dce17c1" data-turbo-transient="true" />


    <meta name="hovercard-subject-tag" content="repository:654778635" data-turbo-transient>


  <meta name="github-keyboard-shortcuts" content="repository,source-code,file-tree" data-turbo-transient="true" />
  

  <meta name="selected-link" value="repo_source" data-turbo-transient>
  <link rel="assets" href="https://github.githubassets.com/">

    <meta name="google-site-verification" content="c1kuD-K2HIVF635lypcsWPoD4kilo5-jA_wBFyT4uMY">
  <meta name="google-site-verification" content="KT5gs8h0wvaagLKAVWq8bbeNwnZZK1r1XQysX3xurLU">
  <meta name="google-site-verification" content="ZzhVyEFwb7w3e0-uOTltm8Jsck2F5StVihD0exw2fsA">
  <meta name="google-site-verification" content="GXs5KoUUkNCoaAZn7wPN-t01Pywp9M3sEjnt_3_ZWPc">
  <meta name="google-site-verification" content="Apib7-x98H0j5cPqHWwSMm6dNU4GmODRoqxLiDzdx9I">

<meta name="octolytics-url" content="https://collector.github.com/github/collect" /><meta name="octolytics-actor-id" content="66321559" /><meta name="octolytics-actor-login" content="4019charan" /><meta name="octolytics-actor-hash" content="607cafe9e3e8b23c805b50a849e1b229a8691226e61b106fd4b8ca39a1a898f2" />

  <meta name="analytics-location" content="/&lt;user-name&gt;/&lt;repo-name&gt;/blob/show" data-turbo-transient="true" />

  




  

    <meta name="user-login" content="4019charan">

  <link rel="sudo-modal" href="/sessions/sudo_modal">

    <meta name="viewport" content="width=device-width">
    
      <meta name="description" content="Contribute to 4019charan/4019charan development by creating an account on GitHub.">
      <link rel="search" type="application/opensearchdescription+xml" href="/opensearch.xml" title="GitHub">
    <link rel="fluid-icon" href="https://github.com/fluidicon.png" title="GitHub">
    <meta property="fb:app_id" content="1401488693436528">
    <meta name="apple-itunes-app" content="app-id=1477376905, app-argument=https://github.com/4019charan/4019charan/blob/main/dl_intro.ipynb" />
      <meta name="twitter:image:src" content="https://opengraph.githubassets.com/76bd5f76c4c1e68fa591f5027d10b892c9d0684be35c84921b9c1eca93307ae6/4019charan/4019charan" /><meta name="twitter:site" content="@github" /><meta name="twitter:card" content="summary_large_image" /><meta name="twitter:title" content="4019charan/dl_intro.ipynb at main · 4019charan/4019charan" /><meta name="twitter:description" content="Contribute to 4019charan/4019charan development by creating an account on GitHub." />
      <meta property="og:image" content="https://opengraph.githubassets.com/76bd5f76c4c1e68fa591f5027d10b892c9d0684be35c84921b9c1eca93307ae6/4019charan/4019charan" /><meta property="og:image:alt" content="Contribute to 4019charan/4019charan development by creating an account on GitHub." /><meta property="og:image:width" content="1200" /><meta property="og:image:height" content="600" /><meta property="og:site_name" content="GitHub" /><meta property="og:type" content="object" /><meta property="og:title" content="4019charan/dl_intro.ipynb at main · 4019charan/4019charan" /><meta property="og:url" content="https://github.com/4019charan/4019charan/blob/main/dl_intro.ipynb" /><meta property="og:description" content="Contribute to 4019charan/4019charan development by creating an account on GitHub." />
      

      <link rel="shared-web-socket" href="wss://alive.github.com/_sockets/u/66321559/ws?session=eyJ2IjoiVjMiLCJ1Ijo2NjMyMTU1OSwicyI6MTE5NTE4NDQwMCwiYyI6NTE1MjY0NTMyLCJ0IjoxNjk0MDE0NTA4fQ==--5fd44c4f99feed3773135e353e8bbb123200a782b1c0ce95ad011aa83e8c3276" data-refresh-url="/_alive" data-session-id="80f419dedb11af1ba4707352770dcb441fc07f9388b9ef8fd6ef32687b406237">
      <link rel="shared-web-socket-src" href="/assets-cdn/worker/socket-worker-71e98f781d79.js">


        <meta name="hostname" content="github.com">


      <meta name="keyboard-shortcuts-preference" content="all">

        <meta name="expected-hostname" content="github.com">


  <meta http-equiv="x-pjax-version" content="0f15474131a9cbe71854304fc7562b31a8f61ca21fe8955555a94a074a7b05ec" data-turbo-track="reload">
  <meta http-equiv="x-pjax-csp-version" content="892c9b6e6279a06cccd6d1ca216dbd09218b81db6cf120890eda9982f4c21270" data-turbo-track="reload">
  <meta http-equiv="x-pjax-css-version" content="7105049cbd7fd6987856e205be00a261e049ad32a3b48ed09ac48bbc17461f89" data-turbo-track="reload">
  <meta http-equiv="x-pjax-js-version" content="6e78ad5c51360f07b1b5b64c3aa4f9ae53107025385739cb23dca9708f8663e8" data-turbo-track="reload">

  <meta name="turbo-cache-control" content="no-preview" data-turbo-transient="">

      <meta name="turbo-cache-control" content="no-cache" data-turbo-transient>
    <meta data-hydrostats="publish">

  <meta name="go-import" content="github.com/4019charan/4019charan git https://github.com/4019charan/4019charan.git">

  <meta name="octolytics-dimension-user_id" content="66321559" /><meta name="octolytics-dimension-user_login" content="4019charan" /><meta name="octolytics-dimension-repository_id" content="654778635" /><meta name="octolytics-dimension-repository_nwo" content="4019charan/4019charan" /><meta name="octolytics-dimension-repository_public" content="true" /><meta name="octolytics-dimension-repository_is_fork" content="false" /><meta name="octolytics-dimension-repository_network_root_id" content="654778635" /><meta name="octolytics-dimension-repository_network_root_nwo" content="4019charan/4019charan" />



  <meta name="turbo-body-classes" content="logged-in env-production page-responsive">


  <meta name="browser-stats-url" content="https://api.github.com/_private/browser/stats">

  <meta name="browser-errors-url" content="https://api.github.com/_private/browser/errors">

  <meta name="browser-optimizely-client-errors-url" content="https://api.github.com/_private/browser/optimizely_client/errors">

  <link rel="mask-icon" href="https://github.githubassets.com/pinned-octocat.svg" color="#000000">
  <link rel="alternate icon" class="js-site-favicon" type="image/png" href="https://github.githubassets.com/favicons/favicon.png">
  <link rel="icon" class="js-site-favicon" type="image/svg+xml" href="https://github.githubassets.com/favicons/favicon.svg">

<meta name="theme-color" content="#1e2327">
<meta name="color-scheme" content="light dark" />


  <link rel="manifest" href="/manifest.json" crossOrigin="use-credentials">

  </head>

  <body class="logged-in env-production page-responsive" style="word-wrap: break-word;">
    <div data-turbo-body class="logged-in env-production page-responsive" style="word-wrap: break-word;">
      


    <div class="position-relative js-header-wrapper ">
      <a href="#start-of-content" class="p-3 color-bg-accent-emphasis color-fg-on-emphasis show-on-focus js-skip-to-content">Skip to content</a>
      <span data-view-component="true" class="progress-pjax-loader Progress position-fixed width-full">
    <span style="width: 0%;" data-view-component="true" class="Progress-item progress-pjax-loader-bar left-0 top-0 color-bg-accent-emphasis"></span>
</span>      
      


      

        <script crossorigin="anonymous" defer="defer" type="application/javascript" src="https://github.githubassets.com/assets/vendors-node_modules_allex_crc32_lib_crc32_esm_js-node_modules_github_clipboard-copy-element_-2da1d5-ca2e742c29fb.js"></script>
<script crossorigin="anonymous" defer="defer" type="application/javascript" src="https://github.githubassets.com/assets/app_assets_modules_github_command-palette_items_help-item_ts-app_assets_modules_github_comman-48ad9d-b83fa12e3a83.js"></script>
<script crossorigin="anonymous" defer="defer" type="application/javascript" src="https://github.githubassets.com/assets/command-palette-0ae4aa129961.js"></script>

            <header class="AppHeader">
    

    <div class="AppHeader-globalBar pb-2 js-global-bar">
      <div class="AppHeader-globalBar-start">
          <deferred-side-panel data-url="/_side-panels/global">
  <include-fragment data-target="deferred-side-panel.fragment">
      
  <button aria-label="Open global navigation menu" data-action="click:deferred-side-panel#loadPanel click:deferred-side-panel#panelOpened" data-show-dialog-id="dialog-19c1d2b8-05f0-432f-95a8-b4df5dcb30e8" id="dialog-show-dialog-19c1d2b8-05f0-432f-95a8-b4df5dcb30e8" type="button" data-view-component="true" class="Button Button--iconOnly Button--secondary Button--medium AppHeader-button color-bg-transparent p-0 color-fg-muted">    <svg aria-hidden="true" height="16" viewBox="0 0 16 16" version="1.1" width="16" data-view-component="true" class="octicon octicon-three-bars Button-visual">
    <path d="M1 2.75A.75.75 0 0 1 1.75 2h12.5a.75.75 0 0 1 0 1.5H1.75A.75.75 0 0 1 1 2.75Zm0 5A.75.75 0 0 1 1.75 7h12.5a.75.75 0 0 1 0 1.5H1.75A.75.75 0 0 1 1 7.75ZM1.75 12h12.5a.75.75 0 0 1 0 1.5H1.75a.75.75 0 0 1 0-1.5Z"></path>
</svg>
</button>  

<div class="Overlay--hidden Overlay-backdrop--side Overlay-backdrop--placement-left" data-modal-dialog-overlay>
  <modal-dialog data-target="deferred-side-panel.panel" role="dialog" id="dialog-19c1d2b8-05f0-432f-95a8-b4df5dcb30e8" aria-modal="true" aria-disabled="true" aria-labelledby="dialog-19c1d2b8-05f0-432f-95a8-b4df5dcb30e8-title" aria-describedby="dialog-19c1d2b8-05f0-432f-95a8-b4df5dcb30e8-description" data-view-component="true" class="Overlay Overlay-whenNarrow Overlay--size-small-portrait Overlay--motion-scaleFade SidePanel">
    <div styles="flex-direction: row;" data-view-component="true" class="Overlay-header">
  <div class="Overlay-headerContentWrap">
    <div class="Overlay-titleWrap">
      <h1 class="Overlay-title sr-only" id="dialog-19c1d2b8-05f0-432f-95a8-b4df5dcb30e8-title">
        Global navigation
      </h1>
            <div data-view-component="true" class="d-flex">
      <div data-view-component="true" class="AppHeader-logo position-relative">
        <svg aria-hidden="true" height="24" viewBox="0 0 16 16" version="1.1" width="24" data-view-component="true" class="octicon octicon-mark-github">
    <path d="M8 0c4.42 0 8 3.58 8 8a8.013 8.013 0 0 1-5.45 7.59c-.4.08-.55-.17-.55-.38 0-.27.01-1.13.01-2.2 0-.75-.25-1.23-.54-1.48 1.78-.2 3.65-.88 3.65-3.95 0-.88-.31-1.59-.82-2.15.08-.2.36-1.02-.08-2.12 0 0-.67-.22-2.2.82-.64-.18-1.32-.27-2-.27-.68 0-1.36.09-2 .27-1.53-1.03-2.2-.82-2.2-.82-.44 1.1-.16 1.92-.08 2.12-.51.56-.82 1.28-.82 2.15 0 3.06 1.86 3.75 3.64 3.95-.23.2-.44.55-.51 1.07-.46.21-1.61.55-2.33-.66-.15-.24-.6-.83-1.23-.82-.67.01-.27.38.01.53.34.19.73.9.82 1.13.16.45.68 1.31 2.69.94 0 .67.01 1.3.01 1.49 0 .21-.15.45-.55.38A7.995 7.995 0 0 1 0 8c0-4.42 3.58-8 8-8Z"></path>
</svg>
</div></div>
    </div>
    <div class="Overlay-actionWrap">
      <button data-close-dialog-id="dialog-19c1d2b8-05f0-432f-95a8-b4df5dcb30e8" aria-label="Close" type="button" data-view-component="true" class="close-button Overlay-closeButton"><svg aria-hidden="true" height="16" viewBox="0 0 16 16" version="1.1" width="16" data-view-component="true" class="octicon octicon-x">
    <path d="M3.72 3.72a.75.75 0 0 1 1.06 0L8 6.94l3.22-3.22a.749.749 0 0 1 1.275.326.749.749 0 0 1-.215.734L9.06 8l3.22 3.22a.749.749 0 0 1-.326 1.275.749.749 0 0 1-.734-.215L8 9.06l-3.22 3.22a.751.751 0 0 1-1.042-.018.751.751 0 0 1-.018-1.042L6.94 8 3.72 4.78a.75.75 0 0 1 0-1.06Z"></path>
</svg></button>
    </div>
  </div>
</div>
      <div data-view-component="true" class="Overlay-body d-flex flex-column height-full px-2">      <nav aria-label="Site navigation" data-view-component="true" class="ActionList">
  
  <nav-list>
    <ul data-view-component="true" class="ActionListWrap">
        
          
<li item_id="general" data-item-id="" data-targets="nav-list.items" data-view-component="true" class="ActionListItem">
    
    <a data-hotkey="g d" data-analytics-event="{&quot;category&quot;:&quot;Global navigation&quot;,&quot;action&quot;:&quot;HOME&quot;,&quot;label&quot;:null}" id="item-1d26e838-1290-4726-a5aa-472a8a3f6aa7" href="/dashboard" data-view-component="true" class="ActionListContent ActionListContent--visual16">
        <span class="ActionListItem-visual ActionListItem-visual--leading">
          <svg aria-hidden="true" height="16" viewBox="0 0 16 16" version="1.1" width="16" data-view-component="true" class="octicon octicon-home">
    <path d="M6.906.664a1.749 1.749 0 0 1 2.187 0l5.25 4.2c.415.332.657.835.657 1.367v7.019A1.75 1.75 0 0 1 13.25 15h-3.5a.75.75 0 0 1-.75-.75V9H7v5.25a.75.75 0 0 1-.75.75h-3.5A1.75 1.75 0 0 1 1 13.25V6.23c0-.531.242-1.034.657-1.366l5.25-4.2Zm1.25 1.171a.25.25 0 0 0-.312 0l-5.25 4.2a.25.25 0 0 0-.094.196v7.019c0 .138.112.25.25.25H5.5V8.25a.75.75 0 0 1 .75-.75h3.5a.75.75 0 0 1 .75.75v5.25h2.75a.25.25 0 0 0 .25-.25V6.23a.25.25 0 0 0-.094-.195Z"></path>
</svg>
        </span>
      
        <span data-view-component="true" class="ActionListItem-label">
          Home
</span></a>
  
  
</li>

        
          
<li item_id="personal_info" data-item-id="" data-targets="nav-list.items" data-view-component="true" class="ActionListItem">
    
    <a data-hotkey="g i" data-analytics-event="{&quot;category&quot;:&quot;Global navigation&quot;,&quot;action&quot;:&quot;ISSUES&quot;,&quot;label&quot;:null}" id="item-714d862c-5e17-40ee-ab82-bbf0f64f029e" href="/issues" data-view-component="true" class="ActionListContent ActionListContent--visual16">
        <span class="ActionListItem-visual ActionListItem-visual--leading">
          <svg aria-hidden="true" height="16" viewBox="0 0 16 16" version="1.1" width="16" data-view-component="true" class="octicon octicon-issue-opened">
    <path d="M8 9.5a1.5 1.5 0 1 0 0-3 1.5 1.5 0 0 0 0 3Z"></path><path d="M8 0a8 8 0 1 1 0 16A8 8 0 0 1 8 0ZM1.5 8a6.5 6.5 0 1 0 13 0 6.5 6.5 0 0 0-13 0Z"></path>
</svg>
        </span>
      
        <span data-view-component="true" class="ActionListItem-label">
          Issues
</span></a>
  
  
</li>

        
          
<li item_id="password" data-item-id="" data-targets="nav-list.items" data-view-component="true" class="ActionListItem">
    
    <a data-hotkey="g p" data-analytics-event="{&quot;category&quot;:&quot;Global navigation&quot;,&quot;action&quot;:&quot;PULL_REQUESTS&quot;,&quot;label&quot;:null}" id="item-13344373-c1d7-4dfd-aa77-eb87d1b9ab8b" href="/pulls" data-view-component="true" class="ActionListContent ActionListContent--visual16">
        <span class="ActionListItem-visual ActionListItem-visual--leading">
          <svg aria-hidden="true" height="16" viewBox="0 0 16 16" version="1.1" width="16" data-view-component="true" class="octicon octicon-git-pull-request">
    <path d="M1.5 3.25a2.25 2.25 0 1 1 3 2.122v5.256a2.251 2.251 0 1 1-1.5 0V5.372A2.25 2.25 0 0 1 1.5 3.25Zm5.677-.177L9.573.677A.25.25 0 0 1 10 .854V2.5h1A2.5 2.5 0 0 1 13.5 5v5.628a2.251 2.251 0 1 1-1.5 0V5a1 1 0 0 0-1-1h-1v1.646a.25.25 0 0 1-.427.177L7.177 3.427a.25.25 0 0 1 0-.354ZM3.75 2.5a.75.75 0 1 0 0 1.5.75.75 0 0 0 0-1.5Zm0 9.5a.75.75 0 1 0 0 1.5.75.75 0 0 0 0-1.5Zm8.25.75a.75.75 0 1 0 1.5 0 .75.75 0 0 0-1.5 0Z"></path>
</svg>
        </span>
      
        <span data-view-component="true" class="ActionListItem-label">
          Pull requests
</span></a>
  
  
</li>

        
          
<li item_id="billing" data-item-id="" data-targets="nav-list.items" data-view-component="true" class="ActionListItem">
    
    <a data-analytics-event="{&quot;category&quot;:&quot;Global navigation&quot;,&quot;action&quot;:&quot;DISCUSSIONS&quot;,&quot;label&quot;:null}" id="item-09c87101-73f2-49a6-b996-0d2b9b5b2fd6" href="/discussions" data-view-component="true" class="ActionListContent ActionListContent--visual16">
        <span class="ActionListItem-visual ActionListItem-visual--leading">
          <svg aria-hidden="true" height="16" viewBox="0 0 16 16" version="1.1" width="16" data-view-component="true" class="octicon octicon-comment-discussion">
    <path d="M1.75 1h8.5c.966 0 1.75.784 1.75 1.75v5.5A1.75 1.75 0 0 1 10.25 10H7.061l-2.574 2.573A1.458 1.458 0 0 1 2 11.543V10h-.25A1.75 1.75 0 0 1 0 8.25v-5.5C0 1.784.784 1 1.75 1ZM1.5 2.75v5.5c0 .138.112.25.25.25h1a.75.75 0 0 1 .75.75v2.19l2.72-2.72a.749.749 0 0 1 .53-.22h3.5a.25.25 0 0 0 .25-.25v-5.5a.25.25 0 0 0-.25-.25h-8.5a.25.25 0 0 0-.25.25Zm13 2a.25.25 0 0 0-.25-.25h-.5a.75.75 0 0 1 0-1.5h.5c.966 0 1.75.784 1.75 1.75v5.5A1.75 1.75 0 0 1 14.25 12H14v1.543a1.458 1.458 0 0 1-2.487 1.03L9.22 12.28a.749.749 0 0 1 .326-1.275.749.749 0 0 1 .734.215l2.22 2.22v-2.19a.75.75 0 0 1 .75-.75h1a.25.25 0 0 0 .25-.25Z"></path>
</svg>
        </span>
      
        <span data-view-component="true" class="ActionListItem-label">
          Discussions
</span></a>
  
  
</li>

</ul>  </nav-list>
</nav>

      <div data-view-component="true" class="my-3 d-flex flex-justify-center height-full">
        <svg style="box-sizing: content-box; color: var(--color-icon-primary);" width="16" height="16" viewBox="0 0 16 16" fill="none" data-view-component="true" class="anim-rotate">
  <circle cx="8" cy="8" r="7" stroke="currentColor" stroke-opacity="0.25" stroke-width="2" vector-effect="non-scaling-stroke" />
  <path d="M15 8a7.002 7.002 0 00-7-7" stroke="currentColor" stroke-width="2" stroke-linecap="round" vector-effect="non-scaling-stroke" />
</svg>
</div>
</div>
      <div data-view-component="true" class="Overlay-footer Overlay-footer--alignEnd d-block pt-0">      <li role="presentation" aria-hidden="true" data-view-component="true" class="ActionList-sectionDivider mt-0 mb-1"></li>

        <nav aria-label="Additional navigation" data-view-component="true" class="ActionList px-0 flex-1">
  
  <nav-list>
    <ul data-view-component="true" class="ActionListWrap">
        
          
<li item_id="general" data-item-id="" data-targets="nav-list.items" data-view-component="true" class="ActionListItem">
    
    <a data-analytics-event="{&quot;category&quot;:&quot;Global navigation&quot;,&quot;action&quot;:&quot;EXPLORE&quot;,&quot;label&quot;:null}" id="item-2a06b8ea-192d-4ebc-8a6c-bc2b6ffe4475" href="/explore" data-view-component="true" class="ActionListContent ActionListContent--visual16">
        <span class="ActionListItem-visual ActionListItem-visual--leading">
          <svg aria-hidden="true" height="16" viewBox="0 0 16 16" version="1.1" width="16" data-view-component="true" class="octicon octicon-telescope">
    <path d="M14.184 1.143v-.001l1.422 2.464a1.75 1.75 0 0 1-.757 2.451L3.104 11.713a1.75 1.75 0 0 1-2.275-.702l-.447-.775a1.75 1.75 0 0 1 .53-2.32L11.682.573a1.748 1.748 0 0 1 2.502.57Zm-4.709 9.32h-.001l2.644 3.863a.75.75 0 1 1-1.238.848l-1.881-2.75v2.826a.75.75 0 0 1-1.5 0v-2.826l-1.881 2.75a.75.75 0 1 1-1.238-.848l2.049-2.992a.746.746 0 0 1 .293-.253l1.809-.87a.749.749 0 0 1 .944.252ZM9.436 3.92h-.001l-4.97 3.39.942 1.63 5.42-2.61Zm3.091-2.108h.001l-1.85 1.26 1.505 2.605 2.016-.97a.247.247 0 0 0 .13-.151.247.247 0 0 0-.022-.199l-1.422-2.464a.253.253 0 0 0-.161-.119.254.254 0 0 0-.197.038ZM1.756 9.157a.25.25 0 0 0-.075.33l.447.775a.25.25 0 0 0 .325.1l1.598-.769-.83-1.436-1.465 1Z"></path>
</svg>
        </span>
      
        <span data-view-component="true" class="ActionListItem-label">
          Explore
</span></a>
  
  
</li>

        
          
<li item_id="general" data-item-id="" data-targets="nav-list.items" data-view-component="true" class="ActionListItem">
    
    <a data-analytics-event="{&quot;category&quot;:&quot;Global navigation&quot;,&quot;action&quot;:&quot;MARKETPLACE&quot;,&quot;label&quot;:null}" id="item-c7889fc5-0055-47b1-aebd-b19fea1d92a4" href="/marketplace" data-view-component="true" class="ActionListContent ActionListContent--visual16">
        <span class="ActionListItem-visual ActionListItem-visual--leading">
          <svg aria-hidden="true" height="16" viewBox="0 0 16 16" version="1.1" width="16" data-view-component="true" class="octicon octicon-gift">
    <path d="M2 2.75A2.75 2.75 0 0 1 4.75 0c.983 0 1.873.42 2.57 1.232.268.318.497.668.68 1.042.183-.375.411-.725.68-1.044C9.376.42 10.266 0 11.25 0a2.75 2.75 0 0 1 2.45 4h.55c.966 0 1.75.784 1.75 1.75v2c0 .698-.409 1.301-1 1.582v4.918A1.75 1.75 0 0 1 13.25 16H2.75A1.75 1.75 0 0 1 1 14.25V9.332C.409 9.05 0 8.448 0 7.75v-2C0 4.784.784 4 1.75 4h.55c-.192-.375-.3-.8-.3-1.25ZM7.25 9.5H2.5v4.75c0 .138.112.25.25.25h4.5Zm1.5 0v5h4.5a.25.25 0 0 0 .25-.25V9.5Zm0-4V8h5.5a.25.25 0 0 0 .25-.25v-2a.25.25 0 0 0-.25-.25Zm-7 0a.25.25 0 0 0-.25.25v2c0 .138.112.25.25.25h5.5V5.5h-5.5Zm3-4a1.25 1.25 0 0 0 0 2.5h2.309c-.233-.818-.542-1.401-.878-1.793-.43-.502-.915-.707-1.431-.707ZM8.941 4h2.309a1.25 1.25 0 0 0 0-2.5c-.516 0-1 .205-1.43.707-.337.392-.646.975-.879 1.793Z"></path>
</svg>
        </span>
      
        <span data-view-component="true" class="ActionListItem-label">
          Marketplace
</span></a>
  
  
</li>

        
          
<li item_id="feedback" data-item-id="" data-targets="nav-list.items" data-view-component="true" class="ActionListItem">
    
    <a data-analytics-event="{&quot;category&quot;:&quot;Global navigation&quot;,&quot;action&quot;:&quot;FEEDBACK&quot;,&quot;label&quot;:null}" id="item-e01d83ed-3d0f-4863-ab70-25b64e365cc7" href="https://gh.io/navigation-update" data-view-component="true" class="ActionListContent ActionListContent--visual16">
        <span class="ActionListItem-visual ActionListItem-visual--leading">
          <svg aria-hidden="true" height="16" viewBox="0 0 16 16" version="1.1" width="16" data-view-component="true" class="octicon octicon-comment-discussion">
    <path d="M1.75 1h8.5c.966 0 1.75.784 1.75 1.75v5.5A1.75 1.75 0 0 1 10.25 10H7.061l-2.574 2.573A1.458 1.458 0 0 1 2 11.543V10h-.25A1.75 1.75 0 0 1 0 8.25v-5.5C0 1.784.784 1 1.75 1ZM1.5 2.75v5.5c0 .138.112.25.25.25h1a.75.75 0 0 1 .75.75v2.19l2.72-2.72a.749.749 0 0 1 .53-.22h3.5a.25.25 0 0 0 .25-.25v-5.5a.25.25 0 0 0-.25-.25h-8.5a.25.25 0 0 0-.25.25Zm13 2a.25.25 0 0 0-.25-.25h-.5a.75.75 0 0 1 0-1.5h.5c.966 0 1.75.784 1.75 1.75v5.5A1.75 1.75 0 0 1 14.25 12H14v1.543a1.458 1.458 0 0 1-2.487 1.03L9.22 12.28a.749.749 0 0 1 .326-1.275.749.749 0 0 1 .734.215l2.22 2.22v-2.19a.75.75 0 0 1 .75-.75h1a.25.25 0 0 0 .25-.25Z"></path>
</svg>
        </span>
      
        <span data-view-component="true" class="ActionListItem-label">
          Give new navigation feedback
</span>        <span class="ActionListItem-visual ActionListItem-visual--trailing">
          <span title="Beta" data-view-component="true" class="Counter color-bg-default color-border-success-emphasis color-fg-success">Beta</span>
        </span>
</a>
  
  
</li>

</ul>  </nav-list>
</nav>

      <div data-view-component="true" class="px-2">      <p class="color-fg-subtle text-small text-light">&copy; 2023 GitHub, Inc.</p>

      <div data-view-component="true" class="d-flex text-small text-light">
          <a target="_blank" href="/about" data-view-component="true" class="Link no-underline mr-2">About</a>
          <a target="_blank" href="https://github.blog" data-view-component="true" class="Link no-underline mr-2">Blog</a>
          <a target="_blank" href="https://docs.github.com/site-policy/github-terms/github-terms-of-service" data-view-component="true" class="Link no-underline mr-2">Terms</a>
          <a target="_blank" href="https://docs.github.com/site-policy/privacy-policies/github-privacy-statement" data-view-component="true" class="Link no-underline mr-2">Privacy</a>
          <a target="_blank" href="/security" data-view-component="true" class="Link no-underline mr-2">Security</a>
        <a target="_blank" href="https://www.githubstatus.com/" data-view-component="true" class="Link no-underline mr-3">Status</a>
</div></div>
</div>
</modal-dialog></div>

  </include-fragment>
</deferred-side-panel>

        <a
          class="AppHeader-logo ml-2"
          href="https://github.com/"
          data-hotkey="g d"
          aria-label="Homepage "
          data-turbo="false"
          data-analytics-event="{&quot;category&quot;:&quot;Header&quot;,&quot;action&quot;:&quot;go to dashboard&quot;,&quot;label&quot;:&quot;icon:logo&quot;}"
        >
          <svg height="32" aria-hidden="true" viewBox="0 0 16 16" version="1.1" width="32" data-view-component="true" class="octicon octicon-mark-github v-align-middle color-fg-default">
    <path d="M8 0c4.42 0 8 3.58 8 8a8.013 8.013 0 0 1-5.45 7.59c-.4.08-.55-.17-.55-.38 0-.27.01-1.13.01-2.2 0-.75-.25-1.23-.54-1.48 1.78-.2 3.65-.88 3.65-3.95 0-.88-.31-1.59-.82-2.15.08-.2.36-1.02-.08-2.12 0 0-.67-.22-2.2.82-.64-.18-1.32-.27-2-.27-.68 0-1.36.09-2 .27-1.53-1.03-2.2-.82-2.2-.82-.44 1.1-.16 1.92-.08 2.12-.51.56-.82 1.28-.82 2.15 0 3.06 1.86 3.75 3.64 3.95-.23.2-.44.55-.51 1.07-.46.21-1.61.55-2.33-.66-.15-.24-.6-.83-1.23-.82-.67.01-.27.38.01.53.34.19.73.9.82 1.13.16.45.68 1.31 2.69.94 0 .67.01 1.3.01 1.49 0 .21-.15.45-.55.38A7.995 7.995 0 0 1 0 8c0-4.42 3.58-8 8-8Z"></path>
</svg>
        </a>

          <div class="AppHeader-context" >
  <div class="AppHeader-context-compact">
        <button aria-expanded="false" aria-haspopup="dialog" aria-label="Page context: 4019charan / 4019charan" id="dialog-show-context-region-dialog" data-show-dialog-id="context-region-dialog" type="button" data-view-component="true" class="AppHeader-context-compact-trigger Truncate Button--secondary Button--medium Button box-shadow-none">    <span class="Button-content">
      <span class="Button-label"><span class="AppHeader-context-compact-lead">
                <span class="AppHeader-context-compact-parentItem">4019charan</span>
                <span class="AppHeader-context-compact-separator">&nbsp;/</span>

            </span>

            <strong class="AppHeader-context-compact-mainItem d-flex flex-items-center Truncate" >
  <span class="Truncate-text ">4019charan</span>

</strong></span>
    </span>
</button>  

<div class="Overlay--hidden Overlay-backdrop--center" data-modal-dialog-overlay>
  <modal-dialog role="dialog" id="context-region-dialog" aria-modal="true" aria-disabled="true" aria-labelledby="context-region-dialog-title" aria-describedby="context-region-dialog-description" data-view-component="true" class="Overlay Overlay-whenNarrow Overlay--size-medium Overlay--motion-scaleFade">
    <div data-view-component="true" class="Overlay-header">
  <div class="Overlay-headerContentWrap">
    <div class="Overlay-titleWrap">
      <h1 class="Overlay-title " id="context-region-dialog-title">
        Navigate back to
      </h1>
    </div>
    <div class="Overlay-actionWrap">
      <button data-close-dialog-id="context-region-dialog" aria-label="Close" type="button" data-view-component="true" class="close-button Overlay-closeButton"><svg aria-hidden="true" height="16" viewBox="0 0 16 16" version="1.1" width="16" data-view-component="true" class="octicon octicon-x">
    <path d="M3.72 3.72a.75.75 0 0 1 1.06 0L8 6.94l3.22-3.22a.749.749 0 0 1 1.275.326.749.749 0 0 1-.215.734L9.06 8l3.22 3.22a.749.749 0 0 1-.326 1.275.749.749 0 0 1-.734-.215L8 9.06l-3.22 3.22a.751.751 0 0 1-1.042-.018.751.751 0 0 1-.018-1.042L6.94 8 3.72 4.78a.75.75 0 0 1 0-1.06Z"></path>
</svg></button>
    </div>
  </div>
</div>
      <div data-view-component="true" class="Overlay-body">          <ul role="list" class="list-style-none" >
    <li>
      <a data-analytics-event="{&quot;category&quot;:&quot;SiteHeaderComponent&quot;,&quot;action&quot;:&quot;context_region_crumb&quot;,&quot;label&quot;:&quot;4019charan&quot;,&quot;screen_size&quot;:&quot;compact&quot;}" href="/4019charan" data-view-component="true" class="Link--primary Truncate d-flex flex-items-center py-1">
        <span class="AppHeader-context-item-label Truncate-text ">
            <svg aria-hidden="true" height="12" viewBox="0 0 16 16" version="1.1" width="12" data-view-component="true" class="octicon octicon-person mr-1">
    <path d="M10.561 8.073a6.005 6.005 0 0 1 3.432 5.142.75.75 0 1 1-1.498.07 4.5 4.5 0 0 0-8.99 0 .75.75 0 0 1-1.498-.07 6.004 6.004 0 0 1 3.431-5.142 3.999 3.999 0 1 1 5.123 0ZM10.5 5a2.5 2.5 0 1 0-5 0 2.5 2.5 0 0 0 5 0Z"></path>
</svg>

          4019charan
        </span>

</a>
    </li>
    <li>
      <a data-analytics-event="{&quot;category&quot;:&quot;SiteHeaderComponent&quot;,&quot;action&quot;:&quot;context_region_crumb&quot;,&quot;label&quot;:&quot;4019charan&quot;,&quot;screen_size&quot;:&quot;compact&quot;}" href="/4019charan/4019charan" data-view-component="true" class="Link--primary Truncate d-flex flex-items-center py-1">
        <span class="AppHeader-context-item-label Truncate-text ">
            <svg aria-hidden="true" height="12" viewBox="0 0 16 16" version="1.1" width="12" data-view-component="true" class="octicon octicon-repo mr-1">
    <path d="M2 2.5A2.5 2.5 0 0 1 4.5 0h8.75a.75.75 0 0 1 .75.75v12.5a.75.75 0 0 1-.75.75h-2.5a.75.75 0 0 1 0-1.5h1.75v-2h-8a1 1 0 0 0-.714 1.7.75.75 0 1 1-1.072 1.05A2.495 2.495 0 0 1 2 11.5Zm10.5-1h-8a1 1 0 0 0-1 1v6.708A2.486 2.486 0 0 1 4.5 9h8ZM5 12.25a.25.25 0 0 1 .25-.25h3.5a.25.25 0 0 1 .25.25v3.25a.25.25 0 0 1-.4.2l-1.45-1.087a.249.249 0 0 0-.3 0L5.4 15.7a.25.25 0 0 1-.4-.2Z"></path>
</svg>

          4019charan
        </span>

</a>
    </li>
</ul>

</div>
      
</modal-dialog></div>
  </div>

  <div class="AppHeader-context-full">
    <nav role="navigation" aria-label="Page context">
      <ul role="list" class="list-style-none" >
    <li>
      <a data-analytics-event="{&quot;category&quot;:&quot;SiteHeaderComponent&quot;,&quot;action&quot;:&quot;context_region_crumb&quot;,&quot;label&quot;:&quot;4019charan&quot;,&quot;screen_size&quot;:&quot;full&quot;}" data-hovercard-type="user" data-hovercard-url="/users/4019charan/hovercard" data-octo-click="hovercard-link-click" data-octo-dimensions="link_type:self" href="/4019charan" data-view-component="true" class="AppHeader-context-item">
        <span class="AppHeader-context-item-label  ">

          4019charan
        </span>

</a>
        <span class="AppHeader-context-item-separator">/</span>
    </li>
    <li>
      <a data-analytics-event="{&quot;category&quot;:&quot;SiteHeaderComponent&quot;,&quot;action&quot;:&quot;context_region_crumb&quot;,&quot;label&quot;:&quot;4019charan&quot;,&quot;screen_size&quot;:&quot;full&quot;}" href="/4019charan/4019charan" data-view-component="true" class="AppHeader-context-item">
        <span class="AppHeader-context-item-label  ">

          4019charan
        </span>

</a>
    </li>
</ul>

    </nav>
  </div>
</div>

      </div>
      <div class="AppHeader-globalBar-end">
          <div class="AppHeader-search" >
              


<qbsearch-input class="search-input" data-scope="repo:4019charan/4019charan" data-custom-scopes-path="/search/custom_scopes" data-delete-custom-scopes-csrf="K1N6JYPj2L50qgCc8uj1c5CaoCUpgtbC4MRTmrU4w-OWpAyf8r7NZ8JsgZhiaEKq9Xyu8ItugWOJSqpJBRiciA" data-max-custom-scopes="10" data-header-redesign-enabled="true" data-initial-value="" data-blackbird-suggestions-path="/search/suggestions" data-jump-to-suggestions-path="/_graphql/GetSuggestedNavigationDestinations" data-current-repository="4019charan/4019charan" data-current-org="" data-current-owner="4019charan" data-logged-in="true">
  <div
    class="search-input-container search-with-dialog position-relative d-flex flex-row flex-items-center height-auto color-bg-transparent border-0 color-fg-subtle mx-0"
    data-action="click:qbsearch-input#searchInputContainerClicked"
  >
      
            <button type="button" data-action="click:qbsearch-input#handleExpand" class="AppHeader-button AppHeader-search-whenNarrow" aria-label="Search or jump to…" aria-expanded="false" aria-haspopup="dialog">
            <svg aria-hidden="true" height="16" viewBox="0 0 16 16" version="1.1" width="16" data-view-component="true" class="octicon octicon-search">
    <path d="M10.68 11.74a6 6 0 0 1-7.922-8.982 6 6 0 0 1 8.982 7.922l3.04 3.04a.749.749 0 0 1-.326 1.275.749.749 0 0 1-.734-.215ZM11.5 7a4.499 4.499 0 1 0-8.997 0A4.499 4.499 0 0 0 11.5 7Z"></path>
</svg>
          </button>


<div class="AppHeader-search-whenRegular">
  <div class="AppHeader-search-wrap AppHeader-search-wrap--hasTrailing">
    <div class="AppHeader-search-control">
      <label
        for="AppHeader-searchInput"
        aria-label="Search or jump to…"
        class="AppHeader-search-visual--leading"
      >
        <svg aria-hidden="true" height="16" viewBox="0 0 16 16" version="1.1" width="16" data-view-component="true" class="octicon octicon-search">
    <path d="M10.68 11.74a6 6 0 0 1-7.922-8.982 6 6 0 0 1 8.982 7.922l3.04 3.04a.749.749 0 0 1-.326 1.275.749.749 0 0 1-.734-.215ZM11.5 7a4.499 4.499 0 1 0-8.997 0A4.499 4.499 0 0 0 11.5 7Z"></path>
</svg>
      </label>

                <button
            type="button"
            data-target="qbsearch-input.inputButton"
            data-action="click:qbsearch-input#handleExpand"
            class="AppHeader-searchButton form-control input-contrast text-left color-fg-subtle no-wrap"
            data-hotkey="s,/"
            data-analytics-event="{&quot;category&quot;:&quot;Global navigation&quot;,&quot;action&quot;:&quot;SEARCH&quot;,&quot;label&quot;:null}"
          >
            <div class="overflow-hidden">
              <span id="qb-input-query" data-target="qbsearch-input.inputButtonText">
                  Type <kbd class="AppHeader-search-kbd">/</kbd> to search
              </span>
            </div>
          </button>

    </div>


      <button type="button" id="AppHeader-commandPalette-button" class="AppHeader-search-action--trailing js-activate-command-palette" data-analytics-event="{&quot;category&quot;:&quot;SiteHeaderComponent&quot;,&quot;action&quot;:&quot;command_palette&quot;,&quot;label&quot;:&quot;open command palette&quot;}">
        <svg aria-hidden="true" height="16" viewBox="0 0 16 16" version="1.1" width="16" data-view-component="true" class="octicon octicon-command-palette">
    <path d="m6.354 8.04-4.773 4.773a.75.75 0 1 0 1.061 1.06L7.945 8.57a.75.75 0 0 0 0-1.06L2.642 2.206a.75.75 0 0 0-1.06 1.061L6.353 8.04ZM8.75 11.5a.75.75 0 0 0 0 1.5h5.5a.75.75 0 0 0 0-1.5h-5.5Z"></path>
</svg>
      </button>

      <tool-tip id="tooltip-206ce2a3-bc70-4bbb-850d-f158e07ea5dc" for="AppHeader-commandPalette-button" popover="manual" data-direction="s" data-type="label" data-view-component="true" class="sr-only position-absolute">Command palette</tool-tip>
  </div>
</div>

    <input type="hidden" name="type" class="js-site-search-type-field">

    
<div class="Overlay--hidden " data-modal-dialog-overlay>
  <modal-dialog data-action="close:qbsearch-input#handleClose cancel:qbsearch-input#handleClose" data-target="qbsearch-input.searchSuggestionsDialog" role="dialog" id="search-suggestions-dialog" aria-modal="true" aria-labelledby="search-suggestions-dialog-header" data-view-component="true" class="Overlay Overlay--width-medium Overlay--height-auto">
      <h1 id="search-suggestions-dialog-header" class="sr-only">Search code, repositories, users, issues, pull requests...</h1>
    <div class="Overlay-body Overlay-body--paddingNone">
      
          <div data-view-component="true">        <div class="search-suggestions position-absolute width-full color-shadow-large border color-fg-default color-bg-default overflow-hidden d-flex flex-column query-builder-container"
          style="border-radius: 12px;"
          data-target="qbsearch-input.queryBuilderContainer"
          hidden
        >
          <!-- '"` --><!-- </textarea></xmp> --></option></form><form id="query-builder-test-form" action="" accept-charset="UTF-8" method="get">
  <query-builder data-target="qbsearch-input.queryBuilder" id="query-builder-query-builder-test" data-filter-key=":" data-view-component="true" class="QueryBuilder search-query-builder">
    <div class="FormControl FormControl--fullWidth">
      <label id="query-builder-test-label" for="query-builder-test" class="FormControl-label sr-only">
        Search
      </label>
      <div
        class="QueryBuilder-StyledInput width-fit "
        data-target="query-builder.styledInput"
      >
          <span id="query-builder-test-leadingvisual-wrap" class="FormControl-input-leadingVisualWrap QueryBuilder-leadingVisualWrap">
            <svg aria-hidden="true" height="16" viewBox="0 0 16 16" version="1.1" width="16" data-view-component="true" class="octicon octicon-search FormControl-input-leadingVisual">
    <path d="M10.68 11.74a6 6 0 0 1-7.922-8.982 6 6 0 0 1 8.982 7.922l3.04 3.04a.749.749 0 0 1-.326 1.275.749.749 0 0 1-.734-.215ZM11.5 7a4.499 4.499 0 1 0-8.997 0A4.499 4.499 0 0 0 11.5 7Z"></path>
</svg>
          </span>
        <div data-target="query-builder.styledInputContainer" class="QueryBuilder-StyledInputContainer">
          <div
            aria-hidden="true"
            class="QueryBuilder-StyledInputContent"
            data-target="query-builder.styledInputContent"
          ></div>
          <div class="QueryBuilder-InputWrapper">
            <div aria-hidden="true" class="QueryBuilder-Sizer" data-target="query-builder.sizer"></div>
            <input id="query-builder-test" name="query-builder-test" value="" autocomplete="off" type="text" role="combobox" spellcheck="false" aria-expanded="false" aria-describedby="validation-2c6e8f83-6bcb-4c2d-82d6-ea3ec8126f5a" data-target="query-builder.input" data-action="
          input:query-builder#inputChange
          blur:query-builder#inputBlur
          keydown:query-builder#inputKeydown
          focus:query-builder#inputFocus
        " data-view-component="true" class="FormControl-input QueryBuilder-Input FormControl-medium" />
          </div>
        </div>
          <span class="sr-only" id="query-builder-test-clear">Clear</span>
          
  <button role="button" id="query-builder-test-clear-button" aria-labelledby="query-builder-test-clear query-builder-test-label" data-target="query-builder.clearButton" data-action="
                click:query-builder#clear
                focus:query-builder#clearButtonFocus
                blur:query-builder#clearButtonBlur
              " variant="small" hidden="hidden" type="button" data-view-component="true" class="Button Button--iconOnly Button--invisible Button--medium mr-1 px-2 py-0 d-flex flex-items-center rounded-1 color-fg-muted">    <svg aria-hidden="true" height="16" viewBox="0 0 16 16" version="1.1" width="16" data-view-component="true" class="octicon octicon-x-circle-fill Button-visual">
    <path d="M2.343 13.657A8 8 0 1 1 13.658 2.343 8 8 0 0 1 2.343 13.657ZM6.03 4.97a.751.751 0 0 0-1.042.018.751.751 0 0 0-.018 1.042L6.94 8 4.97 9.97a.749.749 0 0 0 .326 1.275.749.749 0 0 0 .734-.215L8 9.06l1.97 1.97a.749.749 0 0 0 1.275-.326.749.749 0 0 0-.215-.734L9.06 8l1.97-1.97a.749.749 0 0 0-.326-1.275.749.749 0 0 0-.734.215L8 6.94Z"></path>
</svg>
</button>  

      </div>
      <template id="search-icon">
  <svg aria-hidden="true" height="16" viewBox="0 0 16 16" version="1.1" width="16" data-view-component="true" class="octicon octicon-search">
    <path d="M10.68 11.74a6 6 0 0 1-7.922-8.982 6 6 0 0 1 8.982 7.922l3.04 3.04a.749.749 0 0 1-.326 1.275.749.749 0 0 1-.734-.215ZM11.5 7a4.499 4.499 0 1 0-8.997 0A4.499 4.499 0 0 0 11.5 7Z"></path>
</svg>
</template>

<template id="code-icon">
  <svg aria-hidden="true" height="16" viewBox="0 0 16 16" version="1.1" width="16" data-view-component="true" class="octicon octicon-code">
    <path d="m11.28 3.22 4.25 4.25a.75.75 0 0 1 0 1.06l-4.25 4.25a.749.749 0 0 1-1.275-.326.749.749 0 0 1 .215-.734L13.94 8l-3.72-3.72a.749.749 0 0 1 .326-1.275.749.749 0 0 1 .734.215Zm-6.56 0a.751.751 0 0 1 1.042.018.751.751 0 0 1 .018 1.042L2.06 8l3.72 3.72a.749.749 0 0 1-.326 1.275.749.749 0 0 1-.734-.215L.47 8.53a.75.75 0 0 1 0-1.06Z"></path>
</svg>
</template>

<template id="file-code-icon">
  <svg aria-hidden="true" height="16" viewBox="0 0 16 16" version="1.1" width="16" data-view-component="true" class="octicon octicon-file-code">
    <path d="M4 1.75C4 .784 4.784 0 5.75 0h5.586c.464 0 .909.184 1.237.513l2.914 2.914c.329.328.513.773.513 1.237v8.586A1.75 1.75 0 0 1 14.25 15h-9a.75.75 0 0 1 0-1.5h9a.25.25 0 0 0 .25-.25V6h-2.75A1.75 1.75 0 0 1 10 4.25V1.5H5.75a.25.25 0 0 0-.25.25v2.5a.75.75 0 0 1-1.5 0Zm1.72 4.97a.75.75 0 0 1 1.06 0l2 2a.75.75 0 0 1 0 1.06l-2 2a.749.749 0 0 1-1.275-.326.749.749 0 0 1 .215-.734l1.47-1.47-1.47-1.47a.75.75 0 0 1 0-1.06ZM3.28 7.78 1.81 9.25l1.47 1.47a.751.751 0 0 1-.018 1.042.751.751 0 0 1-1.042.018l-2-2a.75.75 0 0 1 0-1.06l2-2a.751.751 0 0 1 1.042.018.751.751 0 0 1 .018 1.042Zm8.22-6.218V4.25c0 .138.112.25.25.25h2.688l-.011-.013-2.914-2.914-.013-.011Z"></path>
</svg>
</template>

<template id="history-icon">
  <svg aria-hidden="true" height="16" viewBox="0 0 16 16" version="1.1" width="16" data-view-component="true" class="octicon octicon-history">
    <path d="m.427 1.927 1.215 1.215a8.002 8.002 0 1 1-1.6 5.685.75.75 0 1 1 1.493-.154 6.5 6.5 0 1 0 1.18-4.458l1.358 1.358A.25.25 0 0 1 3.896 6H.25A.25.25 0 0 1 0 5.75V2.104a.25.25 0 0 1 .427-.177ZM7.75 4a.75.75 0 0 1 .75.75v2.992l2.028.812a.75.75 0 0 1-.557 1.392l-2.5-1A.751.751 0 0 1 7 8.25v-3.5A.75.75 0 0 1 7.75 4Z"></path>
</svg>
</template>

<template id="repo-icon">
  <svg aria-hidden="true" height="16" viewBox="0 0 16 16" version="1.1" width="16" data-view-component="true" class="octicon octicon-repo">
    <path d="M2 2.5A2.5 2.5 0 0 1 4.5 0h8.75a.75.75 0 0 1 .75.75v12.5a.75.75 0 0 1-.75.75h-2.5a.75.75 0 0 1 0-1.5h1.75v-2h-8a1 1 0 0 0-.714 1.7.75.75 0 1 1-1.072 1.05A2.495 2.495 0 0 1 2 11.5Zm10.5-1h-8a1 1 0 0 0-1 1v6.708A2.486 2.486 0 0 1 4.5 9h8ZM5 12.25a.25.25 0 0 1 .25-.25h3.5a.25.25 0 0 1 .25.25v3.25a.25.25 0 0 1-.4.2l-1.45-1.087a.249.249 0 0 0-.3 0L5.4 15.7a.25.25 0 0 1-.4-.2Z"></path>
</svg>
</template>

<template id="bookmark-icon">
  <svg aria-hidden="true" height="16" viewBox="0 0 16 16" version="1.1" width="16" data-view-component="true" class="octicon octicon-bookmark">
    <path d="M3 2.75C3 1.784 3.784 1 4.75 1h6.5c.966 0 1.75.784 1.75 1.75v11.5a.75.75 0 0 1-1.227.579L8 11.722l-3.773 3.107A.751.751 0 0 1 3 14.25Zm1.75-.25a.25.25 0 0 0-.25.25v9.91l3.023-2.489a.75.75 0 0 1 .954 0l3.023 2.49V2.75a.25.25 0 0 0-.25-.25Z"></path>
</svg>
</template>

<template id="plus-circle-icon">
  <svg aria-hidden="true" height="16" viewBox="0 0 16 16" version="1.1" width="16" data-view-component="true" class="octicon octicon-plus-circle">
    <path d="M8 0a8 8 0 1 1 0 16A8 8 0 0 1 8 0ZM1.5 8a6.5 6.5 0 1 0 13 0 6.5 6.5 0 0 0-13 0Zm7.25-3.25v2.5h2.5a.75.75 0 0 1 0 1.5h-2.5v2.5a.75.75 0 0 1-1.5 0v-2.5h-2.5a.75.75 0 0 1 0-1.5h2.5v-2.5a.75.75 0 0 1 1.5 0Z"></path>
</svg>
</template>

<template id="circle-icon">
  <svg aria-hidden="true" height="16" viewBox="0 0 16 16" version="1.1" width="16" data-view-component="true" class="octicon octicon-dot-fill">
    <path d="M8 4a4 4 0 1 1 0 8 4 4 0 0 1 0-8Z"></path>
</svg>
</template>

<template id="trash-icon">
  <svg aria-hidden="true" height="16" viewBox="0 0 16 16" version="1.1" width="16" data-view-component="true" class="octicon octicon-trash">
    <path d="M11 1.75V3h2.25a.75.75 0 0 1 0 1.5H2.75a.75.75 0 0 1 0-1.5H5V1.75C5 .784 5.784 0 6.75 0h2.5C10.216 0 11 .784 11 1.75ZM4.496 6.675l.66 6.6a.25.25 0 0 0 .249.225h5.19a.25.25 0 0 0 .249-.225l.66-6.6a.75.75 0 0 1 1.492.149l-.66 6.6A1.748 1.748 0 0 1 10.595 15h-5.19a1.75 1.75 0 0 1-1.741-1.575l-.66-6.6a.75.75 0 1 1 1.492-.15ZM6.5 1.75V3h3V1.75a.25.25 0 0 0-.25-.25h-2.5a.25.25 0 0 0-.25.25Z"></path>
</svg>
</template>

<template id="team-icon">
  <svg aria-hidden="true" height="16" viewBox="0 0 16 16" version="1.1" width="16" data-view-component="true" class="octicon octicon-people">
    <path d="M2 5.5a3.5 3.5 0 1 1 5.898 2.549 5.508 5.508 0 0 1 3.034 4.084.75.75 0 1 1-1.482.235 4 4 0 0 0-7.9 0 .75.75 0 0 1-1.482-.236A5.507 5.507 0 0 1 3.102 8.05 3.493 3.493 0 0 1 2 5.5ZM11 4a3.001 3.001 0 0 1 2.22 5.018 5.01 5.01 0 0 1 2.56 3.012.749.749 0 0 1-.885.954.752.752 0 0 1-.549-.514 3.507 3.507 0 0 0-2.522-2.372.75.75 0 0 1-.574-.73v-.352a.75.75 0 0 1 .416-.672A1.5 1.5 0 0 0 11 5.5.75.75 0 0 1 11 4Zm-5.5-.5a2 2 0 1 0-.001 3.999A2 2 0 0 0 5.5 3.5Z"></path>
</svg>
</template>

<template id="project-icon">
  <svg aria-hidden="true" height="16" viewBox="0 0 16 16" version="1.1" width="16" data-view-component="true" class="octicon octicon-project">
    <path d="M1.75 0h12.5C15.216 0 16 .784 16 1.75v12.5A1.75 1.75 0 0 1 14.25 16H1.75A1.75 1.75 0 0 1 0 14.25V1.75C0 .784.784 0 1.75 0ZM1.5 1.75v12.5c0 .138.112.25.25.25h12.5a.25.25 0 0 0 .25-.25V1.75a.25.25 0 0 0-.25-.25H1.75a.25.25 0 0 0-.25.25ZM11.75 3a.75.75 0 0 1 .75.75v7.5a.75.75 0 0 1-1.5 0v-7.5a.75.75 0 0 1 .75-.75Zm-8.25.75a.75.75 0 0 1 1.5 0v5.5a.75.75 0 0 1-1.5 0ZM8 3a.75.75 0 0 1 .75.75v3.5a.75.75 0 0 1-1.5 0v-3.5A.75.75 0 0 1 8 3Z"></path>
</svg>
</template>

<template id="pencil-icon">
  <svg aria-hidden="true" height="16" viewBox="0 0 16 16" version="1.1" width="16" data-view-component="true" class="octicon octicon-pencil">
    <path d="M11.013 1.427a1.75 1.75 0 0 1 2.474 0l1.086 1.086a1.75 1.75 0 0 1 0 2.474l-8.61 8.61c-.21.21-.47.364-.756.445l-3.251.93a.75.75 0 0 1-.927-.928l.929-3.25c.081-.286.235-.547.445-.758l8.61-8.61Zm.176 4.823L9.75 4.81l-6.286 6.287a.253.253 0 0 0-.064.108l-.558 1.953 1.953-.558a.253.253 0 0 0 .108-.064Zm1.238-3.763a.25.25 0 0 0-.354 0L10.811 3.75l1.439 1.44 1.263-1.263a.25.25 0 0 0 0-.354Z"></path>
</svg>
</template>

        <div class="position-relative">
                <ul
                  role="listbox"
                  class="ActionListWrap QueryBuilder-ListWrap"
                  aria-label="Suggestions"
                  data-action="
                    combobox-commit:query-builder#comboboxCommit
                    mousedown:query-builder#resultsMousedown
                  "
                  data-target="query-builder.resultsList"
                  data-persist-list=false
                  id="query-builder-test-results"
                ></ul>
        </div>
      <div class="FormControl-inlineValidation" id="validation-2c6e8f83-6bcb-4c2d-82d6-ea3ec8126f5a" hidden="hidden">
        <span class="FormControl-inlineValidation--visual">
          <svg aria-hidden="true" height="12" viewBox="0 0 12 12" version="1.1" width="12" data-view-component="true" class="octicon octicon-alert-fill">
    <path d="M4.855.708c.5-.896 1.79-.896 2.29 0l4.675 8.351a1.312 1.312 0 0 1-1.146 1.954H1.33A1.313 1.313 0 0 1 .183 9.058ZM7 7V3H5v4Zm-1 3a1 1 0 1 0 0-2 1 1 0 0 0 0 2Z"></path>
</svg>
        </span>
        <span></span>
</div>    </div>
    <div data-target="query-builder.screenReaderFeedback" aria-live="polite" aria-atomic="true" class="sr-only"></div>
</query-builder></form>
          <div class="d-flex flex-row color-fg-muted px-3 text-small color-bg-default search-feedback-prompt">
            <a target="_blank" href="https://docs.github.com/en/search-github/github-code-search/understanding-github-code-search-syntax" data-view-component="true" class="Link color-fg-accent text-normal ml-2">
              Search syntax tips
</a>            <div class="d-flex flex-1"></div>
                <button data-action="click:qbsearch-input#showFeedbackDialog" type="button" data-view-component="true" class="Button--link Button--medium Button color-fg-accent text-normal ml-2">    <span class="Button-content">
      <span class="Button-label">Give feedback</span>
    </span>
</button>  
          </div>
        </div>
</div>

    </div>
</modal-dialog></div>
  </div>
  <div data-action="click:qbsearch-input#retract" class="dark-backdrop position-fixed" hidden data-target="qbsearch-input.darkBackdrop"></div>
  <div class="color-fg-default">
    
<div class="Overlay--hidden Overlay-backdrop--center" data-modal-dialog-overlay>
  <modal-dialog data-target="qbsearch-input.feedbackDialog" data-action="close:qbsearch-input#handleDialogClose cancel:qbsearch-input#handleDialogClose" role="dialog" id="feedback-dialog" aria-modal="true" aria-disabled="true" aria-labelledby="feedback-dialog-title" aria-describedby="feedback-dialog-description" data-view-component="true" class="Overlay Overlay-whenNarrow Overlay--size-medium Overlay--motion-scaleFade">
    <div data-view-component="true" class="Overlay-header">
  <div class="Overlay-headerContentWrap">
    <div class="Overlay-titleWrap">
      <h1 class="Overlay-title " id="feedback-dialog-title">
        Provide feedback
      </h1>
    </div>
    <div class="Overlay-actionWrap">
      <button data-close-dialog-id="feedback-dialog" aria-label="Close" type="button" data-view-component="true" class="close-button Overlay-closeButton"><svg aria-hidden="true" height="16" viewBox="0 0 16 16" version="1.1" width="16" data-view-component="true" class="octicon octicon-x">
    <path d="M3.72 3.72a.75.75 0 0 1 1.06 0L8 6.94l3.22-3.22a.749.749 0 0 1 1.275.326.749.749 0 0 1-.215.734L9.06 8l3.22 3.22a.749.749 0 0 1-.326 1.275.749.749 0 0 1-.734-.215L8 9.06l-3.22 3.22a.751.751 0 0 1-1.042-.018.751.751 0 0 1-.018-1.042L6.94 8 3.72 4.78a.75.75 0 0 1 0-1.06Z"></path>
</svg></button>
    </div>
  </div>
</div>
      <div data-view-component="true" class="Overlay-body">        <!-- '"` --><!-- </textarea></xmp> --></option></form><form id="code-search-feedback-form" data-turbo="false" action="/search/feedback" accept-charset="UTF-8" method="post"><input type="hidden" name="authenticity_token" value="RpkIuz6fXgimRhOzJg9Ijm1fzDKi2nEm63zUax3m0rfRKzBg8GD0O0-LKkMRZYzAUvvxuEWZ4b6LlMnZBQw4iA" />
          <p>We read every piece of feedback, and take your input very seriously.</p>
          <textarea name="feedback" class="form-control width-full mb-2" style="height: 120px" id="feedback"></textarea>
          <input name="include_email" id="include_email" aria-label="Include my email address so I can be contacted" class="form-control mr-2" type="checkbox">
          <label for="include_email" style="font-weight: normal">Include my email address so I can be contacted</label>
</form></div>
      <div data-view-component="true" class="Overlay-footer Overlay-footer--alignEnd">          <button data-close-dialog-id="feedback-dialog" type="button" data-view-component="true" class="btn">    Cancel
</button>
          <button form="code-search-feedback-form" data-action="click:qbsearch-input#submitFeedback" type="submit" data-view-component="true" class="btn-primary btn">    Submit feedback
</button>
</div>
</modal-dialog></div>

    <custom-scopes data-target="qbsearch-input.customScopesManager">
    
<div class="Overlay--hidden Overlay-backdrop--center" data-modal-dialog-overlay>
  <modal-dialog data-target="custom-scopes.customScopesModalDialog" data-action="close:qbsearch-input#handleDialogClose cancel:qbsearch-input#handleDialogClose" role="dialog" id="custom-scopes-dialog" aria-modal="true" aria-disabled="true" aria-labelledby="custom-scopes-dialog-title" aria-describedby="custom-scopes-dialog-description" data-view-component="true" class="Overlay Overlay-whenNarrow Overlay--size-medium Overlay--motion-scaleFade">
    <div data-view-component="true" class="Overlay-header Overlay-header--divided">
  <div class="Overlay-headerContentWrap">
    <div class="Overlay-titleWrap">
      <h1 class="Overlay-title " id="custom-scopes-dialog-title">
        Saved searches
      </h1>
        <h2 id="custom-scopes-dialog-description" class="Overlay-description">Use saved searches to filter your results more quickly</h2>
    </div>
    <div class="Overlay-actionWrap">
      <button data-close-dialog-id="custom-scopes-dialog" aria-label="Close" type="button" data-view-component="true" class="close-button Overlay-closeButton"><svg aria-hidden="true" height="16" viewBox="0 0 16 16" version="1.1" width="16" data-view-component="true" class="octicon octicon-x">
    <path d="M3.72 3.72a.75.75 0 0 1 1.06 0L8 6.94l3.22-3.22a.749.749 0 0 1 1.275.326.749.749 0 0 1-.215.734L9.06 8l3.22 3.22a.749.749 0 0 1-.326 1.275.749.749 0 0 1-.734-.215L8 9.06l-3.22 3.22a.751.751 0 0 1-1.042-.018.751.751 0 0 1-.018-1.042L6.94 8 3.72 4.78a.75.75 0 0 1 0-1.06Z"></path>
</svg></button>
    </div>
  </div>
</div>
      <div data-view-component="true" class="Overlay-body">        <div data-target="custom-scopes.customScopesModalDialogFlash"></div>

        <div hidden class="create-custom-scope-form" data-target="custom-scopes.createCustomScopeForm">
        <!-- '"` --><!-- </textarea></xmp> --></option></form><form id="custom-scopes-dialog-form" data-turbo="false" action="/search/custom_scopes" accept-charset="UTF-8" method="post"><input type="hidden" name="authenticity_token" value="veRX1rQg-fDMhuC1XHtKHduxd2zcDiIluSk2U6Evj1W2BKq8lOqGUrcwW6F9FnEotCGj-73R6clsOrZI5Sn7lg" />
          <div data-target="custom-scopes.customScopesModalDialogFlash"></div>

          <input type="hidden" id="custom_scope_id" name="custom_scope_id" data-target="custom-scopes.customScopesIdField">

          <div class="form-group">
            <label for="custom_scope_name">Name</label>
            <auto-check src="/search/custom_scopes/check_name" required>
              <input
                type="text"
                name="custom_scope_name"
                id="custom_scope_name"
                data-target="custom-scopes.customScopesNameField"
                class="form-control"
                autocomplete="off"
                placeholder="github-ruby"
                required
                maxlength="50">
              <input type="hidden" value="oJr6PPEwzz82keU4VMdzDMTYLBiFVMayQkGIXPaaaeKsQduKId-3OEGelda9knFiyqLvdhy_U8U65hNnRCP01w" data-csrf="true" />
            </auto-check>
          </div>

          <div class="form-group">
            <label for="custom_scope_query">Query</label>
            <input
              type="text"
              name="custom_scope_query"
              id="custom_scope_query"
              data-target="custom-scopes.customScopesQueryField"
              class="form-control"
              autocomplete="off"
              placeholder="(repo:mona/a OR repo:mona/b) AND lang:python"
              required
              maxlength="500">
          </div>

          <p class="text-small color-fg-muted">
            To see all available qualifiers, see our <a class="Link--inTextBlock" href="https://docs.github.com/en/search-github/github-code-search/understanding-github-code-search-syntax">documentation</a>.
          </p>
</form>        </div>

        <div data-target="custom-scopes.manageCustomScopesForm">
          <div data-target="custom-scopes.list"></div>
        </div>

</div>
      <div data-view-component="true" class="Overlay-footer Overlay-footer--alignEnd Overlay-footer--divided">          <button data-action="click:custom-scopes#customScopesCancel" type="button" data-view-component="true" class="btn">    Cancel
</button>
          <button form="custom-scopes-dialog-form" data-action="click:custom-scopes#customScopesSubmit" data-target="custom-scopes.customScopesSubmitButton" type="submit" data-view-component="true" class="btn-primary btn">    Create saved search
</button>
</div>
</modal-dialog></div>
    </custom-scopes>
  </div>
</qbsearch-input><input type="hidden" value="wuO4iLkhsGtM5fNeFma8w2VpgfRNEkfhKAshQiJI4g5fjxPPn5bQTopZtPswqP42A58PRiQzvWjtofUxVqifNQ" data-csrf="true" class="js-data-jump-to-suggestions-path-csrf" />

          </div>

        <div class="AppHeader-actions">
          <action-menu data-select-variant="none" data-view-component="true">
  <focus-group direction="vertical" mnemonics retain>
    <div data-view-component="true" class="Button-withTooltip">  <button id="global-create-menu-button" popovertarget="global-create-menu-overlay" aria-label="Create something new" aria-controls="global-create-menu-list" aria-haspopup="true" type="button" data-view-component="true" class="AppHeader-button Button--secondary Button--small Button width-auto color-fg-muted">    <span class="Button-content">
        <span class="Button-visual Button-leadingVisual">
          <svg aria-hidden="true" height="16" viewBox="0 0 16 16" version="1.1" width="16" data-view-component="true" class="octicon octicon-plus">
    <path d="M7.75 2a.75.75 0 0 1 .75.75V7h4.25a.75.75 0 0 1 0 1.5H8.5v4.25a.75.75 0 0 1-1.5 0V8.5H2.75a.75.75 0 0 1 0-1.5H7V2.75A.75.75 0 0 1 7.75 2Z"></path>
</svg>
        </span>
      <span class="Button-label"><svg aria-hidden="true" height="16" viewBox="0 0 16 16" version="1.1" width="16" data-view-component="true" class="octicon octicon-triangle-down">
    <path d="m4.427 7.427 3.396 3.396a.25.25 0 0 0 .354 0l3.396-3.396A.25.25 0 0 0 11.396 7H4.604a.25.25 0 0 0-.177.427Z"></path>
</svg></span>
    </span>
</button>  <tool-tip id="tooltip-8a58091f-e1cd-4206-a56c-7e86ff3e8e4e" for="global-create-menu-button" popover="manual" data-direction="s" data-type="description" data-view-component="true" class="sr-only position-absolute">Create new...</tool-tip>
</div>

<anchored-position id="global-create-menu-overlay" anchor="global-create-menu-button" align="end" side="outside-bottom" anchor-offset="normal" popover="auto" aria-label="Menu" data-view-component="true">
  <div data-view-component="true" class="Overlay Overlay--size-auto">
    
      
        <div data-view-component="true">
  <ul aria-labelledby="global-create-menu-button" id="global-create-menu-list" role="menu" data-view-component="true" class="ActionListWrap--inset ActionListWrap">
      <li data-analytics-event="{&quot;category&quot;:&quot;SiteHeaderComponent&quot;,&quot;action&quot;:&quot;add_dropdown&quot;,&quot;label&quot;:&quot;new repository&quot;}" data-targets="action-list.items" role="none" data-view-component="true" class="ActionListItem">
    
    <a href="/new" tabindex="-1" id="item-be1c4551-dba2-44eb-95b5-56433ef44cc8" role="menuitem" data-view-component="true" class="ActionListContent ActionListContent--visual16">
        <span class="ActionListItem-visual ActionListItem-visual--leading">
          <svg aria-hidden="true" height="16" viewBox="0 0 16 16" version="1.1" width="16" data-view-component="true" class="octicon octicon-repo">
    <path d="M2 2.5A2.5 2.5 0 0 1 4.5 0h8.75a.75.75 0 0 1 .75.75v12.5a.75.75 0 0 1-.75.75h-2.5a.75.75 0 0 1 0-1.5h1.75v-2h-8a1 1 0 0 0-.714 1.7.75.75 0 1 1-1.072 1.05A2.495 2.495 0 0 1 2 11.5Zm10.5-1h-8a1 1 0 0 0-1 1v6.708A2.486 2.486 0 0 1 4.5 9h8ZM5 12.25a.25.25 0 0 1 .25-.25h3.5a.25.25 0 0 1 .25.25v3.25a.25.25 0 0 1-.4.2l-1.45-1.087a.249.249 0 0 0-.3 0L5.4 15.7a.25.25 0 0 1-.4-.2Z"></path>
</svg>
        </span>
      
        <span data-view-component="true" class="ActionListItem-label">
              New repository

</span></a>
  
  
</li>
      <li data-analytics-event="{&quot;category&quot;:&quot;SiteHeaderComponent&quot;,&quot;action&quot;:&quot;add_dropdown&quot;,&quot;label&quot;:&quot;import repository&quot;}" data-targets="action-list.items" role="none" data-view-component="true" class="ActionListItem">
    
    <a href="/new/import" tabindex="-1" id="item-c8e9b756-62c3-4d98-82de-4251843cab9f" role="menuitem" data-view-component="true" class="ActionListContent ActionListContent--visual16">
        <span class="ActionListItem-visual ActionListItem-visual--leading">
          <svg aria-hidden="true" height="16" viewBox="0 0 16 16" version="1.1" width="16" data-view-component="true" class="octicon octicon-repo-push">
    <path d="M1 2.5A2.5 2.5 0 0 1 3.5 0h8.75a.75.75 0 0 1 .75.75v3.5a.75.75 0 0 1-1.5 0V1.5h-8a1 1 0 0 0-1 1v6.708A2.493 2.493 0 0 1 3.5 9h3.25a.75.75 0 0 1 0 1.5H3.5a1 1 0 0 0 0 2h5.75a.75.75 0 0 1 0 1.5H3.5A2.5 2.5 0 0 1 1 11.5Zm13.23 7.79h-.001l-1.224-1.224v6.184a.75.75 0 0 1-1.5 0V9.066L10.28 10.29a.75.75 0 0 1-1.06-1.061l2.505-2.504a.75.75 0 0 1 1.06 0L15.29 9.23a.751.751 0 0 1-.018 1.042.751.751 0 0 1-1.042.018Z"></path>
</svg>
        </span>
      
        <span data-view-component="true" class="ActionListItem-label">
                Import repository

</span></a>
  
  
</li>
      <li role="presentation" aria-hidden="true" data-view-component="true" class="ActionList-sectionDivider"></li>
      <li data-analytics-event="{&quot;category&quot;:&quot;SiteHeaderComponent&quot;,&quot;action&quot;:&quot;add_dropdown&quot;,&quot;label&quot;:&quot;new codespace&quot;}" data-targets="action-list.items" role="none" data-view-component="true" class="ActionListItem">
    
    <a href="/codespaces/new" tabindex="-1" id="item-aafa118b-c70b-4110-b6cb-a9b162f71ba7" role="menuitem" data-view-component="true" class="ActionListContent ActionListContent--visual16">
        <span class="ActionListItem-visual ActionListItem-visual--leading">
          <svg aria-hidden="true" height="16" viewBox="0 0 16 16" version="1.1" width="16" data-view-component="true" class="octicon octicon-codespaces">
    <path d="M0 11.25c0-.966.784-1.75 1.75-1.75h12.5c.966 0 1.75.784 1.75 1.75v3A1.75 1.75 0 0 1 14.25 16H1.75A1.75 1.75 0 0 1 0 14.25Zm2-9.5C2 .784 2.784 0 3.75 0h8.5C13.216 0 14 .784 14 1.75v5a1.75 1.75 0 0 1-1.75 1.75h-8.5A1.75 1.75 0 0 1 2 6.75Zm1.75-.25a.25.25 0 0 0-.25.25v5c0 .138.112.25.25.25h8.5a.25.25 0 0 0 .25-.25v-5a.25.25 0 0 0-.25-.25Zm-2 9.5a.25.25 0 0 0-.25.25v3c0 .138.112.25.25.25h12.5a.25.25 0 0 0 .25-.25v-3a.25.25 0 0 0-.25-.25Z"></path><path d="M7 12.75a.75.75 0 0 1 .75-.75h4.5a.75.75 0 0 1 0 1.5h-4.5a.75.75 0 0 1-.75-.75Zm-4 0a.75.75 0 0 1 .75-.75h.5a.75.75 0 0 1 0 1.5h-.5a.75.75 0 0 1-.75-.75Z"></path>
</svg>
        </span>
      
        <span data-view-component="true" class="ActionListItem-label">
                New codespace

</span></a>
  
  
</li>
      <li data-analytics-event="{&quot;category&quot;:&quot;SiteHeaderComponent&quot;,&quot;action&quot;:&quot;add_dropdown&quot;,&quot;label&quot;:&quot;new gist&quot;}" data-targets="action-list.items" role="none" data-view-component="true" class="ActionListItem">
    
    <a href="https://gist.github.com/" tabindex="-1" id="item-0ae18b2d-1917-4477-b410-ec0c3b93c83d" role="menuitem" data-view-component="true" class="ActionListContent ActionListContent--visual16">
        <span class="ActionListItem-visual ActionListItem-visual--leading">
          <svg aria-hidden="true" height="16" viewBox="0 0 16 16" version="1.1" width="16" data-view-component="true" class="octicon octicon-code">
    <path d="m11.28 3.22 4.25 4.25a.75.75 0 0 1 0 1.06l-4.25 4.25a.749.749 0 0 1-1.275-.326.749.749 0 0 1 .215-.734L13.94 8l-3.72-3.72a.749.749 0 0 1 .326-1.275.749.749 0 0 1 .734.215Zm-6.56 0a.751.751 0 0 1 1.042.018.751.751 0 0 1 .018 1.042L2.06 8l3.72 3.72a.749.749 0 0 1-.326 1.275.749.749 0 0 1-.734-.215L.47 8.53a.75.75 0 0 1 0-1.06Z"></path>
</svg>
        </span>
      
        <span data-view-component="true" class="ActionListItem-label">
              New gist

</span></a>
  
  
</li>
      <li role="presentation" aria-hidden="true" data-view-component="true" class="ActionList-sectionDivider"></li>
      <li data-analytics-event="{&quot;category&quot;:&quot;SiteHeaderComponent&quot;,&quot;action&quot;:&quot;add_dropdown&quot;,&quot;label&quot;:&quot;new organization&quot;}" data-targets="action-list.items" role="none" data-view-component="true" class="ActionListItem">
    
    <a href="/account/organizations/new" tabindex="-1" id="item-0e002260-ad18-4c2a-9461-c7f7e8d94543" role="menuitem" data-view-component="true" class="ActionListContent ActionListContent--visual16">
        <span class="ActionListItem-visual ActionListItem-visual--leading">
          <svg aria-hidden="true" height="16" viewBox="0 0 16 16" version="1.1" width="16" data-view-component="true" class="octicon octicon-organization">
    <path d="M1.75 16A1.75 1.75 0 0 1 0 14.25V1.75C0 .784.784 0 1.75 0h8.5C11.216 0 12 .784 12 1.75v12.5c0 .085-.006.168-.018.25h2.268a.25.25 0 0 0 .25-.25V8.285a.25.25 0 0 0-.111-.208l-1.055-.703a.749.749 0 1 1 .832-1.248l1.055.703c.487.325.779.871.779 1.456v5.965A1.75 1.75 0 0 1 14.25 16h-3.5a.766.766 0 0 1-.197-.026c-.099.017-.2.026-.303.026h-3a.75.75 0 0 1-.75-.75V14h-1v1.25a.75.75 0 0 1-.75.75Zm-.25-1.75c0 .138.112.25.25.25H4v-1.25a.75.75 0 0 1 .75-.75h2.5a.75.75 0 0 1 .75.75v1.25h2.25a.25.25 0 0 0 .25-.25V1.75a.25.25 0 0 0-.25-.25h-8.5a.25.25 0 0 0-.25.25ZM3.75 6h.5a.75.75 0 0 1 0 1.5h-.5a.75.75 0 0 1 0-1.5ZM3 3.75A.75.75 0 0 1 3.75 3h.5a.75.75 0 0 1 0 1.5h-.5A.75.75 0 0 1 3 3.75Zm4 3A.75.75 0 0 1 7.75 6h.5a.75.75 0 0 1 0 1.5h-.5A.75.75 0 0 1 7 6.75ZM7.75 3h.5a.75.75 0 0 1 0 1.5h-.5a.75.75 0 0 1 0-1.5ZM3 9.75A.75.75 0 0 1 3.75 9h.5a.75.75 0 0 1 0 1.5h-.5A.75.75 0 0 1 3 9.75ZM7.75 9h.5a.75.75 0 0 1 0 1.5h-.5a.75.75 0 0 1 0-1.5Z"></path>
</svg>
        </span>
      
        <span data-view-component="true" class="ActionListItem-label">
                New organization

</span></a>
  
  
</li>
</ul>  
</div>

</div></anchored-position>  </focus-group>
</action-menu>

            <div data-view-component="true" class="Button-withTooltip">
  <a href="/issues" data-analytics-event="{&quot;category&quot;:&quot;Global navigation&quot;,&quot;action&quot;:&quot;ISSUES_HEADER&quot;,&quot;label&quot;:null}" id="icon-button-11cd20e8-af29-4a05-a21c-c14ec29fb118" data-view-component="true" class="Button Button--iconOnly Button--secondary Button--medium AppHeader-button color-fg-muted">    <svg aria-hidden="true" height="16" viewBox="0 0 16 16" version="1.1" width="16" data-view-component="true" class="octicon octicon-issue-opened Button-visual">
    <path d="M8 9.5a1.5 1.5 0 1 0 0-3 1.5 1.5 0 0 0 0 3Z"></path><path d="M8 0a8 8 0 1 1 0 16A8 8 0 0 1 8 0ZM1.5 8a6.5 6.5 0 1 0 13 0 6.5 6.5 0 0 0-13 0Z"></path>
</svg>
</a>  <tool-tip id="tooltip-9258a47b-a3bd-4db3-a607-9a9d4275f97f" for="icon-button-11cd20e8-af29-4a05-a21c-c14ec29fb118" popover="manual" data-direction="s" data-type="label" data-view-component="true" class="sr-only position-absolute">Issues</tool-tip>
</div>
            <div data-view-component="true" class="Button-withTooltip">
  <a href="/pulls" data-analytics-event="{&quot;category&quot;:&quot;Global navigation&quot;,&quot;action&quot;:&quot;PULL_REQUESTS_HEADER&quot;,&quot;label&quot;:null}" id="icon-button-98615cb3-5314-4e87-9a00-00e099d0318c" data-view-component="true" class="Button Button--iconOnly Button--secondary Button--medium AppHeader-button color-fg-muted">    <svg aria-hidden="true" height="16" viewBox="0 0 16 16" version="1.1" width="16" data-view-component="true" class="octicon octicon-git-pull-request Button-visual">
    <path d="M1.5 3.25a2.25 2.25 0 1 1 3 2.122v5.256a2.251 2.251 0 1 1-1.5 0V5.372A2.25 2.25 0 0 1 1.5 3.25Zm5.677-.177L9.573.677A.25.25 0 0 1 10 .854V2.5h1A2.5 2.5 0 0 1 13.5 5v5.628a2.251 2.251 0 1 1-1.5 0V5a1 1 0 0 0-1-1h-1v1.646a.25.25 0 0 1-.427.177L7.177 3.427a.25.25 0 0 1 0-.354ZM3.75 2.5a.75.75 0 1 0 0 1.5.75.75 0 0 0 0-1.5Zm0 9.5a.75.75 0 1 0 0 1.5.75.75 0 0 0 0-1.5Zm8.25.75a.75.75 0 1 0 1.5 0 .75.75 0 0 0-1.5 0Z"></path>
</svg>
</a>  <tool-tip id="tooltip-0064d5c5-07f4-47ce-b8e5-b2a027736493" for="icon-button-98615cb3-5314-4e87-9a00-00e099d0318c" popover="manual" data-direction="s" data-type="label" data-view-component="true" class="sr-only position-absolute">Pull requests</tool-tip>
</div>
        </div>

        

<notification-indicator data-channel="eyJjIjoibm90aWZpY2F0aW9uLWNoYW5nZWQ6NjYzMjE1NTkiLCJ0IjoxNjk0MDE0NTA4fQ==--61acc778a72c8e0847b73c62214c51f5b171e13c8a1e077c569da7828aa0bea5" data-indicator-mode="none" data-tooltip-global="You have unread notifications" data-tooltip-unavailable="Notifications are unavailable at the moment." data-tooltip-none="You have no unread notifications" data-header-redesign-enabled="true" data-fetch-indicator-src="/notifications/indicator" data-fetch-indicator-enabled="true" data-view-component="true" class="js-socket-channel">
  <a id="AppHeader-notifications-button" href="/notifications"
    class="AppHeader-button Button--secondary"

    style="width:32px;height:32px;"

    data-hotkey="g n"
    data-target="notification-indicator.link"
    aria-label="Notifications"

      data-analytics-event="{&quot;category&quot;:&quot;SiteHeaderComponent&quot;,&quot;action&quot;:&quot;notifications&quot;,&quot;label&quot;:null}"
  >

    <span
      data-target="notification-indicator.badge"
      class="mail-status unread d-none" hidden>
    </span>

      <svg aria-hidden="true" height="16" viewBox="0 0 16 16" version="1.1" width="16" data-view-component="true" class="octicon octicon-inbox color-fg-muted mr-0">
    <path d="M2.8 2.06A1.75 1.75 0 0 1 4.41 1h7.18c.7 0 1.333.417 1.61 1.06l2.74 6.395c.04.093.06.194.06.295v4.5A1.75 1.75 0 0 1 14.25 15H1.75A1.75 1.75 0 0 1 0 13.25v-4.5c0-.101.02-.202.06-.295Zm1.61.44a.25.25 0 0 0-.23.152L1.887 8H4.75a.75.75 0 0 1 .6.3L6.625 10h2.75l1.275-1.7a.75.75 0 0 1 .6-.3h2.863L11.82 2.652a.25.25 0 0 0-.23-.152Zm10.09 7h-2.875l-1.275 1.7a.75.75 0 0 1-.6.3h-3.5a.75.75 0 0 1-.6-.3L4.375 9.5H1.5v3.75c0 .138.112.25.25.25h12.5a.25.25 0 0 0 .25-.25Z"></path>
</svg>
  </a>

    <tool-tip data-target="notification-indicator.tooltip" id="tooltip-591e21e7-8521-4629-80cf-7c1989d6fa74" for="AppHeader-notifications-button" popover="manual" data-direction="s" data-type="description" data-view-component="true" class="sr-only position-absolute">Notifications</tool-tip>
</notification-indicator>

        

        <div class="AppHeader-user">
          <deferred-side-panel data-url="/_side-panels/user?memex_enabled=true&amp;repository=4019charan&amp;user=4019charan&amp;user_can_create_organizations=true&amp;user_id=66321559">
  <include-fragment data-target="deferred-side-panel.fragment">
      <user-drawer-side-panel>
      <button aria-label="Open user account menu" data-action="click:deferred-side-panel#loadPanel click:deferred-side-panel#panelOpened" data-show-dialog-id="dialog-1decbfe8-758b-41d2-882b-51960661dfe7" id="dialog-show-dialog-1decbfe8-758b-41d2-882b-51960661dfe7" type="button" data-view-component="true" class="AppHeader-logo Button--invisible Button--medium Button Button--invisible-noVisuals color-bg-transparent p-0">    <span class="Button-content">
      <span class="Button-label"><img src="https://avatars.githubusercontent.com/u/66321559?v=4" alt="" size="32" height="32" width="32" data-view-component="true" class="avatar circle" /></span>
    </span>
</button>  

<div class="Overlay--hidden Overlay-backdrop--side Overlay-backdrop--placement-right" data-modal-dialog-overlay>
  <modal-dialog data-target="deferred-side-panel.panel" role="dialog" id="dialog-1decbfe8-758b-41d2-882b-51960661dfe7" aria-modal="true" aria-disabled="true" aria-labelledby="dialog-1decbfe8-758b-41d2-882b-51960661dfe7-title" aria-describedby="dialog-1decbfe8-758b-41d2-882b-51960661dfe7-description" data-view-component="true" class="Overlay Overlay-whenNarrow Overlay--size-small-portrait Overlay--motion-scaleFade SidePanel">
    <div styles="flex-direction: row;" data-view-component="true" class="Overlay-header">
  <div class="Overlay-headerContentWrap">
    <div class="Overlay-titleWrap">
      <h1 class="Overlay-title sr-only" id="dialog-1decbfe8-758b-41d2-882b-51960661dfe7-title">
        Account menu
      </h1>
            <div data-view-component="true" class="d-flex">
      <div data-view-component="true" class="AppHeader-logo position-relative">
        <img src="https://avatars.githubusercontent.com/u/66321559?v=4" alt="" size="32" height="32" width="32" data-view-component="true" class="avatar circle" />
</div>        <div data-view-component="true" class="overflow-hidden d-flex width-full">        <div data-view-component="true" class="lh-condensed overflow-hidden d-flex flex-column flex-justify-center ml-2 f5 mr-auto width-full">
          <span data-view-component="true" class="Truncate text-bold">
    <span data-view-component="true" class="Truncate-text">
            4019charan
</span>
</span>          <span data-view-component="true" class="Truncate color-fg-subtle">
    <span data-view-component="true" class="Truncate-text">
            Charan Basireddy
</span>
</span></div>
</div>
</div>
    </div>
    <div class="Overlay-actionWrap">
      <button data-close-dialog-id="dialog-1decbfe8-758b-41d2-882b-51960661dfe7" aria-label="Close" type="button" data-view-component="true" class="close-button Overlay-closeButton"><svg aria-hidden="true" height="16" viewBox="0 0 16 16" version="1.1" width="16" data-view-component="true" class="octicon octicon-x">
    <path d="M3.72 3.72a.75.75 0 0 1 1.06 0L8 6.94l3.22-3.22a.749.749 0 0 1 1.275.326.749.749 0 0 1-.215.734L9.06 8l3.22 3.22a.749.749 0 0 1-.326 1.275.749.749 0 0 1-.734-.215L8 9.06l-3.22 3.22a.751.751 0 0 1-1.042-.018.751.751 0 0 1-.018-1.042L6.94 8 3.72 4.78a.75.75 0 0 1 0-1.06Z"></path>
</svg></button>
    </div>
  </div>
</div>
      <div data-view-component="true" class="Overlay-body d-flex flex-column height-full px-2">      <nav aria-label="User navigation" data-view-component="true" class="ActionList">
  
  <nav-list>
    <ul data-view-component="true" class="ActionListWrap">
        
          
<li data-item-id="" data-targets="nav-list.items" data-view-component="true" class="ActionListItem">
    
    <button id="item-57b11869-6b3d-4493-bb69-2067c4057cff" type="button" data-view-component="true" class="ActionListContent ActionListContent--visual16">
        <span class="ActionListItem-visual ActionListItem-visual--leading">
          <span data-view-component="true" class="d-flex flex-items-center">    <svg style="box-sizing: content-box; color: var(--color-icon-primary);" width="16" height="16" viewBox="0 0 16 16" fill="none" data-view-component="true" class="anim-rotate">
  <circle cx="8" cy="8" r="7" stroke="currentColor" stroke-opacity="0.25" stroke-width="2" vector-effect="non-scaling-stroke" />
  <path d="M15 8a7.002 7.002 0 00-7-7" stroke="currentColor" stroke-width="2" stroke-linecap="round" vector-effect="non-scaling-stroke" />
</svg>
</span>
        </span>
      
        <span data-view-component="true" class="ActionListItem-label">
          

  <span class="color-fg-muted">
    Loading...
  </span>

</span></button>
  
  
</li>

        
          <li role="presentation" aria-hidden="true" data-view-component="true" class="ActionList-sectionDivider"></li>
        
          
<li data-item-id="" data-targets="nav-list.items" data-view-component="true" class="ActionListItem">
    
    <a data-analytics-event="{&quot;category&quot;:&quot;Global navigation&quot;,&quot;action&quot;:&quot;PROFILE&quot;,&quot;label&quot;:null}" id="item-57b3bd3f-7f92-4005-a975-02170da45e45" href="https://github.com/4019charan" data-view-component="true" class="ActionListContent ActionListContent--visual16">
        <span class="ActionListItem-visual ActionListItem-visual--leading">
          <svg aria-hidden="true" height="16" viewBox="0 0 16 16" version="1.1" width="16" data-view-component="true" class="octicon octicon-person">
    <path d="M10.561 8.073a6.005 6.005 0 0 1 3.432 5.142.75.75 0 1 1-1.498.07 4.5 4.5 0 0 0-8.99 0 .75.75 0 0 1-1.498-.07 6.004 6.004 0 0 1 3.431-5.142 3.999 3.999 0 1 1 5.123 0ZM10.5 5a2.5 2.5 0 1 0-5 0 2.5 2.5 0 0 0 5 0Z"></path>
</svg>
        </span>
      
        <span data-view-component="true" class="ActionListItem-label">
          Your profile
</span></a>
  
  
</li>

        
          <li role="presentation" aria-hidden="true" data-view-component="true" class="ActionList-sectionDivider"></li>
        
          
<li data-item-id="" data-targets="nav-list.items" data-view-component="true" class="ActionListItem">
    
    <a data-analytics-event="{&quot;category&quot;:&quot;Global navigation&quot;,&quot;action&quot;:&quot;YOUR_REPOSITORIES&quot;,&quot;label&quot;:null}" id="item-2cd73fa0-f2c9-45e4-97c0-6580ca2a8ad4" href="/4019charan?tab=repositories" data-view-component="true" class="ActionListContent ActionListContent--visual16">
        <span class="ActionListItem-visual ActionListItem-visual--leading">
          <svg aria-hidden="true" height="16" viewBox="0 0 16 16" version="1.1" width="16" data-view-component="true" class="octicon octicon-repo">
    <path d="M2 2.5A2.5 2.5 0 0 1 4.5 0h8.75a.75.75 0 0 1 .75.75v12.5a.75.75 0 0 1-.75.75h-2.5a.75.75 0 0 1 0-1.5h1.75v-2h-8a1 1 0 0 0-.714 1.7.75.75 0 1 1-1.072 1.05A2.495 2.495 0 0 1 2 11.5Zm10.5-1h-8a1 1 0 0 0-1 1v6.708A2.486 2.486 0 0 1 4.5 9h8ZM5 12.25a.25.25 0 0 1 .25-.25h3.5a.25.25 0 0 1 .25.25v3.25a.25.25 0 0 1-.4.2l-1.45-1.087a.249.249 0 0 0-.3 0L5.4 15.7a.25.25 0 0 1-.4-.2Z"></path>
</svg>
        </span>
      
        <span data-view-component="true" class="ActionListItem-label">
          Your repositories
</span></a>
  
  
</li>

        
          
<li data-item-id="" data-targets="nav-list.items" data-view-component="true" class="ActionListItem">
    
    <a data-analytics-event="{&quot;category&quot;:&quot;Global navigation&quot;,&quot;action&quot;:&quot;YOUR_PROJECTS&quot;,&quot;label&quot;:null}" id="item-a759f46f-acdb-4770-8ba3-349e9d28f7ab" href="/4019charan?tab=projects" data-view-component="true" class="ActionListContent ActionListContent--visual16">
        <span class="ActionListItem-visual ActionListItem-visual--leading">
          <svg aria-hidden="true" height="16" viewBox="0 0 16 16" version="1.1" width="16" data-view-component="true" class="octicon octicon-project">
    <path d="M1.75 0h12.5C15.216 0 16 .784 16 1.75v12.5A1.75 1.75 0 0 1 14.25 16H1.75A1.75 1.75 0 0 1 0 14.25V1.75C0 .784.784 0 1.75 0ZM1.5 1.75v12.5c0 .138.112.25.25.25h12.5a.25.25 0 0 0 .25-.25V1.75a.25.25 0 0 0-.25-.25H1.75a.25.25 0 0 0-.25.25ZM11.75 3a.75.75 0 0 1 .75.75v7.5a.75.75 0 0 1-1.5 0v-7.5a.75.75 0 0 1 .75-.75Zm-8.25.75a.75.75 0 0 1 1.5 0v5.5a.75.75 0 0 1-1.5 0ZM8 3a.75.75 0 0 1 .75.75v3.5a.75.75 0 0 1-1.5 0v-3.5A.75.75 0 0 1 8 3Z"></path>
</svg>
        </span>
      
        <span data-view-component="true" class="ActionListItem-label">
          Your projects
</span></a>
  
  
</li>

        
          
<li data-item-id="" data-targets="nav-list.items" data-view-component="true" class="ActionListItem">
    
    <a data-analytics-event="{&quot;category&quot;:&quot;Global navigation&quot;,&quot;action&quot;:&quot;YOUR_CODESPACES&quot;,&quot;label&quot;:null}" id="item-3efd5f2a-a912-4b78-900d-09226f268d5e" href="/codespaces" data-view-component="true" class="ActionListContent ActionListContent--visual16">
        <span class="ActionListItem-visual ActionListItem-visual--leading">
          <svg aria-hidden="true" height="16" viewBox="0 0 16 16" version="1.1" width="16" data-view-component="true" class="octicon octicon-codespaces">
    <path d="M0 11.25c0-.966.784-1.75 1.75-1.75h12.5c.966 0 1.75.784 1.75 1.75v3A1.75 1.75 0 0 1 14.25 16H1.75A1.75 1.75 0 0 1 0 14.25Zm2-9.5C2 .784 2.784 0 3.75 0h8.5C13.216 0 14 .784 14 1.75v5a1.75 1.75 0 0 1-1.75 1.75h-8.5A1.75 1.75 0 0 1 2 6.75Zm1.75-.25a.25.25 0 0 0-.25.25v5c0 .138.112.25.25.25h8.5a.25.25 0 0 0 .25-.25v-5a.25.25 0 0 0-.25-.25Zm-2 9.5a.25.25 0 0 0-.25.25v3c0 .138.112.25.25.25h12.5a.25.25 0 0 0 .25-.25v-3a.25.25 0 0 0-.25-.25Z"></path><path d="M7 12.75a.75.75 0 0 1 .75-.75h4.5a.75.75 0 0 1 0 1.5h-4.5a.75.75 0 0 1-.75-.75Zm-4 0a.75.75 0 0 1 .75-.75h.5a.75.75 0 0 1 0 1.5h-.5a.75.75 0 0 1-.75-.75Z"></path>
</svg>
        </span>
      
        <span data-view-component="true" class="ActionListItem-label">
          Your codespaces
</span></a>
  
  
</li>

        
          
<li data-item-id="" data-targets="nav-list.items" data-view-component="true" class="ActionListItem">
    
    <button id="item-7f49e1ec-8eb4-4bb2-bf82-6bf85eda8994" type="button" data-view-component="true" class="ActionListContent ActionListContent--visual16">
        <span class="ActionListItem-visual ActionListItem-visual--leading">
          <span data-view-component="true" class="d-flex flex-items-center">    <svg style="box-sizing: content-box; color: var(--color-icon-primary);" width="16" height="16" viewBox="0 0 16 16" fill="none" data-view-component="true" class="anim-rotate">
  <circle cx="8" cy="8" r="7" stroke="currentColor" stroke-opacity="0.25" stroke-width="2" vector-effect="non-scaling-stroke" />
  <path d="M15 8a7.002 7.002 0 00-7-7" stroke="currentColor" stroke-width="2" stroke-linecap="round" vector-effect="non-scaling-stroke" />
</svg>
</span>
        </span>
      
        <span data-view-component="true" class="ActionListItem-label">
          

  <span class="color-fg-muted">
    Loading...
  </span>

</span></button>
  
  
</li>

        
          
<li data-item-id="" data-targets="nav-list.items" data-view-component="true" class="ActionListItem">
    
    <a data-analytics-event="{&quot;category&quot;:&quot;Global navigation&quot;,&quot;action&quot;:&quot;YOUR_STARS&quot;,&quot;label&quot;:null}" id="item-eb510393-ff18-4063-8b43-8bb892d59138" href="/4019charan?tab=stars" data-view-component="true" class="ActionListContent ActionListContent--visual16">
        <span class="ActionListItem-visual ActionListItem-visual--leading">
          <svg aria-hidden="true" height="16" viewBox="0 0 16 16" version="1.1" width="16" data-view-component="true" class="octicon octicon-star">
    <path d="M8 .25a.75.75 0 0 1 .673.418l1.882 3.815 4.21.612a.75.75 0 0 1 .416 1.279l-3.046 2.97.719 4.192a.751.751 0 0 1-1.088.791L8 12.347l-3.766 1.98a.75.75 0 0 1-1.088-.79l.72-4.194L.818 6.374a.75.75 0 0 1 .416-1.28l4.21-.611L7.327.668A.75.75 0 0 1 8 .25Zm0 2.445L6.615 5.5a.75.75 0 0 1-.564.41l-3.097.45 2.24 2.184a.75.75 0 0 1 .216.664l-.528 3.084 2.769-1.456a.75.75 0 0 1 .698 0l2.77 1.456-.53-3.084a.75.75 0 0 1 .216-.664l2.24-2.183-3.096-.45a.75.75 0 0 1-.564-.41L8 2.694Z"></path>
</svg>
        </span>
      
        <span data-view-component="true" class="ActionListItem-label">
          Your stars
</span></a>
  
  
</li>

        
          
<li data-item-id="" data-targets="nav-list.items" data-view-component="true" class="ActionListItem">
    
    <a data-analytics-event="{&quot;category&quot;:&quot;Global navigation&quot;,&quot;action&quot;:&quot;SPONSORS&quot;,&quot;label&quot;:null}" id="item-96fb535a-06d0-4aee-a0f9-f43e0296dd85" href="/sponsors/accounts" data-view-component="true" class="ActionListContent ActionListContent--visual16">
        <span class="ActionListItem-visual ActionListItem-visual--leading">
          <svg aria-hidden="true" height="16" viewBox="0 0 16 16" version="1.1" width="16" data-view-component="true" class="octicon octicon-heart">
    <path d="m8 14.25.345.666a.75.75 0 0 1-.69 0l-.008-.004-.018-.01a7.152 7.152 0 0 1-.31-.17 22.055 22.055 0 0 1-3.434-2.414C2.045 10.731 0 8.35 0 5.5 0 2.836 2.086 1 4.25 1 5.797 1 7.153 1.802 8 3.02 8.847 1.802 10.203 1 11.75 1 13.914 1 16 2.836 16 5.5c0 2.85-2.045 5.231-3.885 6.818a22.066 22.066 0 0 1-3.744 2.584l-.018.01-.006.003h-.002ZM4.25 2.5c-1.336 0-2.75 1.164-2.75 3 0 2.15 1.58 4.144 3.365 5.682A20.58 20.58 0 0 0 8 13.393a20.58 20.58 0 0 0 3.135-2.211C12.92 9.644 14.5 7.65 14.5 5.5c0-1.836-1.414-3-2.75-3-1.373 0-2.609.986-3.029 2.456a.749.749 0 0 1-1.442 0C6.859 3.486 5.623 2.5 4.25 2.5Z"></path>
</svg>
        </span>
      
        <span data-view-component="true" class="ActionListItem-label">
          Your sponsors
</span></a>
  
  
</li>

        
          
<li data-item-id="" data-targets="nav-list.items" data-view-component="true" class="ActionListItem">
    
    <a data-analytics-event="{&quot;category&quot;:&quot;Global navigation&quot;,&quot;action&quot;:&quot;YOUR_GISTS&quot;,&quot;label&quot;:null}" id="item-736c399e-315a-41a0-86e7-306ae02174d5" href="https://gist.github.com/mine" data-view-component="true" class="ActionListContent ActionListContent--visual16">
        <span class="ActionListItem-visual ActionListItem-visual--leading">
          <svg aria-hidden="true" height="16" viewBox="0 0 16 16" version="1.1" width="16" data-view-component="true" class="octicon octicon-code-square">
    <path d="M0 1.75C0 .784.784 0 1.75 0h12.5C15.216 0 16 .784 16 1.75v12.5A1.75 1.75 0 0 1 14.25 16H1.75A1.75 1.75 0 0 1 0 14.25Zm1.75-.25a.25.25 0 0 0-.25.25v12.5c0 .138.112.25.25.25h12.5a.25.25 0 0 0 .25-.25V1.75a.25.25 0 0 0-.25-.25Zm7.47 3.97a.75.75 0 0 1 1.06 0l2 2a.75.75 0 0 1 0 1.06l-2 2a.749.749 0 0 1-1.275-.326.749.749 0 0 1 .215-.734L10.69 8 9.22 6.53a.75.75 0 0 1 0-1.06ZM6.78 6.53 5.31 8l1.47 1.47a.749.749 0 0 1-.326 1.275.749.749 0 0 1-.734-.215l-2-2a.75.75 0 0 1 0-1.06l2-2a.751.751 0 0 1 1.042.018.751.751 0 0 1 .018 1.042Z"></path>
</svg>
        </span>
      
        <span data-view-component="true" class="ActionListItem-label">
          Your gists
</span></a>
  
  
</li>

        
          <li role="presentation" aria-hidden="true" data-view-component="true" class="ActionList-sectionDivider"></li>
        
          
<li data-item-id="" data-targets="nav-list.items" data-view-component="true" class="ActionListItem">
    
    <button id="item-3e33b7dd-eeed-44f6-96d7-066d408572c7" type="button" data-view-component="true" class="ActionListContent ActionListContent--visual16">
        <span class="ActionListItem-visual ActionListItem-visual--leading">
          <span data-view-component="true" class="d-flex flex-items-center">    <svg style="box-sizing: content-box; color: var(--color-icon-primary);" width="16" height="16" viewBox="0 0 16 16" fill="none" data-view-component="true" class="anim-rotate">
  <circle cx="8" cy="8" r="7" stroke="currentColor" stroke-opacity="0.25" stroke-width="2" vector-effect="non-scaling-stroke" />
  <path d="M15 8a7.002 7.002 0 00-7-7" stroke="currentColor" stroke-width="2" stroke-linecap="round" vector-effect="non-scaling-stroke" />
</svg>
</span>
        </span>
      
        <span data-view-component="true" class="ActionListItem-label">
          

  <span class="color-fg-muted">
    Loading...
  </span>

</span></button>
  
  
</li>

        
          
<li data-item-id="" data-targets="nav-list.items" data-view-component="true" class="ActionListItem">
    
    <button id="item-267f7bad-2b27-4946-adb1-18f0a98285e4" type="button" data-view-component="true" class="ActionListContent ActionListContent--visual16">
        <span class="ActionListItem-visual ActionListItem-visual--leading">
          <span data-view-component="true" class="d-flex flex-items-center">    <svg style="box-sizing: content-box; color: var(--color-icon-primary);" width="16" height="16" viewBox="0 0 16 16" fill="none" data-view-component="true" class="anim-rotate">
  <circle cx="8" cy="8" r="7" stroke="currentColor" stroke-opacity="0.25" stroke-width="2" vector-effect="non-scaling-stroke" />
  <path d="M15 8a7.002 7.002 0 00-7-7" stroke="currentColor" stroke-width="2" stroke-linecap="round" vector-effect="non-scaling-stroke" />
</svg>
</span>
        </span>
      
        <span data-view-component="true" class="ActionListItem-label">
          

  <span class="color-fg-muted">
    Loading...
  </span>

</span></button>
  
  
</li>

        
          
<li data-item-id="" data-targets="nav-list.items" data-view-component="true" class="ActionListItem">
    
    <button id="item-ab183ccf-8d8f-4c86-aa0e-0234c2b2a70d" type="button" data-view-component="true" class="ActionListContent ActionListContent--visual16">
        <span class="ActionListItem-visual ActionListItem-visual--leading">
          <span data-view-component="true" class="d-flex flex-items-center">    <svg style="box-sizing: content-box; color: var(--color-icon-primary);" width="16" height="16" viewBox="0 0 16 16" fill="none" data-view-component="true" class="anim-rotate">
  <circle cx="8" cy="8" r="7" stroke="currentColor" stroke-opacity="0.25" stroke-width="2" vector-effect="non-scaling-stroke" />
  <path d="M15 8a7.002 7.002 0 00-7-7" stroke="currentColor" stroke-width="2" stroke-linecap="round" vector-effect="non-scaling-stroke" />
</svg>
</span>
        </span>
      
        <span data-view-component="true" class="ActionListItem-label">
          

  <span class="color-fg-muted">
    Loading...
  </span>

</span></button>
  
  
</li>

        
          
<li data-item-id="" data-targets="nav-list.items" data-view-component="true" class="ActionListItem">
    
    <a data-analytics-event="{&quot;category&quot;:&quot;Global navigation&quot;,&quot;action&quot;:&quot;SETTINGS&quot;,&quot;label&quot;:null}" id="item-b3e3378b-d59f-4788-88fb-6c8c409d081a" href="/settings/profile" data-view-component="true" class="ActionListContent ActionListContent--visual16">
        <span class="ActionListItem-visual ActionListItem-visual--leading">
          <svg aria-hidden="true" height="16" viewBox="0 0 16 16" version="1.1" width="16" data-view-component="true" class="octicon octicon-gear">
    <path d="M8 0a8.2 8.2 0 0 1 .701.031C9.444.095 9.99.645 10.16 1.29l.288 1.107c.018.066.079.158.212.224.231.114.454.243.668.386.123.082.233.09.299.071l1.103-.303c.644-.176 1.392.021 1.82.63.27.385.506.792.704 1.218.315.675.111 1.422-.364 1.891l-.814.806c-.049.048-.098.147-.088.294.016.257.016.515 0 .772-.01.147.038.246.088.294l.814.806c.475.469.679 1.216.364 1.891a7.977 7.977 0 0 1-.704 1.217c-.428.61-1.176.807-1.82.63l-1.102-.302c-.067-.019-.177-.011-.3.071a5.909 5.909 0 0 1-.668.386c-.133.066-.194.158-.211.224l-.29 1.106c-.168.646-.715 1.196-1.458 1.26a8.006 8.006 0 0 1-1.402 0c-.743-.064-1.289-.614-1.458-1.26l-.289-1.106c-.018-.066-.079-.158-.212-.224a5.738 5.738 0 0 1-.668-.386c-.123-.082-.233-.09-.299-.071l-1.103.303c-.644.176-1.392-.021-1.82-.63a8.12 8.12 0 0 1-.704-1.218c-.315-.675-.111-1.422.363-1.891l.815-.806c.05-.048.098-.147.088-.294a6.214 6.214 0 0 1 0-.772c.01-.147-.038-.246-.088-.294l-.815-.806C.635 6.045.431 5.298.746 4.623a7.92 7.92 0 0 1 .704-1.217c.428-.61 1.176-.807 1.82-.63l1.102.302c.067.019.177.011.3-.071.214-.143.437-.272.668-.386.133-.066.194-.158.211-.224l.29-1.106C6.009.645 6.556.095 7.299.03 7.53.01 7.764 0 8 0Zm-.571 1.525c-.036.003-.108.036-.137.146l-.289 1.105c-.147.561-.549.967-.998 1.189-.173.086-.34.183-.5.29-.417.278-.97.423-1.529.27l-1.103-.303c-.109-.03-.175.016-.195.045-.22.312-.412.644-.573.99-.014.031-.021.11.059.19l.815.806c.411.406.562.957.53 1.456a4.709 4.709 0 0 0 0 .582c.032.499-.119 1.05-.53 1.456l-.815.806c-.081.08-.073.159-.059.19.162.346.353.677.573.989.02.03.085.076.195.046l1.102-.303c.56-.153 1.113-.008 1.53.27.161.107.328.204.501.29.447.222.85.629.997 1.189l.289 1.105c.029.109.101.143.137.146a6.6 6.6 0 0 0 1.142 0c.036-.003.108-.036.137-.146l.289-1.105c.147-.561.549-.967.998-1.189.173-.086.34-.183.5-.29.417-.278.97-.423 1.529-.27l1.103.303c.109.029.175-.016.195-.045.22-.313.411-.644.573-.99.014-.031.021-.11-.059-.19l-.815-.806c-.411-.406-.562-.957-.53-1.456a4.709 4.709 0 0 0 0-.582c-.032-.499.119-1.05.53-1.456l.815-.806c.081-.08.073-.159.059-.19a6.464 6.464 0 0 0-.573-.989c-.02-.03-.085-.076-.195-.046l-1.102.303c-.56.153-1.113.008-1.53-.27a4.44 4.44 0 0 0-.501-.29c-.447-.222-.85-.629-.997-1.189l-.289-1.105c-.029-.11-.101-.143-.137-.146a6.6 6.6 0 0 0-1.142 0ZM11 8a3 3 0 1 1-6 0 3 3 0 0 1 6 0ZM9.5 8a1.5 1.5 0 1 0-3.001.001A1.5 1.5 0 0 0 9.5 8Z"></path>
</svg>
        </span>
      
        <span data-view-component="true" class="ActionListItem-label">
          Settings
</span></a>
  
  
</li>

        
          <li role="presentation" aria-hidden="true" data-view-component="true" class="ActionList-sectionDivider"></li>
        
          
<li data-item-id="" data-targets="nav-list.items" data-view-component="true" class="ActionListItem">
    
    <a data-analytics-event="{&quot;category&quot;:&quot;Global navigation&quot;,&quot;action&quot;:&quot;DOCS&quot;,&quot;label&quot;:null}" id="item-550bd826-a44a-4772-9f03-110e4aa08201" href="https://docs.github.com" data-view-component="true" class="ActionListContent ActionListContent--visual16">
        <span class="ActionListItem-visual ActionListItem-visual--leading">
          <svg aria-hidden="true" height="16" viewBox="0 0 16 16" version="1.1" width="16" data-view-component="true" class="octicon octicon-book">
    <path d="M0 1.75A.75.75 0 0 1 .75 1h4.253c1.227 0 2.317.59 3 1.501A3.743 3.743 0 0 1 11.006 1h4.245a.75.75 0 0 1 .75.75v10.5a.75.75 0 0 1-.75.75h-4.507a2.25 2.25 0 0 0-1.591.659l-.622.621a.75.75 0 0 1-1.06 0l-.622-.621A2.25 2.25 0 0 0 5.258 13H.75a.75.75 0 0 1-.75-.75Zm7.251 10.324.004-5.073-.002-2.253A2.25 2.25 0 0 0 5.003 2.5H1.5v9h3.757a3.75 3.75 0 0 1 1.994.574ZM8.755 4.75l-.004 7.322a3.752 3.752 0 0 1 1.992-.572H14.5v-9h-3.495a2.25 2.25 0 0 0-2.25 2.25Z"></path>
</svg>
        </span>
      
        <span data-view-component="true" class="ActionListItem-label">
          GitHub Docs
</span></a>
  
  
</li>

        
          
<li data-item-id="" data-targets="nav-list.items" data-view-component="true" class="ActionListItem">
    
    <a data-analytics-event="{&quot;category&quot;:&quot;Global navigation&quot;,&quot;action&quot;:&quot;SUPPORT&quot;,&quot;label&quot;:null}" id="item-b888d10d-71b5-49b0-bce0-751df3960b55" href="https://support.github.com" data-view-component="true" class="ActionListContent ActionListContent--visual16">
        <span class="ActionListItem-visual ActionListItem-visual--leading">
          <svg aria-hidden="true" height="16" viewBox="0 0 16 16" version="1.1" width="16" data-view-component="true" class="octicon octicon-people">
    <path d="M2 5.5a3.5 3.5 0 1 1 5.898 2.549 5.508 5.508 0 0 1 3.034 4.084.75.75 0 1 1-1.482.235 4 4 0 0 0-7.9 0 .75.75 0 0 1-1.482-.236A5.507 5.507 0 0 1 3.102 8.05 3.493 3.493 0 0 1 2 5.5ZM11 4a3.001 3.001 0 0 1 2.22 5.018 5.01 5.01 0 0 1 2.56 3.012.749.749 0 0 1-.885.954.752.752 0 0 1-.549-.514 3.507 3.507 0 0 0-2.522-2.372.75.75 0 0 1-.574-.73v-.352a.75.75 0 0 1 .416-.672A1.5 1.5 0 0 0 11 5.5.75.75 0 0 1 11 4Zm-5.5-.5a2 2 0 1 0-.001 3.999A2 2 0 0 0 5.5 3.5Z"></path>
</svg>
        </span>
      
        <span data-view-component="true" class="ActionListItem-label">
          GitHub Support
</span></a>
  
  
</li>

        
          <li role="presentation" aria-hidden="true" data-view-component="true" class="ActionList-sectionDivider"></li>
        
          
<li data-item-id="" data-targets="nav-list.items" data-view-component="true" class="ActionListItem">
    
    <a data-analytics-event="{&quot;category&quot;:&quot;Global navigation&quot;,&quot;action&quot;:&quot;LOGOUT&quot;,&quot;label&quot;:null}" id="item-4d871e13-e56d-4908-8838-29e9f27531f1" href="/logout" data-view-component="true" class="ActionListContent">
      
        <span data-view-component="true" class="ActionListItem-label">
          Sign out
</span></a>
  
  
</li>

</ul>  </nav-list>
</nav>


</div>
      
</modal-dialog></div>
  </user-drawer-side-panel>

  </include-fragment>
</deferred-side-panel>
        </div>

        <div class="position-absolute mt-2">
            
<site-header-logged-in-user-menu>

</site-header-logged-in-user-menu>

        </div>
      </div>
    </div>


      <div class="AppHeader-localBar" >
        <nav data-pjax="#js-repo-pjax-container" aria-label="Repository" data-view-component="true" class="js-repo-nav js-sidenav-container-pjax js-responsive-underlinenav overflow-hidden UnderlineNav">

  <ul data-view-component="true" class="UnderlineNav-body list-style-none">
      <li data-view-component="true" class="d-inline-flex">
  <a id="code-tab" href="/4019charan/4019charan" data-tab-item="i0code-tab" data-selected-links="repo_source repo_downloads repo_commits repo_releases repo_tags repo_branches repo_packages repo_deployments /4019charan/4019charan" data-pjax="#repo-content-pjax-container" data-turbo-frame="repo-content-turbo-frame" data-hotkey="g c" data-analytics-event="{&quot;category&quot;:&quot;Underline navbar&quot;,&quot;action&quot;:&quot;Click tab&quot;,&quot;label&quot;:&quot;Code&quot;,&quot;target&quot;:&quot;UNDERLINE_NAV.TAB&quot;}" data-view-component="true" class="UnderlineNav-item no-wrap js-responsive-underlinenav-item js-selected-navigation-item">
    
              <svg aria-hidden="true" height="16" viewBox="0 0 16 16" version="1.1" width="16" data-view-component="true" class="octicon octicon-code UnderlineNav-octicon d-none d-sm-inline">
    <path d="m11.28 3.22 4.25 4.25a.75.75 0 0 1 0 1.06l-4.25 4.25a.749.749 0 0 1-1.275-.326.749.749 0 0 1 .215-.734L13.94 8l-3.72-3.72a.749.749 0 0 1 .326-1.275.749.749 0 0 1 .734.215Zm-6.56 0a.751.751 0 0 1 1.042.018.751.751 0 0 1 .018 1.042L2.06 8l3.72 3.72a.749.749 0 0 1-.326 1.275.749.749 0 0 1-.734-.215L.47 8.53a.75.75 0 0 1 0-1.06Z"></path>
</svg>
        <span data-content="Code">Code</span>
          <span id="code-repo-tab-count" data-pjax-replace="" data-turbo-replace="" title="Not available" data-view-component="true" class="Counter"></span>


    
</a></li>
      <li data-view-component="true" class="d-inline-flex">
  <a id="issues-tab" href="/4019charan/4019charan/issues" data-tab-item="i1issues-tab" data-selected-links="repo_issues repo_labels repo_milestones /4019charan/4019charan/issues" data-pjax="#repo-content-pjax-container" data-turbo-frame="repo-content-turbo-frame" data-hotkey="g i" data-analytics-event="{&quot;category&quot;:&quot;Underline navbar&quot;,&quot;action&quot;:&quot;Click tab&quot;,&quot;label&quot;:&quot;Issues&quot;,&quot;target&quot;:&quot;UNDERLINE_NAV.TAB&quot;}" data-view-component="true" class="UnderlineNav-item no-wrap js-responsive-underlinenav-item js-selected-navigation-item">
    
              <svg aria-hidden="true" height="16" viewBox="0 0 16 16" version="1.1" width="16" data-view-component="true" class="octicon octicon-issue-opened UnderlineNav-octicon d-none d-sm-inline">
    <path d="M8 9.5a1.5 1.5 0 1 0 0-3 1.5 1.5 0 0 0 0 3Z"></path><path d="M8 0a8 8 0 1 1 0 16A8 8 0 0 1 8 0ZM1.5 8a6.5 6.5 0 1 0 13 0 6.5 6.5 0 0 0-13 0Z"></path>
</svg>
        <span data-content="Issues">Issues</span>
          <span id="issues-repo-tab-count" data-pjax-replace="" data-turbo-replace="" title="0" hidden="hidden" data-view-component="true" class="Counter">0</span>


    
</a></li>
      <li data-view-component="true" class="d-inline-flex">
  <a id="pull-requests-tab" href="/4019charan/4019charan/pulls" data-tab-item="i2pull-requests-tab" data-selected-links="repo_pulls checks /4019charan/4019charan/pulls" data-pjax="#repo-content-pjax-container" data-turbo-frame="repo-content-turbo-frame" data-hotkey="g p" data-analytics-event="{&quot;category&quot;:&quot;Underline navbar&quot;,&quot;action&quot;:&quot;Click tab&quot;,&quot;label&quot;:&quot;Pull requests&quot;,&quot;target&quot;:&quot;UNDERLINE_NAV.TAB&quot;}" data-view-component="true" class="UnderlineNav-item no-wrap js-responsive-underlinenav-item js-selected-navigation-item">
    
              <svg aria-hidden="true" height="16" viewBox="0 0 16 16" version="1.1" width="16" data-view-component="true" class="octicon octicon-git-pull-request UnderlineNav-octicon d-none d-sm-inline">
    <path d="M1.5 3.25a2.25 2.25 0 1 1 3 2.122v5.256a2.251 2.251 0 1 1-1.5 0V5.372A2.25 2.25 0 0 1 1.5 3.25Zm5.677-.177L9.573.677A.25.25 0 0 1 10 .854V2.5h1A2.5 2.5 0 0 1 13.5 5v5.628a2.251 2.251 0 1 1-1.5 0V5a1 1 0 0 0-1-1h-1v1.646a.25.25 0 0 1-.427.177L7.177 3.427a.25.25 0 0 1 0-.354ZM3.75 2.5a.75.75 0 1 0 0 1.5.75.75 0 0 0 0-1.5Zm0 9.5a.75.75 0 1 0 0 1.5.75.75 0 0 0 0-1.5Zm8.25.75a.75.75 0 1 0 1.5 0 .75.75 0 0 0-1.5 0Z"></path>
</svg>
        <span data-content="Pull requests">Pull requests</span>
          <span id="pull-requests-repo-tab-count" data-pjax-replace="" data-turbo-replace="" title="0" hidden="hidden" data-view-component="true" class="Counter">0</span>


    
</a></li>
      <li data-view-component="true" class="d-inline-flex">
  <a id="actions-tab" href="/4019charan/4019charan/actions" data-tab-item="i3actions-tab" data-selected-links="repo_actions /4019charan/4019charan/actions" data-pjax="#repo-content-pjax-container" data-turbo-frame="repo-content-turbo-frame" data-hotkey="g a" data-analytics-event="{&quot;category&quot;:&quot;Underline navbar&quot;,&quot;action&quot;:&quot;Click tab&quot;,&quot;label&quot;:&quot;Actions&quot;,&quot;target&quot;:&quot;UNDERLINE_NAV.TAB&quot;}" data-view-component="true" class="UnderlineNav-item no-wrap js-responsive-underlinenav-item js-selected-navigation-item">
    
              <svg aria-hidden="true" height="16" viewBox="0 0 16 16" version="1.1" width="16" data-view-component="true" class="octicon octicon-play UnderlineNav-octicon d-none d-sm-inline">
    <path d="M8 0a8 8 0 1 1 0 16A8 8 0 0 1 8 0ZM1.5 8a6.5 6.5 0 1 0 13 0 6.5 6.5 0 0 0-13 0Zm4.879-2.773 4.264 2.559a.25.25 0 0 1 0 .428l-4.264 2.559A.25.25 0 0 1 6 10.559V5.442a.25.25 0 0 1 .379-.215Z"></path>
</svg>
        <span data-content="Actions">Actions</span>
          <span id="actions-repo-tab-count" data-pjax-replace="" data-turbo-replace="" title="Not available" data-view-component="true" class="Counter"></span>


    
</a></li>
      <li data-view-component="true" class="d-inline-flex">
  <a id="projects-tab" href="/4019charan/4019charan/projects" data-tab-item="i4projects-tab" data-selected-links="repo_projects new_repo_project repo_project /4019charan/4019charan/projects" data-pjax="#repo-content-pjax-container" data-turbo-frame="repo-content-turbo-frame" data-hotkey="g b" data-analytics-event="{&quot;category&quot;:&quot;Underline navbar&quot;,&quot;action&quot;:&quot;Click tab&quot;,&quot;label&quot;:&quot;Projects&quot;,&quot;target&quot;:&quot;UNDERLINE_NAV.TAB&quot;}" data-view-component="true" class="UnderlineNav-item no-wrap js-responsive-underlinenav-item js-selected-navigation-item">
    
              <svg aria-hidden="true" height="16" viewBox="0 0 16 16" version="1.1" width="16" data-view-component="true" class="octicon octicon-table UnderlineNav-octicon d-none d-sm-inline">
    <path d="M0 1.75C0 .784.784 0 1.75 0h12.5C15.216 0 16 .784 16 1.75v12.5A1.75 1.75 0 0 1 14.25 16H1.75A1.75 1.75 0 0 1 0 14.25ZM6.5 6.5v8h7.75a.25.25 0 0 0 .25-.25V6.5Zm8-1.5V1.75a.25.25 0 0 0-.25-.25H6.5V5Zm-13 1.5v7.75c0 .138.112.25.25.25H5v-8ZM5 5V1.5H1.75a.25.25 0 0 0-.25.25V5Z"></path>
</svg>
        <span data-content="Projects">Projects</span>
          <span id="projects-repo-tab-count" data-pjax-replace="" data-turbo-replace="" title="0" hidden="hidden" data-view-component="true" class="Counter">0</span>


    
</a></li>
      <li data-view-component="true" class="d-inline-flex">
  <a id="wiki-tab" href="/4019charan/4019charan/wiki" data-tab-item="i5wiki-tab" data-selected-links="repo_wiki /4019charan/4019charan/wiki" data-pjax="#repo-content-pjax-container" data-turbo-frame="repo-content-turbo-frame" data-hotkey="g w" data-analytics-event="{&quot;category&quot;:&quot;Underline navbar&quot;,&quot;action&quot;:&quot;Click tab&quot;,&quot;label&quot;:&quot;Wiki&quot;,&quot;target&quot;:&quot;UNDERLINE_NAV.TAB&quot;}" data-view-component="true" class="UnderlineNav-item no-wrap js-responsive-underlinenav-item js-selected-navigation-item">
    
              <svg aria-hidden="true" height="16" viewBox="0 0 16 16" version="1.1" width="16" data-view-component="true" class="octicon octicon-book UnderlineNav-octicon d-none d-sm-inline">
    <path d="M0 1.75A.75.75 0 0 1 .75 1h4.253c1.227 0 2.317.59 3 1.501A3.743 3.743 0 0 1 11.006 1h4.245a.75.75 0 0 1 .75.75v10.5a.75.75 0 0 1-.75.75h-4.507a2.25 2.25 0 0 0-1.591.659l-.622.621a.75.75 0 0 1-1.06 0l-.622-.621A2.25 2.25 0 0 0 5.258 13H.75a.75.75 0 0 1-.75-.75Zm7.251 10.324.004-5.073-.002-2.253A2.25 2.25 0 0 0 5.003 2.5H1.5v9h3.757a3.75 3.75 0 0 1 1.994.574ZM8.755 4.75l-.004 7.322a3.752 3.752 0 0 1 1.992-.572H14.5v-9h-3.495a2.25 2.25 0 0 0-2.25 2.25Z"></path>
</svg>
        <span data-content="Wiki">Wiki</span>
          <span id="wiki-repo-tab-count" data-pjax-replace="" data-turbo-replace="" title="Not available" data-view-component="true" class="Counter"></span>


    
</a></li>
      <li data-view-component="true" class="d-inline-flex">
  <a id="security-tab" href="/4019charan/4019charan/security" data-tab-item="i6security-tab" data-selected-links="security overview alerts policy token_scanning code_scanning /4019charan/4019charan/security" data-pjax="#repo-content-pjax-container" data-turbo-frame="repo-content-turbo-frame" data-hotkey="g s" data-analytics-event="{&quot;category&quot;:&quot;Underline navbar&quot;,&quot;action&quot;:&quot;Click tab&quot;,&quot;label&quot;:&quot;Security&quot;,&quot;target&quot;:&quot;UNDERLINE_NAV.TAB&quot;}" data-view-component="true" class="UnderlineNav-item no-wrap js-responsive-underlinenav-item js-selected-navigation-item">
    
              <svg aria-hidden="true" height="16" viewBox="0 0 16 16" version="1.1" width="16" data-view-component="true" class="octicon octicon-shield UnderlineNav-octicon d-none d-sm-inline">
    <path d="M7.467.133a1.748 1.748 0 0 1 1.066 0l5.25 1.68A1.75 1.75 0 0 1 15 3.48V7c0 1.566-.32 3.182-1.303 4.682-.983 1.498-2.585 2.813-5.032 3.855a1.697 1.697 0 0 1-1.33 0c-2.447-1.042-4.049-2.357-5.032-3.855C1.32 10.182 1 8.566 1 7V3.48a1.75 1.75 0 0 1 1.217-1.667Zm.61 1.429a.25.25 0 0 0-.153 0l-5.25 1.68a.25.25 0 0 0-.174.238V7c0 1.358.275 2.666 1.057 3.86.784 1.194 2.121 2.34 4.366 3.297a.196.196 0 0 0 .154 0c2.245-.956 3.582-2.104 4.366-3.298C13.225 9.666 13.5 8.36 13.5 7V3.48a.251.251 0 0 0-.174-.237l-5.25-1.68ZM8.75 4.75v3a.75.75 0 0 1-1.5 0v-3a.75.75 0 0 1 1.5 0ZM9 10.5a1 1 0 1 1-2 0 1 1 0 0 1 2 0Z"></path>
</svg>
        <span data-content="Security">Security</span>
          <include-fragment src="/4019charan/4019charan/security/overall-count" accept="text/fragment+html"></include-fragment>

    
</a></li>
      <li data-view-component="true" class="d-inline-flex">
  <a id="insights-tab" href="/4019charan/4019charan/pulse" data-tab-item="i7insights-tab" data-selected-links="repo_graphs repo_contributors dependency_graph dependabot_updates pulse people community /4019charan/4019charan/pulse" data-pjax="#repo-content-pjax-container" data-turbo-frame="repo-content-turbo-frame" data-analytics-event="{&quot;category&quot;:&quot;Underline navbar&quot;,&quot;action&quot;:&quot;Click tab&quot;,&quot;label&quot;:&quot;Insights&quot;,&quot;target&quot;:&quot;UNDERLINE_NAV.TAB&quot;}" data-view-component="true" class="UnderlineNav-item no-wrap js-responsive-underlinenav-item js-selected-navigation-item">
    
              <svg aria-hidden="true" height="16" viewBox="0 0 16 16" version="1.1" width="16" data-view-component="true" class="octicon octicon-graph UnderlineNav-octicon d-none d-sm-inline">
    <path d="M1.5 1.75V13.5h13.75a.75.75 0 0 1 0 1.5H.75a.75.75 0 0 1-.75-.75V1.75a.75.75 0 0 1 1.5 0Zm14.28 2.53-5.25 5.25a.75.75 0 0 1-1.06 0L7 7.06 4.28 9.78a.751.751 0 0 1-1.042-.018.751.751 0 0 1-.018-1.042l3.25-3.25a.75.75 0 0 1 1.06 0L10 7.94l4.72-4.72a.751.751 0 0 1 1.042.018.751.751 0 0 1 .018 1.042Z"></path>
</svg>
        <span data-content="Insights">Insights</span>
          <span id="insights-repo-tab-count" data-pjax-replace="" data-turbo-replace="" title="Not available" data-view-component="true" class="Counter"></span>


    
</a></li>
      <li data-view-component="true" class="d-inline-flex">
  <a id="settings-tab" href="/4019charan/4019charan/settings" data-tab-item="i8settings-tab" data-selected-links="code_review_limits codespaces_repository_settings collaborators custom_tabs hooks integration_installations interaction_limits issue_template_editor key_links_settings notifications repo_actions_settings repo_announcements repo_branch_settings repo_keys_settings repo_pages_settings repo_issue_types repo_rule_insights repo_rulesets repo_protected_tags_settings repo_settings reported_content repo_custom_properties repository_actions_settings_add_new_runner repository_actions_settings_general repository_actions_settings_runners repository_environments role_details secrets secrets_settings_actions secrets_settings_codespaces secrets_settings_dependabot security_analysis /4019charan/4019charan/settings" data-pjax="#repo-content-pjax-container" data-turbo-frame="repo-content-turbo-frame" data-analytics-event="{&quot;category&quot;:&quot;Underline navbar&quot;,&quot;action&quot;:&quot;Click tab&quot;,&quot;label&quot;:&quot;Settings&quot;,&quot;target&quot;:&quot;UNDERLINE_NAV.TAB&quot;}" data-view-component="true" class="UnderlineNav-item no-wrap js-responsive-underlinenav-item js-selected-navigation-item">
    
              <svg aria-hidden="true" height="16" viewBox="0 0 16 16" version="1.1" width="16" data-view-component="true" class="octicon octicon-gear UnderlineNav-octicon d-none d-sm-inline">
    <path d="M8 0a8.2 8.2 0 0 1 .701.031C9.444.095 9.99.645 10.16 1.29l.288 1.107c.018.066.079.158.212.224.231.114.454.243.668.386.123.082.233.09.299.071l1.103-.303c.644-.176 1.392.021 1.82.63.27.385.506.792.704 1.218.315.675.111 1.422-.364 1.891l-.814.806c-.049.048-.098.147-.088.294.016.257.016.515 0 .772-.01.147.038.246.088.294l.814.806c.475.469.679 1.216.364 1.891a7.977 7.977 0 0 1-.704 1.217c-.428.61-1.176.807-1.82.63l-1.102-.302c-.067-.019-.177-.011-.3.071a5.909 5.909 0 0 1-.668.386c-.133.066-.194.158-.211.224l-.29 1.106c-.168.646-.715 1.196-1.458 1.26a8.006 8.006 0 0 1-1.402 0c-.743-.064-1.289-.614-1.458-1.26l-.289-1.106c-.018-.066-.079-.158-.212-.224a5.738 5.738 0 0 1-.668-.386c-.123-.082-.233-.09-.299-.071l-1.103.303c-.644.176-1.392-.021-1.82-.63a8.12 8.12 0 0 1-.704-1.218c-.315-.675-.111-1.422.363-1.891l.815-.806c.05-.048.098-.147.088-.294a6.214 6.214 0 0 1 0-.772c.01-.147-.038-.246-.088-.294l-.815-.806C.635 6.045.431 5.298.746 4.623a7.92 7.92 0 0 1 .704-1.217c.428-.61 1.176-.807 1.82-.63l1.102.302c.067.019.177.011.3-.071.214-.143.437-.272.668-.386.133-.066.194-.158.211-.224l.29-1.106C6.009.645 6.556.095 7.299.03 7.53.01 7.764 0 8 0Zm-.571 1.525c-.036.003-.108.036-.137.146l-.289 1.105c-.147.561-.549.967-.998 1.189-.173.086-.34.183-.5.29-.417.278-.97.423-1.529.27l-1.103-.303c-.109-.03-.175.016-.195.045-.22.312-.412.644-.573.99-.014.031-.021.11.059.19l.815.806c.411.406.562.957.53 1.456a4.709 4.709 0 0 0 0 .582c.032.499-.119 1.05-.53 1.456l-.815.806c-.081.08-.073.159-.059.19.162.346.353.677.573.989.02.03.085.076.195.046l1.102-.303c.56-.153 1.113-.008 1.53.27.161.107.328.204.501.29.447.222.85.629.997 1.189l.289 1.105c.029.109.101.143.137.146a6.6 6.6 0 0 0 1.142 0c.036-.003.108-.036.137-.146l.289-1.105c.147-.561.549-.967.998-1.189.173-.086.34-.183.5-.29.417-.278.97-.423 1.529-.27l1.103.303c.109.029.175-.016.195-.045.22-.313.411-.644.573-.99.014-.031.021-.11-.059-.19l-.815-.806c-.411-.406-.562-.957-.53-1.456a4.709 4.709 0 0 0 0-.582c-.032-.499.119-1.05.53-1.456l.815-.806c.081-.08.073-.159.059-.19a6.464 6.464 0 0 0-.573-.989c-.02-.03-.085-.076-.195-.046l-1.102.303c-.56.153-1.113.008-1.53-.27a4.44 4.44 0 0 0-.501-.29c-.447-.222-.85-.629-.997-1.189l-.289-1.105c-.029-.11-.101-.143-.137-.146a6.6 6.6 0 0 0-1.142 0ZM11 8a3 3 0 1 1-6 0 3 3 0 0 1 6 0ZM9.5 8a1.5 1.5 0 1 0-3.001.001A1.5 1.5 0 0 0 9.5 8Z"></path>
</svg>
        <span data-content="Settings">Settings</span>
          <span id="settings-repo-tab-count" data-pjax-replace="" data-turbo-replace="" title="Not available" data-view-component="true" class="Counter"></span>


    
</a></li>
</ul>
    <div style="visibility:hidden;" data-view-component="true" class="UnderlineNav-actions js-responsive-underlinenav-overflow position-absolute pr-3 pr-md-4 pr-lg-5 right-0">        <details data-view-component="true" class="details-overlay details-reset position-relative">
    <summary role="button" data-view-component="true">          <div class="UnderlineNav-item mr-0 border-0">
            <svg aria-hidden="true" height="16" viewBox="0 0 16 16" version="1.1" width="16" data-view-component="true" class="octicon octicon-kebab-horizontal">
    <path d="M8 9a1.5 1.5 0 1 0 0-3 1.5 1.5 0 0 0 0 3ZM1.5 9a1.5 1.5 0 1 0 0-3 1.5 1.5 0 0 0 0 3Zm13 0a1.5 1.5 0 1 0 0-3 1.5 1.5 0 0 0 0 3Z"></path>
</svg>
            <span class="sr-only">More</span>
          </div>
</summary>
    <details-menu role="menu" data-view-component="true" class="dropdown-menu dropdown-menu-sw">
          <ul>
              <li data-menu-item="i0code-tab" hidden>
                <a role="menuitem" class="js-selected-navigation-item dropdown-item" data-selected-links="repo_source repo_downloads repo_commits repo_releases repo_tags repo_branches repo_packages repo_deployments /4019charan/4019charan" href="/4019charan/4019charan">
                  Code
</a>              </li>
              <li data-menu-item="i1issues-tab" hidden>
                <a role="menuitem" class="js-selected-navigation-item dropdown-item" data-selected-links="repo_issues repo_labels repo_milestones /4019charan/4019charan/issues" href="/4019charan/4019charan/issues">
                  Issues
</a>              </li>
              <li data-menu-item="i2pull-requests-tab" hidden>
                <a role="menuitem" class="js-selected-navigation-item dropdown-item" data-selected-links="repo_pulls checks /4019charan/4019charan/pulls" href="/4019charan/4019charan/pulls">
                  Pull requests
</a>              </li>
              <li data-menu-item="i3actions-tab" hidden>
                <a role="menuitem" class="js-selected-navigation-item dropdown-item" data-selected-links="repo_actions /4019charan/4019charan/actions" href="/4019charan/4019charan/actions">
                  Actions
</a>              </li>
              <li data-menu-item="i4projects-tab" hidden>
                <a role="menuitem" class="js-selected-navigation-item dropdown-item" data-selected-links="repo_projects new_repo_project repo_project /4019charan/4019charan/projects" href="/4019charan/4019charan/projects">
                  Projects
</a>              </li>
              <li data-menu-item="i5wiki-tab" hidden>
                <a role="menuitem" class="js-selected-navigation-item dropdown-item" data-selected-links="repo_wiki /4019charan/4019charan/wiki" href="/4019charan/4019charan/wiki">
                  Wiki
</a>              </li>
              <li data-menu-item="i6security-tab" hidden>
                <a role="menuitem" class="js-selected-navigation-item dropdown-item" data-selected-links="security overview alerts policy token_scanning code_scanning /4019charan/4019charan/security" href="/4019charan/4019charan/security">
                  Security
</a>              </li>
              <li data-menu-item="i7insights-tab" hidden>
                <a role="menuitem" class="js-selected-navigation-item dropdown-item" data-selected-links="repo_graphs repo_contributors dependency_graph dependabot_updates pulse people community /4019charan/4019charan/pulse" href="/4019charan/4019charan/pulse">
                  Insights
</a>              </li>
              <li data-menu-item="i8settings-tab" hidden>
                <a role="menuitem" class="js-selected-navigation-item dropdown-item" data-selected-links="code_review_limits codespaces_repository_settings collaborators custom_tabs hooks integration_installations interaction_limits issue_template_editor key_links_settings notifications repo_actions_settings repo_announcements repo_branch_settings repo_keys_settings repo_pages_settings repo_issue_types repo_rule_insights repo_rulesets repo_protected_tags_settings repo_settings reported_content repo_custom_properties repository_actions_settings_add_new_runner repository_actions_settings_general repository_actions_settings_runners repository_environments role_details secrets secrets_settings_actions secrets_settings_codespaces secrets_settings_dependabot security_analysis /4019charan/4019charan/settings" href="/4019charan/4019charan/settings">
                  Settings
</a>              </li>
          </ul>
</details-menu>
</details></div>
</nav>
      </div>
</header>


      <div hidden="hidden" data-view-component="true" class="js-stale-session-flash flash flash-warn mb-3">
  
        <svg aria-hidden="true" height="16" viewBox="0 0 16 16" version="1.1" width="16" data-view-component="true" class="octicon octicon-alert">
    <path d="M6.457 1.047c.659-1.234 2.427-1.234 3.086 0l6.082 11.378A1.75 1.75 0 0 1 14.082 15H1.918a1.75 1.75 0 0 1-1.543-2.575Zm1.763.707a.25.25 0 0 0-.44 0L1.698 13.132a.25.25 0 0 0 .22.368h12.164a.25.25 0 0 0 .22-.368Zm.53 3.996v2.5a.75.75 0 0 1-1.5 0v-2.5a.75.75 0 0 1 1.5 0ZM9 11a1 1 0 1 1-2 0 1 1 0 0 1 2 0Z"></path>
</svg>
        <span class="js-stale-session-flash-signed-in" hidden>You signed in with another tab or window. <a class="Link--inTextBlock" href="">Reload</a> to refresh your session.</span>
        <span class="js-stale-session-flash-signed-out" hidden>You signed out in another tab or window. <a class="Link--inTextBlock" href="">Reload</a> to refresh your session.</span>
        <span class="js-stale-session-flash-switched" hidden>You switched accounts on another tab or window. <a class="Link--inTextBlock" href="">Reload</a> to refresh your session.</span>

    <div data-view-component="true" class="flash-close">
  <button id="icon-button-c222047e-5534-4cd3-81b5-c2494aebcbaa" type="button" data-view-component="true" class="Button Button--iconOnly Button--invisible Button--medium js-flash-close">    <svg aria-hidden="true" height="16" viewBox="0 0 16 16" version="1.1" width="16" data-view-component="true" class="octicon octicon-x Button-visual">
    <path d="M3.72 3.72a.75.75 0 0 1 1.06 0L8 6.94l3.22-3.22a.749.749 0 0 1 1.275.326.749.749 0 0 1-.215.734L9.06 8l3.22 3.22a.749.749 0 0 1-.326 1.275.749.749 0 0 1-.734-.215L8 9.06l-3.22 3.22a.751.751 0 0 1-1.042-.018.751.751 0 0 1-.018-1.042L6.94 8 3.72 4.78a.75.75 0 0 1 0-1.06Z"></path>
</svg>
</button>  <tool-tip id="tooltip-14235492-27cc-4e42-a166-65ef32ddb3c3" for="icon-button-c222047e-5534-4cd3-81b5-c2494aebcbaa" popover="manual" data-direction="s" data-type="label" data-view-component="true" class="sr-only position-absolute">Dismiss alert</tool-tip>
</div>

  
</div>
          
    </div>

  <div id="start-of-content" class="show-on-focus"></div>








    <div id="js-flash-container" data-turbo-replace>





  <template class="js-flash-template">
    
<div class="flash flash-full   {{ className }}">
  <div class="px-2" >
    <button autofocus class="flash-close js-flash-close" type="button" aria-label="Dismiss this message">
      <svg aria-hidden="true" height="16" viewBox="0 0 16 16" version="1.1" width="16" data-view-component="true" class="octicon octicon-x">
    <path d="M3.72 3.72a.75.75 0 0 1 1.06 0L8 6.94l3.22-3.22a.749.749 0 0 1 1.275.326.749.749 0 0 1-.215.734L9.06 8l3.22 3.22a.749.749 0 0 1-.326 1.275.749.749 0 0 1-.734-.215L8 9.06l-3.22 3.22a.751.751 0 0 1-1.042-.018.751.751 0 0 1-.018-1.042L6.94 8 3.72 4.78a.75.75 0 0 1 0-1.06Z"></path>
</svg>
    </button>
    <div aria-atomic="true" role="alert" class="js-flash-alert">
      
      <div>{{ message }}</div>

    </div>
  </div>
</div>
  </template>
</div>


    
    <notification-shelf-watcher data-base-url="https://github.com/notifications/beta/shelf" data-channel="eyJjIjoibm90aWZpY2F0aW9uLWNoYW5nZWQ6NjYzMjE1NTkiLCJ0IjoxNjk0MDE0NTA4fQ==--61acc778a72c8e0847b73c62214c51f5b171e13c8a1e077c569da7828aa0bea5" data-view-component="true" class="js-socket-channel"></notification-shelf-watcher>
  <div hidden data-initial data-target="notification-shelf-watcher.placeholder"></div>






      <details
  class="details-reset details-overlay details-overlay-dark js-command-palette-dialog"
  id="command-palette-pjax-container"
  data-turbo-replace
>
  <summary aria-label="command palette trigger" tabindex="-1"></summary>
  <details-dialog class="command-palette-details-dialog d-flex flex-column flex-justify-center height-fit" aria-label="command palette">
    <command-palette
      class="command-palette color-bg-default rounded-3 border color-shadow-small"
      return-to=/4019charan/4019charan/blob/main/dl_intro.ipynb
      user-id="66321559"
      activation-hotkey="Mod+k,Mod+Alt+k"
      command-mode-hotkey="Mod+Shift+k"
      data-action="
        command-palette-input-ready:command-palette#inputReady
        command-palette-page-stack-updated:command-palette#updateInputScope
        itemsUpdated:command-palette#itemsUpdated
        keydown:command-palette#onKeydown
        loadingStateChanged:command-palette#loadingStateChanged
        selectedItemChanged:command-palette#selectedItemChanged
        pageFetchError:command-palette#pageFetchError
      ">

        <command-palette-mode
          data-char="#"
            data-scope-types="[&quot;&quot;]"
            data-placeholder="Search issues and pull requests"
        ></command-palette-mode>
        <command-palette-mode
          data-char="#"
            data-scope-types="[&quot;owner&quot;,&quot;repository&quot;]"
            data-placeholder="Search issues, pull requests, discussions, and projects"
        ></command-palette-mode>
        <command-palette-mode
          data-char="!"
            data-scope-types="[&quot;owner&quot;,&quot;repository&quot;]"
            data-placeholder="Search projects"
        ></command-palette-mode>
        <command-palette-mode
          data-char="@"
            data-scope-types="[&quot;&quot;]"
            data-placeholder="Search or jump to a user, organization, or repository"
        ></command-palette-mode>
        <command-palette-mode
          data-char="@"
            data-scope-types="[&quot;owner&quot;]"
            data-placeholder="Search or jump to a repository"
        ></command-palette-mode>
        <command-palette-mode
          data-char="/"
            data-scope-types="[&quot;repository&quot;]"
            data-placeholder="Search files"
        ></command-palette-mode>
        <command-palette-mode
          data-char="?"
        ></command-palette-mode>
        <command-palette-mode
          data-char="&gt;"
            data-placeholder="Run a command"
        ></command-palette-mode>
        <command-palette-mode
          data-char=""
            data-scope-types="[&quot;&quot;]"
            data-placeholder="Search or jump to..."
        ></command-palette-mode>
        <command-palette-mode
          data-char=""
            data-scope-types="[&quot;owner&quot;]"
            data-placeholder="Search or jump to..."
        ></command-palette-mode>
      <command-palette-mode
        class="js-command-palette-default-mode"
        data-char=""
        data-placeholder="Search or jump to..."
      ></command-palette-mode>

      <command-palette-input placeholder="Search or jump to..."

        data-action="
          command-palette-input:command-palette#onInput
          command-palette-select:command-palette#onSelect
          command-palette-descope:command-palette#onDescope
          command-palette-cleared:command-palette#onInputClear
        "
      >
        <div class="js-search-icon d-flex flex-items-center mr-2" style="height: 26px">
          <svg aria-hidden="true" height="16" viewBox="0 0 16 16" version="1.1" width="16" data-view-component="true" class="octicon octicon-search color-fg-muted">
    <path d="M10.68 11.74a6 6 0 0 1-7.922-8.982 6 6 0 0 1 8.982 7.922l3.04 3.04a.749.749 0 0 1-.326 1.275.749.749 0 0 1-.734-.215ZM11.5 7a4.499 4.499 0 1 0-8.997 0A4.499 4.499 0 0 0 11.5 7Z"></path>
</svg>
        </div>
        <div class="js-spinner d-flex flex-items-center mr-2 color-fg-muted" hidden>
          <svg aria-label="Loading" class="anim-rotate" viewBox="0 0 16 16" fill="none" width="16" height="16">
            <circle
              cx="8"
              cy="8"
              r="7"
              stroke="currentColor"
              stroke-opacity="0.25"
              stroke-width="2"
              vector-effect="non-scaling-stroke"
            ></circle>
            <path
              d="M15 8a7.002 7.002 0 00-7-7"
              stroke="currentColor"
              stroke-width="2"
              stroke-linecap="round"
              vector-effect="non-scaling-stroke"
            ></path>
          </svg>
        </div>
        <command-palette-scope >
          <div data-target="command-palette-scope.placeholder" hidden class="color-fg-subtle">/&nbsp;&nbsp;<span class="text-semibold color-fg-default">...</span>&nbsp;&nbsp;/&nbsp;&nbsp;</div>
              <command-palette-token
                data-text="4019charan"
                data-id="MDQ6VXNlcjY2MzIxNTU5"
                data-type="owner"
                data-value="4019charan"
                data-targets="command-palette-scope.tokens"
                class="color-fg-default text-semibold"
                style="white-space:nowrap;line-height:20px;"
                >4019charan<span class="color-fg-subtle text-normal">&nbsp;&nbsp;/&nbsp;&nbsp;</span></command-palette-token>
              <command-palette-token
                data-text="4019charan"
                data-id="R_kgDOJwchCw"
                data-type="repository"
                data-value="4019charan"
                data-targets="command-palette-scope.tokens"
                class="color-fg-default text-semibold"
                style="white-space:nowrap;line-height:20px;"
                >4019charan<span class="color-fg-subtle text-normal">&nbsp;&nbsp;/&nbsp;&nbsp;</span></command-palette-token>
        </command-palette-scope>
        <div class="command-palette-input-group flex-1 form-control border-0 box-shadow-none" style="z-index: 0">
          <div class="command-palette-typeahead position-absolute d-flex flex-items-center Truncate">
            <span class="typeahead-segment input-mirror" data-target="command-palette-input.mirror"></span>
            <span class="Truncate-text" data-target="command-palette-input.typeaheadText"></span>
            <span class="typeahead-segment" data-target="command-palette-input.typeaheadPlaceholder"></span>
          </div>
          <input
            class="js-overlay-input typeahead-input d-none"
            disabled
            tabindex="-1"
            aria-label="Hidden input for typeahead"
          >
          <input
            type="text"
            autocomplete="off"
            autocorrect="off"
            autocapitalize="off"
            spellcheck="false"
            class="js-input typeahead-input form-control border-0 box-shadow-none input-block width-full no-focus-indicator"
            aria-label="Command palette input"
            aria-haspopup="listbox"
            aria-expanded="false"
            aria-autocomplete="list"
            aria-controls="command-palette-page-stack"
            role="combobox"
            data-action="
              input:command-palette-input#onInput
              keydown:command-palette-input#onKeydown
            "
          >
        </div>
          <div data-view-component="true" class="position-relative d-inline-block">
    <button aria-keyshortcuts="Meta+Delete" data-action="click:command-palette-input#onClear keypress:command-palette-input#onClear" data-target="command-palette-input.clearButton" id="command-palette-clear-button" hidden="hidden" type="button" data-view-component="true" class="btn-octicon command-palette-input-clear-button">      <svg aria-hidden="true" height="16" viewBox="0 0 16 16" version="1.1" width="16" data-view-component="true" class="octicon octicon-x-circle-fill">
    <path d="M2.343 13.657A8 8 0 1 1 13.658 2.343 8 8 0 0 1 2.343 13.657ZM6.03 4.97a.751.751 0 0 0-1.042.018.751.751 0 0 0-.018 1.042L6.94 8 4.97 9.97a.749.749 0 0 0 .326 1.275.749.749 0 0 0 .734-.215L8 9.06l1.97 1.97a.749.749 0 0 0 1.275-.326.749.749 0 0 0-.215-.734L9.06 8l1.97-1.97a.749.749 0 0 0-.326-1.275.749.749 0 0 0-.734.215L8 6.94Z"></path>
</svg>
</button>    <tool-tip id="tooltip-17650571-f8cd-4b81-aa33-2c5ceeaada08" for="command-palette-clear-button" popover="manual" data-direction="w" data-type="label" data-view-component="true" class="sr-only position-absolute">Clear Command Palette</tool-tip>
</div>
      </command-palette-input>

      <command-palette-page-stack
        data-default-scope-id="R_kgDOJwchCw"
        data-default-scope-type="Repository"
        data-action="command-palette-page-octicons-cached:command-palette-page-stack#cacheOcticons"
      >
          <command-palette-tip
            class="color-fg-muted f6 px-3 py-1 my-2"
              data-scope-types="[&quot;&quot;,&quot;owner&quot;,&quot;repository&quot;]"
            data-mode=""
            data-value="">
            <div class="d-flex flex-items-start flex-justify-between">
              <div>
                <span class="text-bold">Tip:</span>
                  Type <kbd class="hx_kbd">#</kbd> to search pull requests
              </div>
              <div class="ml-2 flex-shrink-0">
                Type <kbd class="hx_kbd">?</kbd> for help and tips
              </div>
            </div>
          </command-palette-tip>
          <command-palette-tip
            class="color-fg-muted f6 px-3 py-1 my-2"
              data-scope-types="[&quot;&quot;,&quot;owner&quot;,&quot;repository&quot;]"
            data-mode=""
            data-value="">
            <div class="d-flex flex-items-start flex-justify-between">
              <div>
                <span class="text-bold">Tip:</span>
                  Type <kbd class="hx_kbd">#</kbd> to search issues
              </div>
              <div class="ml-2 flex-shrink-0">
                Type <kbd class="hx_kbd">?</kbd> for help and tips
              </div>
            </div>
          </command-palette-tip>
          <command-palette-tip
            class="color-fg-muted f6 px-3 py-1 my-2"
              data-scope-types="[&quot;owner&quot;,&quot;repository&quot;]"
            data-mode=""
            data-value="">
            <div class="d-flex flex-items-start flex-justify-between">
              <div>
                <span class="text-bold">Tip:</span>
                  Type <kbd class="hx_kbd">#</kbd> to search discussions
              </div>
              <div class="ml-2 flex-shrink-0">
                Type <kbd class="hx_kbd">?</kbd> for help and tips
              </div>
            </div>
          </command-palette-tip>
          <command-palette-tip
            class="color-fg-muted f6 px-3 py-1 my-2"
              data-scope-types="[&quot;owner&quot;,&quot;repository&quot;]"
            data-mode=""
            data-value="">
            <div class="d-flex flex-items-start flex-justify-between">
              <div>
                <span class="text-bold">Tip:</span>
                  Type <kbd class="hx_kbd">!</kbd> to search projects
              </div>
              <div class="ml-2 flex-shrink-0">
                Type <kbd class="hx_kbd">?</kbd> for help and tips
              </div>
            </div>
          </command-palette-tip>
          <command-palette-tip
            class="color-fg-muted f6 px-3 py-1 my-2"
              data-scope-types="[&quot;owner&quot;]"
            data-mode=""
            data-value="">
            <div class="d-flex flex-items-start flex-justify-between">
              <div>
                <span class="text-bold">Tip:</span>
                  Type <kbd class="hx_kbd">@</kbd> to search teams
              </div>
              <div class="ml-2 flex-shrink-0">
                Type <kbd class="hx_kbd">?</kbd> for help and tips
              </div>
            </div>
          </command-palette-tip>
          <command-palette-tip
            class="color-fg-muted f6 px-3 py-1 my-2"
              data-scope-types="[&quot;&quot;]"
            data-mode=""
            data-value="">
            <div class="d-flex flex-items-start flex-justify-between">
              <div>
                <span class="text-bold">Tip:</span>
                  Type <kbd class="hx_kbd">@</kbd> to search people and organizations
              </div>
              <div class="ml-2 flex-shrink-0">
                Type <kbd class="hx_kbd">?</kbd> for help and tips
              </div>
            </div>
          </command-palette-tip>
          <command-palette-tip
            class="color-fg-muted f6 px-3 py-1 my-2"
              data-scope-types="[&quot;&quot;,&quot;owner&quot;,&quot;repository&quot;]"
            data-mode=""
            data-value="">
            <div class="d-flex flex-items-start flex-justify-between">
              <div>
                <span class="text-bold">Tip:</span>
                  Type <kbd class="hx_kbd">&gt;</kbd> to activate command mode
              </div>
              <div class="ml-2 flex-shrink-0">
                Type <kbd class="hx_kbd">?</kbd> for help and tips
              </div>
            </div>
          </command-palette-tip>
          <command-palette-tip
            class="color-fg-muted f6 px-3 py-1 my-2"
              data-scope-types="[&quot;&quot;,&quot;owner&quot;,&quot;repository&quot;]"
            data-mode=""
            data-value="">
            <div class="d-flex flex-items-start flex-justify-between">
              <div>
                <span class="text-bold">Tip:</span>
                  Go to your accessibility settings to change your keyboard shortcuts
              </div>
              <div class="ml-2 flex-shrink-0">
                Type <kbd class="hx_kbd">?</kbd> for help and tips
              </div>
            </div>
          </command-palette-tip>
          <command-palette-tip
            class="color-fg-muted f6 px-3 py-1 my-2"
              data-scope-types="[&quot;&quot;,&quot;owner&quot;,&quot;repository&quot;]"
            data-mode="#"
            data-value="">
            <div class="d-flex flex-items-start flex-justify-between">
              <div>
                <span class="text-bold">Tip:</span>
                  Type author:@me to search your content
              </div>
              <div class="ml-2 flex-shrink-0">
                Type <kbd class="hx_kbd">?</kbd> for help and tips
              </div>
            </div>
          </command-palette-tip>
          <command-palette-tip
            class="color-fg-muted f6 px-3 py-1 my-2"
              data-scope-types="[&quot;&quot;,&quot;owner&quot;,&quot;repository&quot;]"
            data-mode="#"
            data-value="">
            <div class="d-flex flex-items-start flex-justify-between">
              <div>
                <span class="text-bold">Tip:</span>
                  Type is:pr to filter to pull requests
              </div>
              <div class="ml-2 flex-shrink-0">
                Type <kbd class="hx_kbd">?</kbd> for help and tips
              </div>
            </div>
          </command-palette-tip>
          <command-palette-tip
            class="color-fg-muted f6 px-3 py-1 my-2"
              data-scope-types="[&quot;&quot;,&quot;owner&quot;,&quot;repository&quot;]"
            data-mode="#"
            data-value="">
            <div class="d-flex flex-items-start flex-justify-between">
              <div>
                <span class="text-bold">Tip:</span>
                  Type is:issue to filter to issues
              </div>
              <div class="ml-2 flex-shrink-0">
                Type <kbd class="hx_kbd">?</kbd> for help and tips
              </div>
            </div>
          </command-palette-tip>
          <command-palette-tip
            class="color-fg-muted f6 px-3 py-1 my-2"
              data-scope-types="[&quot;owner&quot;,&quot;repository&quot;]"
            data-mode="#"
            data-value="">
            <div class="d-flex flex-items-start flex-justify-between">
              <div>
                <span class="text-bold">Tip:</span>
                  Type is:project to filter to projects
              </div>
              <div class="ml-2 flex-shrink-0">
                Type <kbd class="hx_kbd">?</kbd> for help and tips
              </div>
            </div>
          </command-palette-tip>
          <command-palette-tip
            class="color-fg-muted f6 px-3 py-1 my-2"
              data-scope-types="[&quot;&quot;,&quot;owner&quot;,&quot;repository&quot;]"
            data-mode="#"
            data-value="">
            <div class="d-flex flex-items-start flex-justify-between">
              <div>
                <span class="text-bold">Tip:</span>
                  Type is:open to filter to open content
              </div>
              <div class="ml-2 flex-shrink-0">
                Type <kbd class="hx_kbd">?</kbd> for help and tips
              </div>
            </div>
          </command-palette-tip>
        <command-palette-tip class="mx-3 my-2 flash flash-error d-flex flex-items-center" data-scope-types="*" data-on-error>
          <div>
            <svg aria-hidden="true" height="16" viewBox="0 0 16 16" version="1.1" width="16" data-view-component="true" class="octicon octicon-alert">
    <path d="M6.457 1.047c.659-1.234 2.427-1.234 3.086 0l6.082 11.378A1.75 1.75 0 0 1 14.082 15H1.918a1.75 1.75 0 0 1-1.543-2.575Zm1.763.707a.25.25 0 0 0-.44 0L1.698 13.132a.25.25 0 0 0 .22.368h12.164a.25.25 0 0 0 .22-.368Zm.53 3.996v2.5a.75.75 0 0 1-1.5 0v-2.5a.75.75 0 0 1 1.5 0ZM9 11a1 1 0 1 1-2 0 1 1 0 0 1 2 0Z"></path>
</svg>
          </div>
          <div class="px-2">
            We’ve encountered an error and some results aren't available at this time. Type a new search or try again later.
          </div>
        </command-palette-tip>
        <command-palette-tip class="h4 color-fg-default pl-3 pb-2 pt-3" data-on-empty data-scope-types="*" data-match-mode="[^?]|^$">
          No results matched your search
        </command-palette-tip>

        <div hidden>

            <div data-targets="command-palette-page-stack.localOcticons" data-octicon-id="arrow-right-color-fg-muted">
              <svg height="16" class="octicon octicon-arrow-right color-fg-muted" viewBox="0 0 16 16" version="1.1" width="16" aria-hidden="true"><path d="M8.22 2.97a.75.75 0 0 1 1.06 0l4.25 4.25a.75.75 0 0 1 0 1.06l-4.25 4.25a.751.751 0 0 1-1.042-.018.751.751 0 0 1-.018-1.042l2.97-2.97H3.75a.75.75 0 0 1 0-1.5h7.44L8.22 4.03a.75.75 0 0 1 0-1.06Z"></path></svg>
            </div>
            <div data-targets="command-palette-page-stack.localOcticons" data-octicon-id="arrow-right-color-fg-default">
              <svg height="16" class="octicon octicon-arrow-right color-fg-default" viewBox="0 0 16 16" version="1.1" width="16" aria-hidden="true"><path d="M8.22 2.97a.75.75 0 0 1 1.06 0l4.25 4.25a.75.75 0 0 1 0 1.06l-4.25 4.25a.751.751 0 0 1-1.042-.018.751.751 0 0 1-.018-1.042l2.97-2.97H3.75a.75.75 0 0 1 0-1.5h7.44L8.22 4.03a.75.75 0 0 1 0-1.06Z"></path></svg>
            </div>
            <div data-targets="command-palette-page-stack.localOcticons" data-octicon-id="codespaces-color-fg-muted">
              <svg height="16" class="octicon octicon-codespaces color-fg-muted" viewBox="0 0 16 16" version="1.1" width="16" aria-hidden="true"><path d="M0 11.25c0-.966.784-1.75 1.75-1.75h12.5c.966 0 1.75.784 1.75 1.75v3A1.75 1.75 0 0 1 14.25 16H1.75A1.75 1.75 0 0 1 0 14.25Zm2-9.5C2 .784 2.784 0 3.75 0h8.5C13.216 0 14 .784 14 1.75v5a1.75 1.75 0 0 1-1.75 1.75h-8.5A1.75 1.75 0 0 1 2 6.75Zm1.75-.25a.25.25 0 0 0-.25.25v5c0 .138.112.25.25.25h8.5a.25.25 0 0 0 .25-.25v-5a.25.25 0 0 0-.25-.25Zm-2 9.5a.25.25 0 0 0-.25.25v3c0 .138.112.25.25.25h12.5a.25.25 0 0 0 .25-.25v-3a.25.25 0 0 0-.25-.25Z"></path><path d="M7 12.75a.75.75 0 0 1 .75-.75h4.5a.75.75 0 0 1 0 1.5h-4.5a.75.75 0 0 1-.75-.75Zm-4 0a.75.75 0 0 1 .75-.75h.5a.75.75 0 0 1 0 1.5h-.5a.75.75 0 0 1-.75-.75Z"></path></svg>
            </div>
            <div data-targets="command-palette-page-stack.localOcticons" data-octicon-id="copy-color-fg-muted">
              <svg height="16" class="octicon octicon-copy color-fg-muted" viewBox="0 0 16 16" version="1.1" width="16" aria-hidden="true"><path d="M0 6.75C0 5.784.784 5 1.75 5h1.5a.75.75 0 0 1 0 1.5h-1.5a.25.25 0 0 0-.25.25v7.5c0 .138.112.25.25.25h7.5a.25.25 0 0 0 .25-.25v-1.5a.75.75 0 0 1 1.5 0v1.5A1.75 1.75 0 0 1 9.25 16h-7.5A1.75 1.75 0 0 1 0 14.25Z"></path><path d="M5 1.75C5 .784 5.784 0 6.75 0h7.5C15.216 0 16 .784 16 1.75v7.5A1.75 1.75 0 0 1 14.25 11h-7.5A1.75 1.75 0 0 1 5 9.25Zm1.75-.25a.25.25 0 0 0-.25.25v7.5c0 .138.112.25.25.25h7.5a.25.25 0 0 0 .25-.25v-7.5a.25.25 0 0 0-.25-.25Z"></path></svg>
            </div>
            <div data-targets="command-palette-page-stack.localOcticons" data-octicon-id="dash-color-fg-muted">
              <svg height="16" class="octicon octicon-dash color-fg-muted" viewBox="0 0 16 16" version="1.1" width="16" aria-hidden="true"><path d="M2 7.75A.75.75 0 0 1 2.75 7h10a.75.75 0 0 1 0 1.5h-10A.75.75 0 0 1 2 7.75Z"></path></svg>
            </div>
            <div data-targets="command-palette-page-stack.localOcticons" data-octicon-id="file-color-fg-muted">
              <svg height="16" class="octicon octicon-file color-fg-muted" viewBox="0 0 16 16" version="1.1" width="16" aria-hidden="true"><path d="M2 1.75C2 .784 2.784 0 3.75 0h6.586c.464 0 .909.184 1.237.513l2.914 2.914c.329.328.513.773.513 1.237v9.586A1.75 1.75 0 0 1 13.25 16h-9.5A1.75 1.75 0 0 1 2 14.25Zm1.75-.25a.25.25 0 0 0-.25.25v12.5c0 .138.112.25.25.25h9.5a.25.25 0 0 0 .25-.25V6h-2.75A1.75 1.75 0 0 1 9 4.25V1.5Zm6.75.062V4.25c0 .138.112.25.25.25h2.688l-.011-.013-2.914-2.914-.013-.011Z"></path></svg>
            </div>
            <div data-targets="command-palette-page-stack.localOcticons" data-octicon-id="gear-color-fg-muted">
              <svg height="16" class="octicon octicon-gear color-fg-muted" viewBox="0 0 16 16" version="1.1" width="16" aria-hidden="true"><path d="M8 0a8.2 8.2 0 0 1 .701.031C9.444.095 9.99.645 10.16 1.29l.288 1.107c.018.066.079.158.212.224.231.114.454.243.668.386.123.082.233.09.299.071l1.103-.303c.644-.176 1.392.021 1.82.63.27.385.506.792.704 1.218.315.675.111 1.422-.364 1.891l-.814.806c-.049.048-.098.147-.088.294.016.257.016.515 0 .772-.01.147.038.246.088.294l.814.806c.475.469.679 1.216.364 1.891a7.977 7.977 0 0 1-.704 1.217c-.428.61-1.176.807-1.82.63l-1.102-.302c-.067-.019-.177-.011-.3.071a5.909 5.909 0 0 1-.668.386c-.133.066-.194.158-.211.224l-.29 1.106c-.168.646-.715 1.196-1.458 1.26a8.006 8.006 0 0 1-1.402 0c-.743-.064-1.289-.614-1.458-1.26l-.289-1.106c-.018-.066-.079-.158-.212-.224a5.738 5.738 0 0 1-.668-.386c-.123-.082-.233-.09-.299-.071l-1.103.303c-.644.176-1.392-.021-1.82-.63a8.12 8.12 0 0 1-.704-1.218c-.315-.675-.111-1.422.363-1.891l.815-.806c.05-.048.098-.147.088-.294a6.214 6.214 0 0 1 0-.772c.01-.147-.038-.246-.088-.294l-.815-.806C.635 6.045.431 5.298.746 4.623a7.92 7.92 0 0 1 .704-1.217c.428-.61 1.176-.807 1.82-.63l1.102.302c.067.019.177.011.3-.071.214-.143.437-.272.668-.386.133-.066.194-.158.211-.224l.29-1.106C6.009.645 6.556.095 7.299.03 7.53.01 7.764 0 8 0Zm-.571 1.525c-.036.003-.108.036-.137.146l-.289 1.105c-.147.561-.549.967-.998 1.189-.173.086-.34.183-.5.29-.417.278-.97.423-1.529.27l-1.103-.303c-.109-.03-.175.016-.195.045-.22.312-.412.644-.573.99-.014.031-.021.11.059.19l.815.806c.411.406.562.957.53 1.456a4.709 4.709 0 0 0 0 .582c.032.499-.119 1.05-.53 1.456l-.815.806c-.081.08-.073.159-.059.19.162.346.353.677.573.989.02.03.085.076.195.046l1.102-.303c.56-.153 1.113-.008 1.53.27.161.107.328.204.501.29.447.222.85.629.997 1.189l.289 1.105c.029.109.101.143.137.146a6.6 6.6 0 0 0 1.142 0c.036-.003.108-.036.137-.146l.289-1.105c.147-.561.549-.967.998-1.189.173-.086.34-.183.5-.29.417-.278.97-.423 1.529-.27l1.103.303c.109.029.175-.016.195-.045.22-.313.411-.644.573-.99.014-.031.021-.11-.059-.19l-.815-.806c-.411-.406-.562-.957-.53-1.456a4.709 4.709 0 0 0 0-.582c-.032-.499.119-1.05.53-1.456l.815-.806c.081-.08.073-.159.059-.19a6.464 6.464 0 0 0-.573-.989c-.02-.03-.085-.076-.195-.046l-1.102.303c-.56.153-1.113.008-1.53-.27a4.44 4.44 0 0 0-.501-.29c-.447-.222-.85-.629-.997-1.189l-.289-1.105c-.029-.11-.101-.143-.137-.146a6.6 6.6 0 0 0-1.142 0ZM11 8a3 3 0 1 1-6 0 3 3 0 0 1 6 0ZM9.5 8a1.5 1.5 0 1 0-3.001.001A1.5 1.5 0 0 0 9.5 8Z"></path></svg>
            </div>
            <div data-targets="command-palette-page-stack.localOcticons" data-octicon-id="lock-color-fg-muted">
              <svg height="16" class="octicon octicon-lock color-fg-muted" viewBox="0 0 16 16" version="1.1" width="16" aria-hidden="true"><path d="M4 4a4 4 0 0 1 8 0v2h.25c.966 0 1.75.784 1.75 1.75v5.5A1.75 1.75 0 0 1 12.25 15h-8.5A1.75 1.75 0 0 1 2 13.25v-5.5C2 6.784 2.784 6 3.75 6H4Zm8.25 3.5h-8.5a.25.25 0 0 0-.25.25v5.5c0 .138.112.25.25.25h8.5a.25.25 0 0 0 .25-.25v-5.5a.25.25 0 0 0-.25-.25ZM10.5 6V4a2.5 2.5 0 1 0-5 0v2Z"></path></svg>
            </div>
            <div data-targets="command-palette-page-stack.localOcticons" data-octicon-id="moon-color-fg-muted">
              <svg height="16" class="octicon octicon-moon color-fg-muted" viewBox="0 0 16 16" version="1.1" width="16" aria-hidden="true"><path d="M9.598 1.591a.749.749 0 0 1 .785-.175 7.001 7.001 0 1 1-8.967 8.967.75.75 0 0 1 .961-.96 5.5 5.5 0 0 0 7.046-7.046.75.75 0 0 1 .175-.786Zm1.616 1.945a7 7 0 0 1-7.678 7.678 5.499 5.499 0 1 0 7.678-7.678Z"></path></svg>
            </div>
            <div data-targets="command-palette-page-stack.localOcticons" data-octicon-id="person-color-fg-muted">
              <svg height="16" class="octicon octicon-person color-fg-muted" viewBox="0 0 16 16" version="1.1" width="16" aria-hidden="true"><path d="M10.561 8.073a6.005 6.005 0 0 1 3.432 5.142.75.75 0 1 1-1.498.07 4.5 4.5 0 0 0-8.99 0 .75.75 0 0 1-1.498-.07 6.004 6.004 0 0 1 3.431-5.142 3.999 3.999 0 1 1 5.123 0ZM10.5 5a2.5 2.5 0 1 0-5 0 2.5 2.5 0 0 0 5 0Z"></path></svg>
            </div>
            <div data-targets="command-palette-page-stack.localOcticons" data-octicon-id="pencil-color-fg-muted">
              <svg height="16" class="octicon octicon-pencil color-fg-muted" viewBox="0 0 16 16" version="1.1" width="16" aria-hidden="true"><path d="M11.013 1.427a1.75 1.75 0 0 1 2.474 0l1.086 1.086a1.75 1.75 0 0 1 0 2.474l-8.61 8.61c-.21.21-.47.364-.756.445l-3.251.93a.75.75 0 0 1-.927-.928l.929-3.25c.081-.286.235-.547.445-.758l8.61-8.61Zm.176 4.823L9.75 4.81l-6.286 6.287a.253.253 0 0 0-.064.108l-.558 1.953 1.953-.558a.253.253 0 0 0 .108-.064Zm1.238-3.763a.25.25 0 0 0-.354 0L10.811 3.75l1.439 1.44 1.263-1.263a.25.25 0 0 0 0-.354Z"></path></svg>
            </div>
            <div data-targets="command-palette-page-stack.localOcticons" data-octicon-id="issue-opened-open">
              <svg height="16" class="octicon octicon-issue-opened open" viewBox="0 0 16 16" version="1.1" width="16" aria-hidden="true"><path d="M8 9.5a1.5 1.5 0 1 0 0-3 1.5 1.5 0 0 0 0 3Z"></path><path d="M8 0a8 8 0 1 1 0 16A8 8 0 0 1 8 0ZM1.5 8a6.5 6.5 0 1 0 13 0 6.5 6.5 0 0 0-13 0Z"></path></svg>
            </div>
            <div data-targets="command-palette-page-stack.localOcticons" data-octicon-id="git-pull-request-draft-color-fg-muted">
              <svg height="16" class="octicon octicon-git-pull-request-draft color-fg-muted" viewBox="0 0 16 16" version="1.1" width="16" aria-hidden="true"><path d="M3.25 1A2.25 2.25 0 0 1 4 5.372v5.256a2.251 2.251 0 1 1-1.5 0V5.372A2.251 2.251 0 0 1 3.25 1Zm9.5 14a2.25 2.25 0 1 1 0-4.5 2.25 2.25 0 0 1 0 4.5ZM2.5 3.25a.75.75 0 1 0 1.5 0 .75.75 0 0 0-1.5 0ZM3.25 12a.75.75 0 1 0 0 1.5.75.75 0 0 0 0-1.5Zm9.5 0a.75.75 0 1 0 0 1.5.75.75 0 0 0 0-1.5ZM14 7.5a1.25 1.25 0 1 1-2.5 0 1.25 1.25 0 0 1 2.5 0Zm0-4.25a1.25 1.25 0 1 1-2.5 0 1.25 1.25 0 0 1 2.5 0Z"></path></svg>
            </div>
            <div data-targets="command-palette-page-stack.localOcticons" data-octicon-id="search-color-fg-muted">
              <svg height="16" class="octicon octicon-search color-fg-muted" viewBox="0 0 16 16" version="1.1" width="16" aria-hidden="true"><path d="M10.68 11.74a6 6 0 0 1-7.922-8.982 6 6 0 0 1 8.982 7.922l3.04 3.04a.749.749 0 0 1-.326 1.275.749.749 0 0 1-.734-.215ZM11.5 7a4.499 4.499 0 1 0-8.997 0A4.499 4.499 0 0 0 11.5 7Z"></path></svg>
            </div>
            <div data-targets="command-palette-page-stack.localOcticons" data-octicon-id="sun-color-fg-muted">
              <svg height="16" class="octicon octicon-sun color-fg-muted" viewBox="0 0 16 16" version="1.1" width="16" aria-hidden="true"><path d="M8 12a4 4 0 1 1 0-8 4 4 0 0 1 0 8Zm0-1.5a2.5 2.5 0 1 0 0-5 2.5 2.5 0 0 0 0 5Zm5.657-8.157a.75.75 0 0 1 0 1.061l-1.061 1.06a.749.749 0 0 1-1.275-.326.749.749 0 0 1 .215-.734l1.06-1.06a.75.75 0 0 1 1.06 0Zm-9.193 9.193a.75.75 0 0 1 0 1.06l-1.06 1.061a.75.75 0 1 1-1.061-1.06l1.06-1.061a.75.75 0 0 1 1.061 0ZM8 0a.75.75 0 0 1 .75.75v1.5a.75.75 0 0 1-1.5 0V.75A.75.75 0 0 1 8 0ZM3 8a.75.75 0 0 1-.75.75H.75a.75.75 0 0 1 0-1.5h1.5A.75.75 0 0 1 3 8Zm13 0a.75.75 0 0 1-.75.75h-1.5a.75.75 0 0 1 0-1.5h1.5A.75.75 0 0 1 16 8Zm-8 5a.75.75 0 0 1 .75.75v1.5a.75.75 0 0 1-1.5 0v-1.5A.75.75 0 0 1 8 13Zm3.536-1.464a.75.75 0 0 1 1.06 0l1.061 1.06a.75.75 0 0 1-1.06 1.061l-1.061-1.06a.75.75 0 0 1 0-1.061ZM2.343 2.343a.75.75 0 0 1 1.061 0l1.06 1.061a.751.751 0 0 1-.018 1.042.751.751 0 0 1-1.042.018l-1.06-1.06a.75.75 0 0 1 0-1.06Z"></path></svg>
            </div>
            <div data-targets="command-palette-page-stack.localOcticons" data-octicon-id="sync-color-fg-muted">
              <svg height="16" class="octicon octicon-sync color-fg-muted" viewBox="0 0 16 16" version="1.1" width="16" aria-hidden="true"><path d="M1.705 8.005a.75.75 0 0 1 .834.656 5.5 5.5 0 0 0 9.592 2.97l-1.204-1.204a.25.25 0 0 1 .177-.427h3.646a.25.25 0 0 1 .25.25v3.646a.25.25 0 0 1-.427.177l-1.38-1.38A7.002 7.002 0 0 1 1.05 8.84a.75.75 0 0 1 .656-.834ZM8 2.5a5.487 5.487 0 0 0-4.131 1.869l1.204 1.204A.25.25 0 0 1 4.896 6H1.25A.25.25 0 0 1 1 5.75V2.104a.25.25 0 0 1 .427-.177l1.38 1.38A7.002 7.002 0 0 1 14.95 7.16a.75.75 0 0 1-1.49.178A5.5 5.5 0 0 0 8 2.5Z"></path></svg>
            </div>
            <div data-targets="command-palette-page-stack.localOcticons" data-octicon-id="trash-color-fg-muted">
              <svg height="16" class="octicon octicon-trash color-fg-muted" viewBox="0 0 16 16" version="1.1" width="16" aria-hidden="true"><path d="M11 1.75V3h2.25a.75.75 0 0 1 0 1.5H2.75a.75.75 0 0 1 0-1.5H5V1.75C5 .784 5.784 0 6.75 0h2.5C10.216 0 11 .784 11 1.75ZM4.496 6.675l.66 6.6a.25.25 0 0 0 .249.225h5.19a.25.25 0 0 0 .249-.225l.66-6.6a.75.75 0 0 1 1.492.149l-.66 6.6A1.748 1.748 0 0 1 10.595 15h-5.19a1.75 1.75 0 0 1-1.741-1.575l-.66-6.6a.75.75 0 1 1 1.492-.15ZM6.5 1.75V3h3V1.75a.25.25 0 0 0-.25-.25h-2.5a.25.25 0 0 0-.25.25Z"></path></svg>
            </div>
            <div data-targets="command-palette-page-stack.localOcticons" data-octicon-id="key-color-fg-muted">
              <svg height="16" class="octicon octicon-key color-fg-muted" viewBox="0 0 16 16" version="1.1" width="16" aria-hidden="true"><path d="M10.5 0a5.499 5.499 0 1 1-1.288 10.848l-.932.932a.749.749 0 0 1-.53.22H7v.75a.749.749 0 0 1-.22.53l-.5.5a.749.749 0 0 1-.53.22H5v.75a.749.749 0 0 1-.22.53l-.5.5a.749.749 0 0 1-.53.22h-2A1.75 1.75 0 0 1 0 14.25v-2c0-.199.079-.389.22-.53l4.932-4.932A5.5 5.5 0 0 1 10.5 0Zm-4 5.5c-.001.431.069.86.205 1.269a.75.75 0 0 1-.181.768L1.5 12.56v1.69c0 .138.112.25.25.25h1.69l.06-.06v-1.19a.75.75 0 0 1 .75-.75h1.19l.06-.06v-1.19a.75.75 0 0 1 .75-.75h1.19l1.023-1.025a.75.75 0 0 1 .768-.18A4 4 0 1 0 6.5 5.5ZM11 6a1 1 0 1 1 0-2 1 1 0 0 1 0 2Z"></path></svg>
            </div>
            <div data-targets="command-palette-page-stack.localOcticons" data-octicon-id="comment-discussion-color-fg-muted">
              <svg height="16" class="octicon octicon-comment-discussion color-fg-muted" viewBox="0 0 16 16" version="1.1" width="16" aria-hidden="true"><path d="M1.75 1h8.5c.966 0 1.75.784 1.75 1.75v5.5A1.75 1.75 0 0 1 10.25 10H7.061l-2.574 2.573A1.458 1.458 0 0 1 2 11.543V10h-.25A1.75 1.75 0 0 1 0 8.25v-5.5C0 1.784.784 1 1.75 1ZM1.5 2.75v5.5c0 .138.112.25.25.25h1a.75.75 0 0 1 .75.75v2.19l2.72-2.72a.749.749 0 0 1 .53-.22h3.5a.25.25 0 0 0 .25-.25v-5.5a.25.25 0 0 0-.25-.25h-8.5a.25.25 0 0 0-.25.25Zm13 2a.25.25 0 0 0-.25-.25h-.5a.75.75 0 0 1 0-1.5h.5c.966 0 1.75.784 1.75 1.75v5.5A1.75 1.75 0 0 1 14.25 12H14v1.543a1.458 1.458 0 0 1-2.487 1.03L9.22 12.28a.749.749 0 0 1 .326-1.275.749.749 0 0 1 .734.215l2.22 2.22v-2.19a.75.75 0 0 1 .75-.75h1a.25.25 0 0 0 .25-.25Z"></path></svg>
            </div>
            <div data-targets="command-palette-page-stack.localOcticons" data-octicon-id="bell-color-fg-muted">
              <svg height="16" class="octicon octicon-bell color-fg-muted" viewBox="0 0 16 16" version="1.1" width="16" aria-hidden="true"><path d="M8 16a2 2 0 0 0 1.985-1.75c.017-.137-.097-.25-.235-.25h-3.5c-.138 0-.252.113-.235.25A2 2 0 0 0 8 16ZM3 5a5 5 0 0 1 10 0v2.947c0 .05.015.098.042.139l1.703 2.555A1.519 1.519 0 0 1 13.482 13H2.518a1.516 1.516 0 0 1-1.263-2.36l1.703-2.554A.255.255 0 0 0 3 7.947Zm5-3.5A3.5 3.5 0 0 0 4.5 5v2.947c0 .346-.102.683-.294.97l-1.703 2.556a.017.017 0 0 0-.003.01l.001.006c0 .002.002.004.004.006l.006.004.007.001h10.964l.007-.001.006-.004.004-.006.001-.007a.017.017 0 0 0-.003-.01l-1.703-2.554a1.745 1.745 0 0 1-.294-.97V5A3.5 3.5 0 0 0 8 1.5Z"></path></svg>
            </div>
            <div data-targets="command-palette-page-stack.localOcticons" data-octicon-id="bell-slash-color-fg-muted">
              <svg height="16" class="octicon octicon-bell-slash color-fg-muted" viewBox="0 0 16 16" version="1.1" width="16" aria-hidden="true"><path d="m4.182 4.31.016.011 10.104 7.316.013.01 1.375.996a.75.75 0 1 1-.88 1.214L13.626 13H2.518a1.516 1.516 0 0 1-1.263-2.36l1.703-2.554A.255.255 0 0 0 3 7.947V5.305L.31 3.357a.75.75 0 1 1 .88-1.214Zm7.373 7.19L4.5 6.391v1.556c0 .346-.102.683-.294.97l-1.703 2.556a.017.017 0 0 0-.003.01c0 .005.002.009.005.012l.006.004.007.001ZM8 1.5c-.997 0-1.895.416-2.534 1.086A.75.75 0 1 1 4.38 1.55 5 5 0 0 1 13 5v2.373a.75.75 0 0 1-1.5 0V5A3.5 3.5 0 0 0 8 1.5ZM8 16a2 2 0 0 1-1.985-1.75c-.017-.137.097-.25.235-.25h3.5c.138 0 .252.113.235.25A2 2 0 0 1 8 16Z"></path></svg>
            </div>
            <div data-targets="command-palette-page-stack.localOcticons" data-octicon-id="paintbrush-color-fg-muted">
              <svg height="16" class="octicon octicon-paintbrush color-fg-muted" viewBox="0 0 16 16" version="1.1" width="16" aria-hidden="true"><path d="M11.134 1.535c.7-.509 1.416-.942 2.076-1.155.649-.21 1.463-.267 2.069.34.603.601.568 1.411.368 2.07-.202.668-.624 1.39-1.125 2.096-1.011 1.424-2.496 2.987-3.775 4.249-1.098 1.084-2.132 1.839-3.04 2.3a3.744 3.744 0 0 1-1.055 3.217c-.431.431-1.065.691-1.657.861-.614.177-1.294.287-1.914.357A21.151 21.151 0 0 1 .797 16H.743l.007-.75H.749L.742 16a.75.75 0 0 1-.743-.742l.743-.008-.742.007v-.054a21.25 21.25 0 0 1 .13-2.284c.067-.647.187-1.287.358-1.914.17-.591.43-1.226.86-1.657a3.746 3.746 0 0 1 3.227-1.054c.466-.893 1.225-1.907 2.314-2.982 1.271-1.255 2.833-2.75 4.245-3.777ZM1.62 13.089c-.051.464-.086.929-.104 1.395.466-.018.932-.053 1.396-.104a10.511 10.511 0 0 0 1.668-.309c.526-.151.856-.325 1.011-.48a2.25 2.25 0 1 0-3.182-3.182c-.155.155-.329.485-.48 1.01a10.515 10.515 0 0 0-.309 1.67Zm10.396-10.34c-1.224.89-2.605 2.189-3.822 3.384l1.718 1.718c1.21-1.205 2.51-2.597 3.387-3.833.47-.662.78-1.227.912-1.662.134-.444.032-.551.009-.575h-.001V1.78c-.014-.014-.113-.113-.548.027-.432.14-.995.462-1.655.942Zm-4.832 7.266-.001.001a9.859 9.859 0 0 0 1.63-1.142L7.155 7.216a9.7 9.7 0 0 0-1.161 1.607c.482.302.889.71 1.19 1.192Z"></path></svg>
            </div>

            <command-palette-item-group
              data-group-id="top"
              data-group-title="Top result"
              data-group-hint=""
              data-group-limits="{}"
              data-default-priority="0"
            >
            </command-palette-item-group>
            <command-palette-item-group
              data-group-id="commands"
              data-group-title="Commands"
              data-group-hint="Type &gt; to filter"
              data-group-limits="{&quot;static_items_page&quot;:50,&quot;issue&quot;:50,&quot;pull_request&quot;:50,&quot;discussion&quot;:50}"
              data-default-priority="1"
            >
            </command-palette-item-group>
            <command-palette-item-group
              data-group-id="global_commands"
              data-group-title="Global Commands"
              data-group-hint="Type &gt; to filter"
              data-group-limits="{&quot;issue&quot;:0,&quot;pull_request&quot;:0,&quot;discussion&quot;:0}"
              data-default-priority="2"
            >
            </command-palette-item-group>
            <command-palette-item-group
              data-group-id="this_page"
              data-group-title="This Page"
              data-group-hint=""
              data-group-limits="{}"
              data-default-priority="3"
            >
            </command-palette-item-group>
            <command-palette-item-group
              data-group-id="files"
              data-group-title="Files"
              data-group-hint=""
              data-group-limits="{}"
              data-default-priority="4"
            >
            </command-palette-item-group>
            <command-palette-item-group
              data-group-id="default"
              data-group-title="Default"
              data-group-hint=""
              data-group-limits="{&quot;static_items_page&quot;:50}"
              data-default-priority="5"
            >
            </command-palette-item-group>
            <command-palette-item-group
              data-group-id="pages"
              data-group-title="Pages"
              data-group-hint=""
              data-group-limits="{&quot;repository&quot;:10}"
              data-default-priority="6"
            >
            </command-palette-item-group>
            <command-palette-item-group
              data-group-id="access_policies"
              data-group-title="Access Policies"
              data-group-hint=""
              data-group-limits="{}"
              data-default-priority="7"
            >
            </command-palette-item-group>
            <command-palette-item-group
              data-group-id="organizations"
              data-group-title="Organizations"
              data-group-hint=""
              data-group-limits="{}"
              data-default-priority="8"
            >
            </command-palette-item-group>
            <command-palette-item-group
              data-group-id="repositories"
              data-group-title="Repositories"
              data-group-hint=""
              data-group-limits="{}"
              data-default-priority="9"
            >
            </command-palette-item-group>
            <command-palette-item-group
              data-group-id="references"
              data-group-title="Issues, pull requests, and discussions"
              data-group-hint="Type # to filter"
              data-group-limits="{}"
              data-default-priority="10"
            >
            </command-palette-item-group>
            <command-palette-item-group
              data-group-id="teams"
              data-group-title="Teams"
              data-group-hint=""
              data-group-limits="{}"
              data-default-priority="11"
            >
            </command-palette-item-group>
            <command-palette-item-group
              data-group-id="users"
              data-group-title="Users"
              data-group-hint=""
              data-group-limits="{}"
              data-default-priority="12"
            >
            </command-palette-item-group>
            <command-palette-item-group
              data-group-id="memex_projects"
              data-group-title="Projects"
              data-group-hint=""
              data-group-limits="{}"
              data-default-priority="13"
            >
            </command-palette-item-group>
            <command-palette-item-group
              data-group-id="projects"
              data-group-title="Projects (classic)"
              data-group-hint=""
              data-group-limits="{}"
              data-default-priority="14"
            >
            </command-palette-item-group>
            <command-palette-item-group
              data-group-id="footer"
              data-group-title="Footer"
              data-group-hint=""
              data-group-limits="{}"
              data-default-priority="15"
            >
            </command-palette-item-group>
            <command-palette-item-group
              data-group-id="modes_help"
              data-group-title="Modes"
              data-group-hint=""
              data-group-limits="{}"
              data-default-priority="16"
            >
            </command-palette-item-group>
            <command-palette-item-group
              data-group-id="filters_help"
              data-group-title="Use filters in issues, pull requests, discussions, and projects"
              data-group-hint=""
              data-group-limits="{}"
              data-default-priority="17"
            >
            </command-palette-item-group>

            <command-palette-page
              data-page-title="4019charan"
              data-scope-id="MDQ6VXNlcjY2MzIxNTU5"
              data-scope-type="owner"
              data-targets="command-palette-page-stack.defaultPages"
              hidden
            >
            </command-palette-page>
            <command-palette-page
              data-page-title="4019charan"
              data-scope-id="R_kgDOJwchCw"
              data-scope-type="repository"
              data-targets="command-palette-page-stack.defaultPages"
              hidden
            >
            </command-palette-page>
        </div>

        <command-palette-page data-is-root>
        </command-palette-page>
          <command-palette-page
            data-page-title="4019charan"
            data-scope-id="MDQ6VXNlcjY2MzIxNTU5"
            data-scope-type="owner"
          >
          </command-palette-page>
          <command-palette-page
            data-page-title="4019charan"
            data-scope-id="R_kgDOJwchCw"
            data-scope-type="repository"
          >
          </command-palette-page>
      </command-palette-page-stack>

      <server-defined-provider data-type="search-links" data-targets="command-palette.serverDefinedProviderElements"></server-defined-provider>
      <server-defined-provider data-type="help" data-targets="command-palette.serverDefinedProviderElements">
          <command-palette-help
            data-group="modes_help"
              data-prefix="#"
              data-scope-types="[&quot;&quot;]"
          >
            <span data-target="command-palette-help.titleElement">Search for <strong>issues</strong> and <strong>pull requests</strong></span>
              <span data-target="command-palette-help.hintElement">
                <kbd class="hx_kbd">#</kbd>
              </span>
          </command-palette-help>
          <command-palette-help
            data-group="modes_help"
              data-prefix="#"
              data-scope-types="[&quot;owner&quot;,&quot;repository&quot;]"
          >
            <span data-target="command-palette-help.titleElement">Search for <strong>issues, pull requests, discussions,</strong> and <strong>projects</strong></span>
              <span data-target="command-palette-help.hintElement">
                <kbd class="hx_kbd">#</kbd>
              </span>
          </command-palette-help>
          <command-palette-help
            data-group="modes_help"
              data-prefix="@"
              data-scope-types="[&quot;&quot;]"
          >
            <span data-target="command-palette-help.titleElement">Search for <strong>organizations, repositories,</strong> and <strong>users</strong></span>
              <span data-target="command-palette-help.hintElement">
                <kbd class="hx_kbd">@</kbd>
              </span>
          </command-palette-help>
          <command-palette-help
            data-group="modes_help"
              data-prefix="!"
              data-scope-types="[&quot;owner&quot;,&quot;repository&quot;]"
          >
            <span data-target="command-palette-help.titleElement">Search for <strong>projects</strong></span>
              <span data-target="command-palette-help.hintElement">
                <kbd class="hx_kbd">!</kbd>
              </span>
          </command-palette-help>
          <command-palette-help
            data-group="modes_help"
              data-prefix="/"
              data-scope-types="[&quot;repository&quot;]"
          >
            <span data-target="command-palette-help.titleElement">Search for <strong>files</strong></span>
              <span data-target="command-palette-help.hintElement">
                <kbd class="hx_kbd">/</kbd>
              </span>
          </command-palette-help>
          <command-palette-help
            data-group="modes_help"
              data-prefix="&gt;"
          >
            <span data-target="command-palette-help.titleElement">Activate <strong>command mode</strong></span>
              <span data-target="command-palette-help.hintElement">
                <kbd class="hx_kbd">&gt;</kbd>
              </span>
          </command-palette-help>
          <command-palette-help
            data-group="filters_help"
              data-prefix="# author:@me"
          >
            <span data-target="command-palette-help.titleElement">Search your issues, pull requests, and discussions</span>
              <span data-target="command-palette-help.hintElement">
                <kbd class="hx_kbd"># author:@me</kbd>
              </span>
          </command-palette-help>
          <command-palette-help
            data-group="filters_help"
              data-prefix="# author:@me"
          >
            <span data-target="command-palette-help.titleElement">Search your issues, pull requests, and discussions</span>
              <span data-target="command-palette-help.hintElement">
                <kbd class="hx_kbd"># author:@me</kbd>
              </span>
          </command-palette-help>
          <command-palette-help
            data-group="filters_help"
              data-prefix="# is:pr"
          >
            <span data-target="command-palette-help.titleElement">Filter to pull requests</span>
              <span data-target="command-palette-help.hintElement">
                <kbd class="hx_kbd"># is:pr</kbd>
              </span>
          </command-palette-help>
          <command-palette-help
            data-group="filters_help"
              data-prefix="# is:issue"
          >
            <span data-target="command-palette-help.titleElement">Filter to issues</span>
              <span data-target="command-palette-help.hintElement">
                <kbd class="hx_kbd"># is:issue</kbd>
              </span>
          </command-palette-help>
          <command-palette-help
            data-group="filters_help"
              data-prefix="# is:discussion"
              data-scope-types="[&quot;owner&quot;,&quot;repository&quot;]"
          >
            <span data-target="command-palette-help.titleElement">Filter to discussions</span>
              <span data-target="command-palette-help.hintElement">
                <kbd class="hx_kbd"># is:discussion</kbd>
              </span>
          </command-palette-help>
          <command-palette-help
            data-group="filters_help"
              data-prefix="# is:project"
              data-scope-types="[&quot;owner&quot;,&quot;repository&quot;]"
          >
            <span data-target="command-palette-help.titleElement">Filter to projects</span>
              <span data-target="command-palette-help.hintElement">
                <kbd class="hx_kbd"># is:project</kbd>
              </span>
          </command-palette-help>
          <command-palette-help
            data-group="filters_help"
              data-prefix="# is:open"
          >
            <span data-target="command-palette-help.titleElement">Filter to open issues, pull requests, and discussions</span>
              <span data-target="command-palette-help.hintElement">
                <kbd class="hx_kbd"># is:open</kbd>
              </span>
          </command-palette-help>
      </server-defined-provider>

        <server-defined-provider
          data-type="commands"
          data-fetch-debounce="0"
            data-src="/command_palette/commands"
          data-supported-modes="[]"
            data-supports-commands
          
          data-targets="command-palette.serverDefinedProviderElements"
          ></server-defined-provider>
        <server-defined-provider
          data-type="prefetched"
          data-fetch-debounce="0"
            data-src="/command_palette/jump_to_page_navigation"
          data-supported-modes="[&quot;&quot;]"
            data-supported-scope-types="[&quot;&quot;,&quot;owner&quot;,&quot;repository&quot;]"
          
          data-targets="command-palette.serverDefinedProviderElements"
          ></server-defined-provider>
        <server-defined-provider
          data-type="remote"
          data-fetch-debounce="200"
            data-src="/command_palette/issues"
          data-supported-modes="[&quot;#&quot;,&quot;#&quot;]"
            data-supported-scope-types="[&quot;owner&quot;,&quot;repository&quot;,&quot;&quot;]"
          
          data-targets="command-palette.serverDefinedProviderElements"
          ></server-defined-provider>
        <server-defined-provider
          data-type="remote"
          data-fetch-debounce="200"
            data-src="/command_palette/jump_to"
          data-supported-modes="[&quot;@&quot;,&quot;@&quot;]"
            data-supported-scope-types="[&quot;&quot;,&quot;owner&quot;]"
          
          data-targets="command-palette.serverDefinedProviderElements"
          ></server-defined-provider>
        <server-defined-provider
          data-type="remote"
          data-fetch-debounce="200"
            data-src="/command_palette/jump_to_members_only"
          data-supported-modes="[&quot;@&quot;,&quot;@&quot;,&quot;&quot;,&quot;&quot;]"
            data-supported-scope-types="[&quot;&quot;,&quot;owner&quot;]"
          
          data-targets="command-palette.serverDefinedProviderElements"
          ></server-defined-provider>
        <server-defined-provider
          data-type="prefetched"
          data-fetch-debounce="0"
            data-src="/command_palette/jump_to_members_only_prefetched"
          data-supported-modes="[&quot;@&quot;,&quot;@&quot;,&quot;&quot;,&quot;&quot;]"
            data-supported-scope-types="[&quot;&quot;,&quot;owner&quot;]"
          
          data-targets="command-palette.serverDefinedProviderElements"
          ></server-defined-provider>
        <server-defined-provider
          data-type="files"
          data-fetch-debounce="0"
            data-src="/command_palette/files"
          data-supported-modes="[&quot;/&quot;]"
            data-supported-scope-types="[&quot;repository&quot;]"
          
          data-targets="command-palette.serverDefinedProviderElements"
          ></server-defined-provider>
        <server-defined-provider
          data-type="remote"
          data-fetch-debounce="200"
            data-src="/command_palette/discussions"
          data-supported-modes="[&quot;#&quot;]"
            data-supported-scope-types="[&quot;owner&quot;,&quot;repository&quot;]"
          
          data-targets="command-palette.serverDefinedProviderElements"
          ></server-defined-provider>
        <server-defined-provider
          data-type="remote"
          data-fetch-debounce="200"
            data-src="/command_palette/projects"
          data-supported-modes="[&quot;#&quot;,&quot;!&quot;]"
            data-supported-scope-types="[&quot;owner&quot;,&quot;repository&quot;]"
          
          data-targets="command-palette.serverDefinedProviderElements"
          ></server-defined-provider>
        <server-defined-provider
          data-type="prefetched"
          data-fetch-debounce="0"
            data-src="/command_palette/recent_issues"
          data-supported-modes="[&quot;#&quot;,&quot;#&quot;]"
            data-supported-scope-types="[&quot;owner&quot;,&quot;repository&quot;,&quot;&quot;]"
          
          data-targets="command-palette.serverDefinedProviderElements"
          ></server-defined-provider>
        <server-defined-provider
          data-type="remote"
          data-fetch-debounce="200"
            data-src="/command_palette/teams"
          data-supported-modes="[&quot;@&quot;,&quot;&quot;]"
            data-supported-scope-types="[&quot;owner&quot;]"
          
          data-targets="command-palette.serverDefinedProviderElements"
          ></server-defined-provider>
        <server-defined-provider
          data-type="remote"
          data-fetch-debounce="200"
            data-src="/command_palette/name_with_owner_repository"
          data-supported-modes="[&quot;@&quot;,&quot;@&quot;,&quot;&quot;,&quot;&quot;]"
            data-supported-scope-types="[&quot;&quot;,&quot;owner&quot;]"
          
          data-targets="command-palette.serverDefinedProviderElements"
          ></server-defined-provider>
    </command-palette>
  </details-dialog>
</details>

<div class="position-fixed bottom-0 left-0 ml-5 mb-5 js-command-palette-toasts" style="z-index: 1000">
  <div hidden class="Toast Toast--loading">
    <span class="Toast-icon">
      <svg class="Toast--spinner" viewBox="0 0 32 32" width="18" height="18" aria-hidden="true">
        <path
          fill="#959da5"
          d="M16 0 A16 16 0 0 0 16 32 A16 16 0 0 0 16 0 M16 4 A12 12 0 0 1 16 28 A12 12 0 0 1 16 4"
        />
        <path fill="#ffffff" d="M16 0 A16 16 0 0 1 32 16 L28 16 A12 12 0 0 0 16 4z"></path>
      </svg>
    </span>
    <span class="Toast-content"></span>
  </div>

  <div hidden class="anim-fade-in fast Toast Toast--error">
    <span class="Toast-icon">
      <svg aria-hidden="true" height="16" viewBox="0 0 16 16" version="1.1" width="16" data-view-component="true" class="octicon octicon-stop">
    <path d="M4.47.22A.749.749 0 0 1 5 0h6c.199 0 .389.079.53.22l4.25 4.25c.141.14.22.331.22.53v6a.749.749 0 0 1-.22.53l-4.25 4.25A.749.749 0 0 1 11 16H5a.749.749 0 0 1-.53-.22L.22 11.53A.749.749 0 0 1 0 11V5c0-.199.079-.389.22-.53Zm.84 1.28L1.5 5.31v5.38l3.81 3.81h5.38l3.81-3.81V5.31L10.69 1.5ZM8 4a.75.75 0 0 1 .75.75v3.5a.75.75 0 0 1-1.5 0v-3.5A.75.75 0 0 1 8 4Zm0 8a1 1 0 1 1 0-2 1 1 0 0 1 0 2Z"></path>
</svg>
    </span>
    <span class="Toast-content"></span>
  </div>

  <div hidden class="anim-fade-in fast Toast Toast--warning">
    <span class="Toast-icon">
      <svg aria-hidden="true" height="16" viewBox="0 0 16 16" version="1.1" width="16" data-view-component="true" class="octicon octicon-alert">
    <path d="M6.457 1.047c.659-1.234 2.427-1.234 3.086 0l6.082 11.378A1.75 1.75 0 0 1 14.082 15H1.918a1.75 1.75 0 0 1-1.543-2.575Zm1.763.707a.25.25 0 0 0-.44 0L1.698 13.132a.25.25 0 0 0 .22.368h12.164a.25.25 0 0 0 .22-.368Zm.53 3.996v2.5a.75.75 0 0 1-1.5 0v-2.5a.75.75 0 0 1 1.5 0ZM9 11a1 1 0 1 1-2 0 1 1 0 0 1 2 0Z"></path>
</svg>
    </span>
    <span class="Toast-content"></span>
  </div>


  <div hidden class="anim-fade-in fast Toast Toast--success">
    <span class="Toast-icon">
      <svg aria-hidden="true" height="16" viewBox="0 0 16 16" version="1.1" width="16" data-view-component="true" class="octicon octicon-check">
    <path d="M13.78 4.22a.75.75 0 0 1 0 1.06l-7.25 7.25a.75.75 0 0 1-1.06 0L2.22 9.28a.751.751 0 0 1 .018-1.042.751.751 0 0 1 1.042-.018L6 10.94l6.72-6.72a.75.75 0 0 1 1.06 0Z"></path>
</svg>
    </span>
    <span class="Toast-content"></span>
  </div>

  <div hidden class="anim-fade-in fast Toast">
    <span class="Toast-icon">
      <svg aria-hidden="true" height="16" viewBox="0 0 16 16" version="1.1" width="16" data-view-component="true" class="octicon octicon-info">
    <path d="M0 8a8 8 0 1 1 16 0A8 8 0 0 1 0 8Zm8-6.5a6.5 6.5 0 1 0 0 13 6.5 6.5 0 0 0 0-13ZM6.5 7.75A.75.75 0 0 1 7.25 7h1a.75.75 0 0 1 .75.75v2.75h.25a.75.75 0 0 1 0 1.5h-2a.75.75 0 0 1 0-1.5h.25v-2h-.25a.75.75 0 0 1-.75-.75ZM8 6a1 1 0 1 1 0-2 1 1 0 0 1 0 2Z"></path>
</svg>
    </span>
    <span class="Toast-content"></span>
  </div>
</div>


  <div
    class="application-main "
    data-commit-hovercards-enabled
    data-discussion-hovercards-enabled
    data-issue-and-pr-hovercards-enabled
  >
        <div itemscope itemtype="http://schema.org/SoftwareSourceCode" class="">
    <main id="js-repo-pjax-container" >
      
      
      






    
  <div id="repository-container-header" data-turbo-replace hidden></div>




<turbo-frame id="repo-content-turbo-frame" target="_top" data-turbo-action="advance" class="">
    <div id="repo-content-pjax-container" class="repository-content " >
      <a href="https://github.dev/" class="d-none js-github-dev-shortcut" data-hotkey=".,Alt+Meta+≥,Control+Alt+.">Open in github.dev</a>
  <a href="https://github.dev/" class="d-none js-github-dev-new-tab-shortcut" data-hotkey="Shift+.,Shift+&gt;,&gt;" target="_blank" rel="noopener noreferrer">Open in a new github.dev tab</a>
    <a class="d-none" data-hotkey=",,Alt+Meta+≤,Control+Alt+," target="_blank" href="/codespaces/new/4019charan/4019charan/tree/main?resume=1">Open in codespace</a>



    
      
    





<react-app
  app-name="react-code-view"
  initial-path="/4019charan/4019charan/blob/main/dl_intro.ipynb"
  style="min-height: calc(100vh - 62px)"
  data-ssr="false"
  data-lazy="false"
  data-alternate="false"
>
  
  <script type="application/json" data-target="react-app.embeddedData">{"payload":{"allShortcutsEnabled":true,"fileTree":{"":{"items":[{"name":"AWS_logo.png","path":"AWS_logo.png","contentType":"file"},{"name":"AWS_logo_1.png","path":"AWS_logo_1.png","contentType":"file"},{"name":"README.md","path":"README.md","contentType":"file"},{"name":"dl_intro.ipynb","path":"dl_intro.ipynb","contentType":"file"},{"name":"linkedin-3-16.png","path":"linkedin-3-16.png","contentType":"file"},{"name":"wave.gif","path":"wave.gif","contentType":"file"}],"totalCount":6}},"fileTreeProcessingTime":5.616833,"foldersToFetch":[],"reducedMotionEnabled":"system","repo":{"id":654778635,"defaultBranch":"main","name":"4019charan","ownerLogin":"4019charan","currentUserCanPush":true,"isFork":false,"isEmpty":false,"createdAt":"2023-06-16T20:01:35.000-04:00","ownerAvatar":"https://avatars.githubusercontent.com/u/66321559?v=4","public":true,"private":false,"isOrgOwned":false},"symbolsExpanded":false,"treeExpanded":true,"refInfo":{"name":"main","listCacheKey":"v0:1688829603.0","canEdit":true,"refType":"branch","currentOid":"c4cb06b3d9b5c796964f76010d84b84593afa0a2"},"path":"dl_intro.ipynb","currentUser":{"id":66321559,"login":"4019charan","userEmail":"4019charan@gmail.com"},"blob":{"rawLines":["{","  \"nbformat\": 4,","  \"nbformat_minor\": 0,","  \"metadata\": {","    \"colab\": {","      \"provenance\": [],","      \"collapsed_sections\": [","        \"OlylxH9QYLFd\",","        \"GMR1lB8fpHme\",","        \"V87QIOEct5sB\"","      ],","      \"include_colab_link\": true","    },","    \"kernelspec\": {","      \"name\": \"python3\",","      \"display_name\": \"Python 3\"","    },","    \"language_info\": {","      \"name\": \"python\"","    },","    \"accelerator\": \"GPU\"","  },","  \"cells\": [","    {","      \"cell_type\": \"markdown\",","      \"metadata\": {","        \"id\": \"view-in-github\",","        \"colab_type\": \"text\"","      },","      \"source\": [","        \"\u003ca href=\\\"https://colab.research.google.com/github/4019charan/4019charan/blob/main/dl_intro.ipynb\\\" target=\\\"_parent\\\"\u003e\u003cimg src=\\\"https://colab.research.google.com/assets/colab-badge.svg\\\" alt=\\\"Open In Colab\\\"/\u003e\u003c/a\u003e\"","      ]","    },","    {","      \"cell_type\": \"markdown\",","      \"metadata\": {","        \"id\": \"Jt8IL6_Cdmpw\"","      },","      \"source\": [","        \"#**Introduction to Deep Learning**\\n\",","        \"### *Michaela Buchanan - Mark III Systems*\"","      ]","    },","    {","      \"cell_type\": \"markdown\",","      \"metadata\": {","        \"id\": \"CpfsmL9Sd3G4\"","      },","      \"source\": [","        \"---\\n\",","        \"Imports for all the code below. Please run first before anything else!\\n\"","      ]","    },","    {","      \"cell_type\": \"code\",","      \"metadata\": {","        \"colab\": {","          \"base_uri\": \"https://localhost:8080/\"","        },","        \"id\": \"YBtll6NYXKEb\",","        \"outputId\": \"e19daf24-270c-432b-83b6-b2ee81125f4f\"","      },","      \"source\": [","        \"import tensorflow as tf\\n\",","        \"print(tf.__version__)\\n\",","        \"\\n\",","        \"import numpy as np\\n\",","        \"import pandas as pd\\n\",","        \"import matplotlib.pyplot as plt\\n\",","        \"\\n\",","        \"from sklearn.preprocessing import OneHotEncoder\\n\",","        \"from skimage import color\\n\",","        \"from skimage import io\\n\",","        \"\\n\",","        \"from keras.layers import Conv2D, Dense, Flatten, MaxPooling2D, Dropout, BatchNormalization\\n\",","        \"from keras.models import Sequential, load_model\\n\",","        \"from tensorflow.keras.optimizers import Adam\"","      ],","      \"execution_count\": 1,","      \"outputs\": [","        {","          \"output_type\": \"stream\",","          \"name\": \"stdout\",","          \"text\": [","            \"2.12.0\\n\"","          ]","        }","      ]","    },","    {","      \"cell_type\": \"markdown\",","      \"metadata\": {","        \"id\": \"OlylxH9QYLFd\"","      },","      \"source\": [","        \"\\n\",","        \"\\n\",","        \"---\\n\",","        \"### Introduction\\n\"","      ]","    },","    {","      \"cell_type\": \"markdown\",","      \"metadata\": {","        \"id\": \"6P5E6nafyte5\"","      },","      \"source\": [","        \"In this workshop we will be working with the CIFAR-10 dataset which consists of 10 classes of images. Our goal is to create a model that can classify images into these 10 categories. To do this, we will be experimenting with building a deep neural network using Tensorflow Keras. While this neural network will be very basic in comparison to many common algorithms used today, it should serve as a good starting point for learning about how to implement deep learning algorithms in Python.\"","      ]","    },","    {","      \"cell_type\": \"markdown\",","      \"metadata\": {","        \"id\": \"GMR1lB8fpHme\"","      },","      \"source\": [","        \"---\\n\",","        \"### Data Analysis and Preprocessing\"","      ]","    },","    {","      \"cell_type\": \"markdown\",","      \"metadata\": {","        \"id\": \"qTGUkV4fzKHF\"","      },","      \"source\": [","        \"The 10 classes in CIFAR are denoted by numbers in our Y variables. The list of classes and their associated numbers can be found below:\\n\",","        \"\\n\",","        \"```\\n\",","        \"0.   airplane\\n\",","        \"1.   automobile\\n\",","        \"2.   bird\\n\",","        \"3.   cat\\n\",","        \"4.   deer\\n\",","        \"5.   dog\\n\",","        \"6.   frog\\n\",","        \"7.   horse\\n\",","        \"8.   ship\\n\",","        \"9.   truck\\n\",","        \"```\\n\",","        \"Knowing the dimensions of our images and the number of entries in our dataset are both important for correctly setting up our neural network. All of our images need to be the same size so we have the same number of neurons in the input layer of our model. This shouldn't be a problem with this dataset as all the images are uniform but it is a caveat you will have to watch out for with your own datasets. Let's start by taking a look at our CIFAR-10 dataset.\\n\"","      ]","    },","    {","      \"cell_type\": \"code\",","      \"metadata\": {","        \"colab\": {","          \"base_uri\": \"https://localhost:8080/\",","          \"height\": 499","        },","        \"id\": \"PV6UP8cTXWL-\",","        \"outputId\": \"9f118ff2-3a8e-42b5-a486-fd9a8a47de5a\"","      },","      \"source\": [","        \"# Load in our dataset from Keras\\n\",","        \"cifar10 = tf.keras.datasets.cifar10\\n\",","        \"(x_train, y_train), (x_test, y_test) = cifar10.load_data()\\n\",","        \"\\n\",","        \"# Use matplotlib to show sample image\\n\",","        \"print(y_train[5])\\n\",","        \"plt.imshow(x_train[5])\"","      ],","      \"execution_count\": null,","      \"outputs\": [","        {","          \"output_type\": \"stream\",","          \"name\": \"stdout\",","          \"text\": [","            \"Downloading data from https://www.cs.toronto.edu/~kriz/cifar-10-python.tar.gz\\n\",","            \"170498071/170498071 [==============================] - 14s 0us/step\\n\",","            \"[1]\\n\"","          ]","        },","        {","          \"output_type\": \"execute_result\",","          \"data\": {","            \"text/plain\": [","              \"\u003cmatplotlib.image.AxesImage at 0x799e2b39afe0\u003e\"","            ]","          },","          \"metadata\": {},","          \"execution_count\": 2","        },","        {","          \"output_type\": \"display_data\",","          \"data\": {","            \"text/plain\": [","              \"\u003cFigure size 640x480 with 1 Axes\u003e\"","            ],","            \"image/png\": \"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\\n\"","          },","          \"metadata\": {}","        }","      ]","    },","    {","      \"cell_type\": \"markdown\",","      \"metadata\": {","        \"id\": \"AT0uv2RwTk1g\"","      },","      \"source\": [","        \"If you look above, we got the number 1 when we printed the y associated with our image we displayed. This makes sense as we are looking at an image of a car, and according to the list above the image should be in the automobile class. The low resolution is nothing to be alarmed about. CIFAR-10 images are purposely low resolution in order to keep the size of the input layer reasonable as this dataset is primarily for people looking to learn how to use DL, not real world model training. Feel free to look at different images in the dataset by replacing the number 5 in these two lines with another number.\\n\",","        \"\\n\"","      ]","    },","    {","      \"cell_type\": \"markdown\",","      \"metadata\": {","        \"id\": \"jb1x9Ncp0DtC\"","      },","      \"source\": [","        \"Now we need to figure out some important information about our dataset. Let's start by checking the dimensions of the images we are using.\"","      ]","    },","    {","      \"cell_type\": \"code\",","      \"metadata\": {","        \"id\": \"70kU0jXQX3Yn\",","        \"colab\": {","          \"base_uri\": \"https://localhost:8080/\"","        },","        \"outputId\": \"a4751b2b-a088-4c10-e416-ee28948b28b8\"","      },","      \"source\": [","        \"print(\\\"single image shape: \\\",x_train[5].shape)\\n\",","        \"print(\\\"training dataset shape: \\\", x_train.shape)\"","      ],","      \"execution_count\": null,","      \"outputs\": [","        {","          \"output_type\": \"stream\",","          \"name\": \"stdout\",","          \"text\": [","            \"single image shape:  (32, 32, 3)\\n\",","            \"training dataset shape:  (50000, 32, 32, 3)\\n\"","          ]","        }","      ]","    },","    {","      \"cell_type\": \"markdown\",","      \"metadata\": {","        \"id\": \"ww0kbBNEWlJr\"","      },","      \"source\": [","        \"Our model isn't going to know what to do with integer output for our Y like we have now so we need to convert it to one-hot encoding. One-hot encoding creates an array that has the lenght of the number of options we have. Then we set 1 to the corresponding category of the entry we are dealing with and the rest to 0. This will probably make more sense when you take a look at the example below.\"","      ]","    },","    {","      \"cell_type\": \"code\",","      \"metadata\": {","        \"colab\": {","          \"base_uri\": \"https://localhost:8080/\"","        },","        \"id\": \"4cxAIgNiZIUY\",","        \"outputId\": \"303ab792-5bb0-4459-e57e-6f6cc70c87c2\"","      },","      \"source\": [","        \"# creates and formate one-hot encoder\\n\",","        \"one_hot_encoder = OneHotEncoder(sparse=False)\\n\",","        \"one_hot_encoder.fit(y_train)\\n\",","        \"\\n\",","        \"# actually one-hot encodes our data\\n\",","        \"y_train = one_hot_encoder.transform(y_train)\\n\",","        \"y_test = one_hot_encoder.transform(y_test)\\n\",","        \"\\n\",","        \"print(y_train[5])\"","      ],","      \"execution_count\": null,","      \"outputs\": [","        {","          \"output_type\": \"stream\",","          \"name\": \"stdout\",","          \"text\": [","            \"[0. 1. 0. 0. 0. 0. 0. 0. 0. 0.]\\n\"","          ]","        },","        {","          \"output_type\": \"stream\",","          \"name\": \"stderr\",","          \"text\": [","            \"/usr/local/lib/python3.10/dist-packages/sklearn/preprocessing/_encoders.py:868: FutureWarning: `sparse` was renamed to `sparse_output` in version 1.2 and will be removed in 1.4. `sparse_output` is ignored unless you leave `sparse` to its default value.\\n\",","            \"  warnings.warn(\\n\"","          ]","        }","      ]","    },","    {","      \"cell_type\": \"markdown\",","      \"metadata\": {","        \"id\": \"8xiHYGteZubb\"","      },","      \"source\": [","        \"Here you can see for our 5th training sample, the 1 spot (remember we start counting at 0) has a 1 in it while the rest of the spots in the array are 0. This gives us the same information the Y did previously but in a format that will be much easier for the model to associate with the 10 output neurons we will be creating.\"","      ]","    },","    {","      \"cell_type\": \"markdown\",","      \"metadata\": {","        \"id\": \"Qon-hkTDi8as\"","      },","      \"source\": [","        \"Our x entries are going to consist of three numbers ranging from 0-255 representing the RGB of that pixel. Since we know this, we can easily normalize our data so that it's easier to train with.\"","      ]","    },","    {","      \"cell_type\": \"code\",","      \"metadata\": {","        \"id\": \"Bsa0Rt_ljIuu\"","      },","      \"source\": [","        \"x_train = x_train.astype('float32')\\n\",","        \"x_test = x_test.astype('float32')\\n\",","        \"x_train = x_train / 255\\n\",","        \"x_test = x_test / 255\"","      ],","      \"execution_count\": null,","      \"outputs\": []","    },","    {","      \"cell_type\": \"markdown\",","      \"metadata\": {","        \"id\": \"tgVhb_M7fO4O\"","      },","      \"source\": [","        \"---\\n\",","        \"### Creating our Model\\n\",","        \"\\n\"","      ]","    },","    {","      \"cell_type\": \"markdown\",","      \"metadata\": {","        \"id\": \"CG0wzh353Hgs\"","      },","      \"source\": [","        \"Now it's time to start creating our neural network. Luckily, Keras makes this pretty easy, especially when you are using what's called a Sequencial model which is what we will be doing today. With a Sequential Keras model, all you need to do is initialize the model and then add layers to it using premade functions in Keras as you will see in a minute. Sequential models are great for situations where you have only one input and one output vector and you are not planning on doing any layer sharing and are sticking to a linear model topology. To start with, let's define some of the variables we need. First we have our batch size which designates how many training samples we go through before we backpropogate changes through the model. Then we have epochs which is how many times we go through the whole dataset. Feel free to change these variables to see what happens. You can do as many or as few epochs but batch_size must be 1 \u003c batch_size \u003c 50,000 since we have 50,000 entries in x_train. num_classes just defines how many categories we have that we are classifying into in our output layer.\"","      ]","    },","    {","      \"cell_type\": \"code\",","      \"metadata\": {","        \"id\": \"gXHgt4VZh8NM\"","      },","      \"source\": [","        \"# feel free to experiment with these\\n\",","        \"batch = 32\\n\",","        \"num_epochs = 20\\n\",","        \"\\n\",","        \"# don't touch this unless using a different dataset\\n\",","        \"num_classes = 10\"","      ],","      \"execution_count\": null,","      \"outputs\": []","    },","    {","      \"cell_type\": \"markdown\",","      \"metadata\": {","        \"id\": \"fAjYAEm5iBoe\"","      },","      \"source\": [","        \"Let's create our model.\"","      ]","    },","    {","      \"cell_type\": \"code\",","      \"metadata\": {","        \"colab\": {","          \"base_uri\": \"https://localhost:8080/\"","        },","        \"id\": \"bS9KKKsnrDcr\",","        \"outputId\": \"c8dd6d0b-70c9-4d43-dc1c-0e7ccbb37700\"","      },","      \"source\": [","        \"# initialize model\\n\",","        \"model = Sequential()\\n\",","        \"\\n\",","        \"model.add(Conv2D(input_shape=x_train[0,:,:,:].shape, filters=96, kernel_size=(3,3), activation='relu'))\\n\",","        \"model.add(Conv2D(filters=96, kernel_size=(3,3), strides=2, activation='relu'))\\n\",","        \"model.add(Conv2D(filters=192, kernel_size=(3,3), activation='relu'))\\n\",","        \"model.add(Conv2D(filters=192, kernel_size=(3,3), strides=2, activation='relu'))\\n\",","        \"\\n\",","        \"model.add(Flatten())\\n\",","        \"model.add(BatchNormalization())\\n\",","        \"model.add(Dense(256, activation='relu'))\\n\",","        \"model.add(Dense(num_classes, activation=\\\"softmax\\\"))\\n\",","        \"\\n\",","        \"model.summary()\"","      ],","      \"execution_count\": null,","      \"outputs\": [","        {","          \"output_type\": \"stream\",","          \"name\": \"stdout\",","          \"text\": [","            \"Model: \\\"sequential\\\"\\n\",","            \"_________________________________________________________________\\n\",","            \" Layer (type)                Output Shape              Param #   \\n\",","            \"=================================================================\\n\",","            \" conv2d (Conv2D)             (None, 30, 30, 96)        2688      \\n\",","            \"                                                                 \\n\",","            \" conv2d_1 (Conv2D)           (None, 14, 14, 96)        83040     \\n\",","            \"                                                                 \\n\",","            \" conv2d_2 (Conv2D)           (None, 12, 12, 192)       166080    \\n\",","            \"                                                                 \\n\",","            \" conv2d_3 (Conv2D)           (None, 5, 5, 192)         331968    \\n\",","            \"                                                                 \\n\",","            \" flatten (Flatten)           (None, 4800)              0         \\n\",","            \"                                                                 \\n\",","            \" batch_normalization (BatchN  (None, 4800)             19200     \\n\",","            \" ormalization)                                                   \\n\",","            \"                                                                 \\n\",","            \" dense (Dense)               (None, 256)               1229056   \\n\",","            \"                                                                 \\n\",","            \" dense_1 (Dense)             (None, 10)                2570      \\n\",","            \"                                                                 \\n\",","            \"=================================================================\\n\",","            \"Total params: 1,834,602\\n\",","            \"Trainable params: 1,825,002\\n\",","            \"Non-trainable params: 9,600\\n\",","            \"_________________________________________________________________\\n\"","          ]","        }","      ]","    },","    {","      \"cell_type\": \"markdown\",","      \"metadata\": {","        \"id\": \"gYTkeuwS_Fng\"","      },","      \"source\": [","        \"The last line prints a nice summary of the model we have created and the output shapes from each layer. If you are having trouble getting your data to flow through your layers, this model summary can be a great tool for debugging your model. Now that we have defined our model structure, we can use Keras to compile it.\"","      ]","    },","    {","      \"cell_type\": \"code\",","      \"metadata\": {","        \"id\": \"dCW3YDAn_EtQ\"","      },","      \"source\": [","        \"# feel free to experiment with the learning_rate\\n\",","        \"model.compile(\\n\",","        \"    loss='categorical_crossentropy',\\n\",","        \"    optimizer=Adam(learning_rate=0.0001),\\n\",","        \"    metrics=['acc'])\"","      ],","      \"execution_count\": null,","      \"outputs\": []","    },","    {","      \"cell_type\": \"markdown\",","      \"metadata\": {","        \"id\": \"MzchUyZcCRqd\"","      },","      \"source\": [","        \"And finally we can start training our model. To do this, all we have to do is run the fit function on our model as shown below.\\n\",","        \"\\n\"","      ]","    },","    {","      \"cell_type\": \"code\",","      \"metadata\": {","        \"colab\": {","          \"base_uri\": \"https://localhost:8080/\"","        },","        \"id\": \"WQThjEfUCm6-\",","        \"outputId\": \"809817ac-306c-4eac-ab4e-3f55a1b2e422\"","      },","      \"source\": [","        \"history = model.fit(\\n\",","        \"    x_train,\\n\",","        \"    y_train,\\n\",","        \"    epochs=num_epochs,\\n\",","        \"    batch_size=batch,\\n\",","        \"    validation_data=(x_test, y_test))\"","      ],","      \"execution_count\": null,","      \"outputs\": [","        {","          \"output_type\": \"stream\",","          \"name\": \"stdout\",","          \"text\": [","            \"Epoch 1/20\\n\",","            \"1563/1563 [==============================] - 25s 9ms/step - loss: 1.4170 - acc: 0.4949 - val_loss: 1.1845 - val_acc: 0.5831\\n\",","            \"Epoch 2/20\\n\",","            \"1563/1563 [==============================] - 13s 8ms/step - loss: 1.0352 - acc: 0.6381 - val_loss: 1.1398 - val_acc: 0.6029\\n\",","            \"Epoch 3/20\\n\",","            \"1563/1563 [==============================] - 12s 8ms/step - loss: 0.8261 - acc: 0.7139 - val_loss: 0.9663 - val_acc: 0.6676\\n\",","            \"Epoch 4/20\\n\",","            \"1563/1563 [==============================] - 12s 8ms/step - loss: 0.6715 - acc: 0.7700 - val_loss: 0.8895 - val_acc: 0.6935\\n\",","            \"Epoch 5/20\\n\",","            \"1563/1563 [==============================] - 15s 10ms/step - loss: 0.5405 - acc: 0.8166 - val_loss: 0.9070 - val_acc: 0.6974\\n\",","            \"Epoch 6/20\\n\",","            \"1563/1563 [==============================] - 12s 8ms/step - loss: 0.4328 - acc: 0.8535 - val_loss: 0.8375 - val_acc: 0.7260\\n\",","            \"Epoch 7/20\\n\",","            \"1563/1563 [==============================] - 13s 8ms/step - loss: 0.3373 - acc: 0.8899 - val_loss: 0.9624 - val_acc: 0.7008\\n\",","            \"Epoch 8/20\\n\",","            \"1563/1563 [==============================] - 13s 8ms/step - loss: 0.2579 - acc: 0.9191 - val_loss: 0.9022 - val_acc: 0.7202\\n\",","            \"Epoch 9/20\\n\",","            \"1563/1563 [==============================] - 13s 8ms/step - loss: 0.1934 - acc: 0.9416 - val_loss: 1.0063 - val_acc: 0.7121\\n\",","            \"Epoch 10/20\\n\",","            \"1563/1563 [==============================] - 13s 8ms/step - loss: 0.1477 - acc: 0.9564 - val_loss: 0.9565 - val_acc: 0.7302\\n\",","            \"Epoch 11/20\\n\",","            \"1563/1563 [==============================] - 12s 8ms/step - loss: 0.1116 - acc: 0.9689 - val_loss: 1.1133 - val_acc: 0.7170\\n\",","            \"Epoch 12/20\\n\",","            \"1563/1563 [==============================] - 12s 8ms/step - loss: 0.0898 - acc: 0.9754 - val_loss: 1.1304 - val_acc: 0.7219\\n\",","            \"Epoch 13/20\\n\",","            \"1563/1563 [==============================] - 12s 8ms/step - loss: 0.0750 - acc: 0.9791 - val_loss: 1.1243 - val_acc: 0.7268\\n\",","            \"Epoch 14/20\\n\",","            \"1563/1563 [==============================] - 12s 8ms/step - loss: 0.0620 - acc: 0.9834 - val_loss: 1.1600 - val_acc: 0.7213\\n\",","            \"Epoch 15/20\\n\",","            \"1563/1563 [==============================] - 13s 8ms/step - loss: 0.0576 - acc: 0.9840 - val_loss: 1.1982 - val_acc: 0.7206\\n\",","            \"Epoch 16/20\\n\",","            \"1563/1563 [==============================] - 13s 8ms/step - loss: 0.0488 - acc: 0.9868 - val_loss: 1.2761 - val_acc: 0.7097\\n\",","            \"Epoch 17/20\\n\",","            \"1563/1563 [==============================] - 13s 8ms/step - loss: 0.0467 - acc: 0.9866 - val_loss: 1.2487 - val_acc: 0.7268\\n\",","            \"Epoch 18/20\\n\",","            \"1563/1563 [==============================] - 12s 8ms/step - loss: 0.0392 - acc: 0.9892 - val_loss: 1.2731 - val_acc: 0.7274\\n\",","            \"Epoch 19/20\\n\",","            \"1563/1563 [==============================] - 13s 8ms/step - loss: 0.0395 - acc: 0.9880 - val_loss: 1.3600 - val_acc: 0.7233\\n\",","            \"Epoch 20/20\\n\",","            \"1563/1563 [==============================] - 13s 8ms/step - loss: 0.0360 - acc: 0.9893 - val_loss: 1.4809 - val_acc: 0.7009\\n\"","          ]","        }","      ]","    },","    {","      \"cell_type\": \"code\",","      \"metadata\": {","        \"id\": \"oFnqStkTYSAp\",","        \"colab\": {","          \"base_uri\": \"https://localhost:8080/\",","          \"height\": 927","        },","        \"outputId\": \"3888f3bc-d78f-4499-927e-e411cbb1abbe\"","      },","      \"source\": [","        \"#  Ploting the accuracy graph\\n\",","        \"plt.plot(history.history['acc'])\\n\",","        \"plt.plot(history.history['val_acc'])\\n\",","        \"plt.title('model accuracy')\\n\",","        \"plt.ylabel('accuracy')\\n\",","        \"plt.xlabel('epoch')\\n\",","        \"plt.legend(['train', 'val'], loc='best')\\n\",","        \"plt.show()\\n\",","        \"# Ploting the loss graph\\n\",","        \"plt.plot(history.history['loss'])\\n\",","        \"plt.plot(history.history['val_loss'])\\n\",","        \"plt.title('model loss')\\n\",","        \"plt.ylabel('loss')\\n\",","        \"plt.xlabel('epoch')\\n\",","        \"plt.legend(['train', 'val'], loc='best')\\n\",","        \"plt.show()\"","      ],","      \"execution_count\": null,","      \"outputs\": [","        {","          \"output_type\": \"display_data\",","          \"data\": {","            \"text/plain\": [","              \"\u003cFigure size 640x480 with 1 Axes\u003e\"","            ],","            \"image/png\": \"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\\n\"","          },","          \"metadata\": {}","        },","        {","          \"output_type\": \"display_data\",","          \"data\": {","            \"text/plain\": [","              \"\u003cFigure size 640x480 with 1 Axes\u003e\"","            ],","            \"image/png\": \"iVBORw0KGgoAAAANSUhEUgAAAjcAAAHHCAYAAABDUnkqAAAAOXRFWHRTb2Z0d2FyZQBNYXRwbG90bGliIHZlcnNpb24zLjcuMSwgaHR0cHM6Ly9tYXRwbG90bGliLm9yZy/bCgiHAAAACXBIWXMAAA9hAAAPYQGoP6dpAABsVElEQVR4nO3dd1yVdf/H8dc5BziACIgIOFBwbxypuUrLMjVHS8tKrbRl019DWzbusrpvy0rNtpXtMq00Tc2dI1eZGycOQBzsfa7fH5eiJCoocMHh/Xw8zoNzrnNd1/kcjsDb67tshmEYiIiIiLgJu9UFiIiIiBQnhRsRERFxKwo3IiIi4lYUbkRERMStKNyIiIiIW1G4EREREbeicCMiIiJuReFGRERE3IrCjYiIiLgVhRsRKfP27NmDzWZj6tSpRT520aJF2Gw2Fi1adM79pk6dis1mY8+ePRdUo4iUHQo3IiIi4lYUbkRERMStKNyIiIiIW1G4EZHzev7557HZbGzfvp3bbruNgIAAqlWrxrPPPothGMTExNC/f3/8/f0JCwtj/PjxZ5wjPj6eu+66i9DQULy9vYmKiuLTTz89Y7/jx48zbNgwAgICCAwMZOjQoRw/frzAurZu3cqNN95IUFAQ3t7eXHLJJfz000/F+t4nT55Ms2bNcDqd1KhRg5EjR55Rz44dO7jhhhsICwvD29ubWrVqcfPNN5OYmJi3z7x58+jSpQuBgYH4+fnRqFEjnnrqqWKtVURMHlYXICLlx6BBg2jSpAmvvvoqs2bN4j//+Q9BQUG89957XHHFFbz22mt88cUXPPbYY7Rr147LLrsMgPT0dLp160Z0dDQPPPAAkZGRfPfddwwbNozjx4/z8MMPA2AYBv3792fZsmXce++9NGnShB9//JGhQ4eeUcumTZvo3LkzNWvWZPTo0VSqVIlvv/2WAQMG8MMPP3Dddddd9Pt9/vnneeGFF+jRowf33Xcf27Zt49133+XPP/9k+fLleHp6kpWVRc+ePcnMzOTBBx8kLCyMAwcO8Msvv3D8+HECAgLYtGkT1157LS1btuTFF1/E6XQSHR3N8uXLL7pGESmAISJyHmPHjjUA4+67787blpOTY9SqVcuw2WzGq6++mrf92LFjho+PjzF06NC8bRMmTDAAY9q0aXnbsrKyjI4dOxp+fn5GUlKSYRiGMWPGDAMwXn/99Xyv07VrVwMwPvnkk7ztV155pdGiRQsjIyMjb5vL5TI6depkNGjQIG/bwoULDcBYuHDhOd/jJ598YgDG7t27DcMwjPj4eMPLy8u4+uqrjdzc3Lz9Jk6caADGxx9/bBiGYaxfv94AjO++++6s537zzTcNwDh8+PA5axCR4qFmKREptOHDh+fddzgcXHLJJRiGwV133ZW3PTAwkEaNGrFr1668bbNnzyYsLIxbbrklb5unpycPPfQQKSkpLF68OG8/Dw8P7rvvvnyv8+CDD+ar4+jRo/z+++8MHDiQ5ORkEhISSEhI4MiRI/Ts2ZMdO3Zw4MCBi3qv8+fPJysri0ceeQS7/dSvyhEjRuDv78+sWbMACAgIAGDu3LmkpaUVeK7AwEAAZs6cicvluqi6ROT8FG5EpNBq166d73FAQADe3t4EBwefsf3YsWN5j/fu3UuDBg3yhQSAJk2a5D1/8mv16tXx8/PLt1+jRo3yPY6OjsYwDJ599lmqVauW7zZ27FjA7ONzMU7W9O/X9vLyom7dunnPR0ZGMmrUKD788EOCg4Pp2bMnkyZNytffZtCgQXTu3Jnhw4cTGhrKzTffzLfffqugI1JC1OdGRArN4XAUahuY/WdKyslQ8Nhjj9GzZ88C96lfv36Jvf6/jR8/nmHDhjFz5kx+++03HnroIcaNG8fKlSupVasWPj4+LFmyhIULFzJr1izmzJnDN998wxVXXMFvv/121u+hiFwYXbkRkRJXp04dduzYccaViq1bt+Y9f/LroUOHSElJybfftm3b8j2uW7cuYDZt9ejRo8Bb5cqVL7rmgl47KyuL3bt35z1/UosWLXjmmWdYsmQJS5cu5cCBA0yZMiXvebvdzpVXXskbb7zB5s2befnll/n9999ZuHDhRdUpImdSuBGREte7d29iY2P55ptv8rbl5OTwzjvv4Ofnx+WXX563X05ODu+++27efrm5ubzzzjv5zhcSEkK3bt147733OHTo0Bmvd/jw4YuuuUePHnh5efH222/nuwr10UcfkZiYSJ8+fQBISkoiJycn37EtWrTAbreTmZkJmH2E/q1Vq1YAefuISPFRs5SIlLi7776b9957j2HDhrF27VoiIiL4/vvvWb58ORMmTMi7ytK3b186d+7M6NGj2bNnD02bNmX69On5+q+cNGnSJLp06UKLFi0YMWIEdevWJS4ujhUrVrB//37++uuvi6q5WrVqjBkzhhdeeIFrrrmGfv36sW3bNiZPnky7du247bbbAPj999954IEHuOmmm2jYsCE5OTl8/vnnOBwObrjhBgBefPFFlixZQp8+fahTpw7x8fFMnjyZWrVq0aVLl4uqU0TOpHAjIiXOx8eHRYsWMXr0aD799FOSkpJo1KgRn3zyCcOGDcvbz26389NPP/HII48wbdo0bDYb/fr1Y/z48bRu3TrfOZs2bcqaNWt44YUXmDp1KkeOHCEkJITWrVvz3HPPFUvdzz//PNWqVWPixIk8+uijBAUFcffdd/PKK6/g6ekJQFRUFD179uTnn3/mwIED+Pr6EhUVxa+//sqll14KQL9+/dizZw8ff/wxCQkJBAcHc/nll/PCCy/kjbYSkeJjM0qy15+IiIhIKVOfGxEREXErCjciIiLiVhRuRERExK0o3IiIiIhbUbgRERERt6JwIyIiIm6lws1z43K5OHjwIJUrV8Zms1ldjoiIiBSCYRgkJydTo0aNMxbh/bcKF24OHjxIeHi41WWIiIjIBYiJiaFWrVrn3KfChZuT07zHxMTg7+9vcTUiIiJSGElJSYSHhxdqUdwKF25ONkX5+/sr3IiIiJQzhelSog7FIiIi4lYUbkRERMStKNyIiIiIW1G4EREREbeicCMiIiJuReFGRERE3IrCjYiIiLgVhRsRERFxKwo3IiIi4lYUbkRERMStKNyIiIiIW1G4EREREbeicCMiIiLFJ3o+ZGdYWoLCjYiIiBSP7XPhi5vgs/6QlWpZGQo3IiIicvHiNsH3d4LhgmoNwdPXslIUbkREROTipMTDl4MgKwUiukLv8WCzWVaOwo2IiIhcuOx0+HowJMZAUD0Y+Bl4eFlaksKNiIiIXBjDgJkjYf+f4B0Ig78F3yCrq1K4ERERkQu0+DX45wewe8CgzyG4vtUVAQo3IiIiciE2fg+Lxpn3+7wBkZdZW89pFG5ERESkaGL+hBn3m/c7PQhth1pbz78o3IiIiEjhHd8HX98CuZnQqDf0eMHqis6gcCMiIiKFk5FkDvlOPQyhLeD6D8DusLqqMyjciIiIyPm5cuGHuyB+M/iFwuCvwelndVUFUrgRERGR8/vtGdjxG3h4wy1fQUAtqys6K4UbERERObc/P4KVk837102Bmm2trec8FG5ERETk7HYuhNmPm/eveAaaXWdtPYWgcFNMcnJdrNt3jCXbD1tdioiISPE4vB2+HQpGLrQcBF0fs7qiQrE03CxZsoS+fftSo0YNbDYbM2bMKPSxy5cvx8PDg1atWpVYfUXx2+Y4rp/8B/+ZtdnqUkRERC5e6hH4ciBkJkL4pdDvHUsXwywKS8NNamoqUVFRTJo0qUjHHT9+nCFDhnDllVeWUGVF17FuVWw22B6XQlxShtXliIiIXLicTPjmNji2GwLrwM1fgIfT6qoKzcPKF+/Vqxe9evUq8nH33nsvgwcPxuFwFOlqT0mqUsmL5jUC2HggkeXRCVzfpuz2IhcRETkrw4CfH4F9f4DTHwZ/A5WCra6qSMpdn5tPPvmEXbt2MXbsWKtLOUPn+uaHvyw6weJKRERELtDyCfDXl2Czw02fQEgTqysqsnIVbnbs2MHo0aOZNm0aHh6Fu+iUmZlJUlJSvltJ6drgRLjZkYBhGCX2OiIiIiVi808w/3nzfq/XoX4PS8u5UOUm3OTm5jJ48GBeeOEFGjZsWOjjxo0bR0BAQN4tPDy8xGpsW6cKTg878cmZRMenlNjriIiIFLuD62H63eb99ndD+xHW1nMRyk24SU5OZs2aNTzwwAN4eHjg4eHBiy++yF9//YWHhwe///57gceNGTOGxMTEvFtMTEyJ1ejt6aB9ZBAAS3eoaUpERMqJpIPw1S2Qkw71roSe46yu6KJY2qG4KPz9/dm4cWO+bZMnT+b333/n+++/JzIyssDjnE4nTmfp9fDuXD+YpTsSWB6dwJ1dCq5JRESkzMhKNRfDTD4E1Rqb/Wwc5SYeFMjS6lNSUoiOjs57vHv3bjZs2EBQUBC1a9dmzJgxHDhwgM8++wy73U7z5s3zHR8SEoK3t/cZ263U5USn4pW7jpCd68LTUW4ujomISEXjcplNUbF/g29Vc2SUd4DVVV00S//yrlmzhtatW9O6dWsARo0aRevWrXnuuecAOHToEPv27bOyxCJrWt2fKr6epGblsiHmuNXliIiInN2CF2DrL+Dwgpu/hCoRVldULGxGBRvWk5SUREBAAImJifj7+5fIa4z8ch2z/j7Ew1c24NGrCt/5WUREpNSsnwYzR5r3r3sfogZZW895FOXvt9pMSkBXzXcjIiJl2Z5l5kR9AJc9XuaDTVEp3JSAk5P5bYg5TnJGtsXViIiInObITnNpBVc2NB0A3Z6yuqJip3BTAsKDfImo6kuuy2DlrqNWlyMiImI6uhu+uBHSj0GNNjDgXbC7XxRwv3dURpy8erNcTVMiIlIW7FsJH14JR3dBQDjc8hV4+VpdVYlQuCkheUsxKNyIiIjV/v4OPu0LaUegeiu4ax5UDrO6qhKjcFNCOtYNxmaD6PgUDiWmW12OiIhURIYBi16F6cMhNwsaXwt3zAb/6lZXVqIUbkpIgK8nLWuaEyEtjz5icTUiIlLhZGfA9BGw6MRSCp0egoGfg1cla+sqBQo3JahL3irhhy2uREREKpTUBPisP2z8Duwe0PctuPolt+w8XJCK8S4t0jlvvpsjVLC5EkVExCqHt5sdh2NWgjMAbvsB2g6zuqpSpXBTgtrWqYK3p52ElEy2xSVbXY6IiLi7XYvgwx5wbI+5lMLweVC3m7U1WUDhpgQ5PRy0j6wKwLIdGjUlIiIlaO2nMO0GyEyE8Eth+AKo1sjqqiyhcFPCumq+GxERKUkuF/z2LPz8ELhyoMVNMGQmVAq2ujLLeFhdgLs72e9m1e6jZOW48PJQnhQRkWKSlQrT7zZX9gboNgYufxJsNmvrspj+0pawxmGVCfbzIi0rl/X7jlldjoiIuIukQ/BJbzPYOLzg+g+g2+gKH2xA4abE2e02OtXTbMUiIlKMYjeaI6IObQDfqjD0Z2g50OqqygyFm1LQpb7CjYiIFJPtc+HjayDpAAQ3NDsO177U6qrKFIWbUtD5xGR+f8UcJzE92+JqRESkXDIMWDkFvroZslIg8nJzjaigSKsrK3MUbkpBzUAf6gZXwmXAyl1aikFERIooNwdmPwZzngTDBW2GmpPz+QRaXVmZpHBTSk4uxaAh4SIiUiQZSfDVIPjzQ8AGV//HXE7B4Wl1ZWWWwk0pyVuKQZP5iYhIYR3fBx/3hOj54OkLg6ZBpwc1Iuo8NM9NKelYryp2G+xKSOXA8XRqBvpYXZKIiJRl+9fAV7dAajz4hcHgr6FGa6urKhd05aaU+Ht7EhUeCMByXb0RESk5uTmwaQb8Mx1Sy2k/x00/wtQ+ZrAJbQEjflewKQJduSlFXeoHs37fcZZFJzCwXbjV5YiIuJ/kWPj+Lti77MQGG1RvaS4eWbe7OWTaswxeOXe5IGEb7P0D9iw1ww1Aw2vgho/A6WdtfeWMwk0p6lI/mHd+j2Z5dAIul4HdrjZTEZFis3spfH+nebXDyw8Ca0P8Zjj0l3lb/hZ4eJsB52TYCWsJdgsaMXKzzZr2/gH7Vpi39H/NYn/p/WbnYbuj9Osr5xRuSlHr2lXw9XJwJDWLrbHJNK3hb3VJIiLln8sFy9+E3/9jDpMOaQoDP4PgBpAcB7sXw86FsGshJB+CXYvMG8+DTxDUvfxU2KlSp2RqzEqD/X+aIWbvcrM/TXZa/n08faFWO6jT6cRVpg4lU0sFoHBTirw87HSIDGLhtsMsj05QuBERuVhpR+HHe2DHb+bjVrdC7/+Bl6/5uHKouSxBy4HmJHgJ208EnUVm80/6UbMJ6GQzUJVIqNfdDBeRXcGnyoXXtW8l7PsD9q4wl0lw5eTfx6cK1O4EdTqaX6u31PDuYqJwU8o61w9m4bbDLI1OYMRlda0uR0Sk/Nq/Fr4bCokxZnNT7/9Bm9vPvr/NBtUambdL7zWbhg6sPRV29v8Jx3bDmt2w5mOw2c1OvCev6oS3Bw9nwedO3G+GmJNh5vCWM/fxr3UiyHQ0r84EN7KmSawCsBmGYVhdRGlKSkoiICCAxMRE/P1L/8rJtthkek5Ygrennb/GXo3TQ22pIiJFYhiw+gOY+xS4siGortkMFdbi4s6bkWQ2GZ1swkrYnv95T98TTUbdzOajw1tPBZrj+848X3BDc/+TV2cCa19cfRVcUf5+68pNKWsY6ke1yk4OJ2eydu+xvBXDRUSkEDKT4acHTzUjNekH/SeCd8DFn9vbHxr1Mm8AiQdO9c/ZtcjsqBw937z9m81hNivlNTN1hEr6/W4VhZtSZrPZ6FI/mB/XH2B5dILCjYhIYcVtgm+HwJFosHuYI4k63Ftys/UG1ITWt5o3wzBHXp1swjr014krMyeamGq1A2flkqlDikzhxgKdT4SbZdFHeLyn1dWIiJQDG76EX0ZBTjr414Sbppp9YEqLzQahzcxbpwdK73XlgijcWKDLiXWmNu4/TmJaNgG+6h0vIlKg7HSY/Tis/9x8XO9KuP4DqFTV2rqkTFM3bQuEBXhTP8QPlwErdmkpBhGRAh3ZCR9eZQYbmx26PwO3fq9gI+elcGORk1dvlmqdKRGRM22eCe9dDnEboVI1uP1HuPxxDZ2WQtG/EoucDDfLoxVuRETy5GTBnDFmx+GsZHP00T1LzeHXIoWkPjcW6VA3CIfdxp4jacQcTSM8yNfqkkRErJW4H74bZk6mB9D5YbjiOXDoT5UUjaVXbpYsWULfvn2pUaMGNpuNGTNmnHP/6dOnc9VVV1GtWjX8/f3p2LEjc+fOLZ1ii1llb09ahwcCunojIsKO+TClqxlsvAPg5q/gqhcVbOSCWBpuUlNTiYqKYtKkSYXaf8mSJVx11VXMnj2btWvX0r17d/r27cv69etLuNKS0flE09QyhRsRqahcueaCl1/caK7zVL0V3LMEGve2ujIpxyyNxL169aJXr16F3n/ChAn5Hr/yyivMnDmTn3/+mdatWxdzdSWvS4Ng3lqwgz92HsHlMrDbS2giKhGRsiglHn4Ybq7aDXDJXdDzFfD0trYuKffK9fU+l8tFcnIyQUFBZ90nMzOTzMzMvMdJSUmlUVqhtAoPpJKXg6OpWWw+lETzmsUwfbiISFnncsHO32HmSEiJBc9K0PctaHmT1ZWJmyjXo6X+97//kZKSwsCBA8+6z7hx4wgICMi7hYeHl2KF5+bpsHNpXXO+BjVNiYjbO7YHFr0Kb7eCL24wg021xnD3QgUbKVblNtx8+eWXvPDCC3z77beEhIScdb8xY8aQmJiYd4uJiSnFKs+vSwMNCRcRN5aZAuu/gKnXwltRsGgcHN8LXpWh/T0w4neo1sjqKsXNlMtmqa+//prhw4fz3Xff0aNHj3Pu63Q6cTqdpVPY5p+gXvciLZ52cr6b1buPkpGdi7eno6SqExEpHS4X7F1urge1eSZkp554wmbOV9PqVmjcB7w0BYaUjHIXbr766ivuvPNOvv76a/r06WN1OafEb4FvbwenP7QZAu1HQJWI8x5WP8SPUH8ncUmZrN17LG8ElYhIuXN0N/z1Nfz1JRzfd2p7UD1oNRiiboaAWtbVJxWGpeEmJSWF6OjovMe7d+9mw4YNBAUFUbt2bcaMGcOBAwf47LPPALMpaujQobz11lt06NCB2NhYAHx8fAgIsLgzbtoRqNoAjuyAFRNh5WTzfyaX3g+1O5oryhbAZrPRuX4w09cdYFl0gsKNiJQvmcnm1ZkNX5pXa05y+kOz68yrNOHtz/o7UKQk2AzDMKx68UWLFtG9e/cztg8dOpSpU6cybNgw9uzZw6JFiwDo1q0bixcvPuv+hZGUlERAQACJiYn4+/tfTPlnOjkCYOUk8+tJ1VuZIafZdeDhdcZh09ftZ9S3f9GiZgA/P9ileGsSESluLhfsXXZas1PaiSdsZtP8yWYnTx9LyxT3UpS/35aGGyuUaLg5XfwWWDXFvESbk2Fu8wuFdiPgkjug0qkrNPFJGbR/ZQE2G6x75iqqVDozAImIWO7oLvN32oavIPG0Zqeq9c1mp5aD1OwkJUbh5hxKLdyclHYU1n4Cqz+A5EPmNocTWg6ES++D0GYAXP3mYrbHpTBpcBv6tKxe8nWJiBRGZjJsmmFepdn3x6ntTn9ofr15laZWOzU7SYkryt/vctehuNzxDYKu/wedHjIv366YBAfXwfrPzVvk5XDp/XSpV4vtcSksi05QuBERa+XmmLMG//0tbPlJzU5S7ijclBaHJ7S4EZrfYC4Mt2KS+Utj92LYvZjHKkeQ7ejGqh1XAy2srlZEKhrDMH83bfweNk2H1MOnnqva4LRmp5rW1ShSSGqWstLxfWZz1bpPISPRrM/whTZD8b/8fgisbW19IuL+4jbDxu/gnx/MyfVO8gmCZgMgajDUukTNTmI59bk5hzIVbk7KTIG/vuLg3DepkXvA3GazQ5O+5iir8A76xSIixefYHjPMbPwe4jef2u5ZyWxuanGT2fzk8LSsRJF/U7g5hzIZbk54e/421v3+HU8G/k6TtLWnnqjRGi4dCU37FziUXETkvFLizY7BG7+D/atPbbd7QoOrocUN0LCXZg2WMkvh5hzKcrhZu/cYN7z7B4G+nqy9uyaO1VPgr28g98Sq5pWrww0fQURnawsVkfIhIxG2/AL/fA+7FoHhOvGEDSK7mldomvQFnypWVilSKBotVU5F1QqgstOD42nZbMqpSct+78CVY08MJf/QHEr+4z0wcrX+dyUiBcvOgB1zzSan7XNP/ecIoEYbM9A0uw78NSpT3JfCTRni4bBzab2qzNscx7LoBFrWCjQn+7vscbPvzaQOkBgDy9+C7mOsLldECpJ+HA5vPXHbDq5sc04Yb/8TXwNO3A/Iv83T58L71p0cur3xe9j6C2QmnXouuKEZaJrfAFXrFctbFCnrFG7KmC71g81wsyOB+7vVP/WEVyW4+j/w3VBYPsEcllmljmV1ilR4GYlweJs5G/nhrae+npyss6jsHqdCkHfAqdBzxjb/U18Btv0Km37MP3Tbv5bZh6b5jRDWQgMSpMJRuCljujQwl2VYs+cY6Vm5+Hg5Tj3ZtD9EdIU9S+G3p2HQNIuqFKlAMpLMEHN4C8RvPXVVJunA2Y/xrwnVGps3Tx/zSkpG0omviSfuJ57aZrjAlQPpR83bhfAJMpubWtxkjrC02y/sPCJuQOGmjKkbXInqAd4cSsxgzd6jdG1Q7dSTNhv0eh2mdIEtP8POheZwTRG5eJkpp4WYk1djtkLS/rMfU7kGhDQ+FWRCmkC1RuZVlsIyDMhKOS38nAhAmf/6WtDz2WlmkGlxE9TtpqHbIico3JQxNpuNLvWD+W7tfpbtSMgfbgBCm0L7EeainL8+Cfct1y80kQu17Vf48yMzyCTGnH2/ytXN0FKtyYkwcyLE+ARefA02Gzgrmzc0+69IcVC4KYO6NDgRbqITCt6h2xiz42DCNlj9PnQcWboFiriD2I3wzW1mc9BJfqGnXYE57UqMhkqLlCsKN2VQp3pmv5tNB5M4kpJJVT9n/h18AqHHWPjpQVj0qnlJ2i+k9AsVKa9yc2DmSDPY1L/KXNy2WiNzoVsRKffU46wMqlbZSeOwygD8sfNIwTu1us2cuTgzCea/UIrVibiBFe/Aob/AOxD6T4I6HRVsRNyIwk0Z1aW+efVm+dmapux26PVf8/6GabB/TSlVJlLOJeyAhePM+9eMg8qh1tYjIsVO4aaMOjkkfOmOBM66QkZ4O3PFXoDZj4PLVfB+ImJyuczm3NxMqHclRN1idUUiUgIUbsqo9pFBeDnsHDiezt4jaWffscfz4FUZDq6DDV+UWn0i5dKaj2DfCvDyg74TNLmdiJtSuCmjfL08aFMnEIClZ2uaAvOSercnzfvznzenfheRMx3fZ/6MgPmfgsDaVlYjIiVI4aYMy+t3s+Mc4Qag/T3m+jFpCbD4tVKoTKScMQz4+RFzsrzaHeGSu6yuSERKkMJNGdb5RLj5Y2cCua6z9LsB8PCCXidCzar3zFlVReSUv76CnQvA4YR+72hpAhE3p5/wMqxlrUAqe3uQlJHDxgOJ59653hXQ+FowcuHXJ8z/qYoIJMfBnDHm/W6jIbiBtfWISIlTuCnDHHYbnepVBc4xJPx0PV82/2e6e7G59pSIwOzHIOM4VI+CTg9ZXY2IlAKFmzKuy4m1pZbuOHz+natEQOeHzftzn4asc4yyEqkINs+ELT+B3cOcrM+hSdlFKgKFmzLuZKfidXuPk5aVc569gS6PQkA4JO6D5W+VcHUiZVjaUZj1mHm/8yMQ1sLSckSk9CjclHERVX2pGehDVq6L1buPnv8AL1+4+j/m/eUT4NjeEq1PpMya+zSkxpsjCS9/wupqRKQUKdyUcTab7fxLMfxb0/4Q0RVyMuC3p0uwOpEyasd8+OtLwGY2R3k4z3uIiLgPhZty4PSlGArFZoNer4PNYXYs3rmwBKsTKWMyk+GXR8z7He6F8PaWliMipU/hphw4OWJqa2wyh5MzC3dQaFNoP8K8/+uTkJtdQtWJlDHzX4DEGHMG4iuftboaEbGAwk05UNXPSdPq/oA5oV+hdRsDvlUhYRus/qCEqhMpQ/b+AX+e+Lfe923wqmRtPSJiCYWbcqLriaapn/86VPiDfALhyrHm/UXjICW++AsTKSuy080VvwFa3w71ultbj4hYRuGmnLjpklrYbDB/SxxbDiUV/sDWt0ON1pCZZF6uF3FXi16FI9HgF3ZqxKCIVEgKN+VE/ZDK9G5eHYCJC6MLf6DdDr3+a97fMA32ry2B6kQsdnA9/PGOef/aN8yrliJSYSnclCMPXFEfgNkbDxEdn1z4A8PbQdRg8/7sx8DlKoHqRCySmw0zHzTXVWt2HTTuY3VFImIxS8PNkiVL6Nu3LzVq1MBmszFjxozzHrNo0SLatGmD0+mkfv36TJ06tcTrLCuaVPfnqqahGAZMWrizaAf3eB68KsPBdSfm/xBxE8smQNxG8Ak6dZVSRCo0S8NNamoqUVFRTJo0qVD77969mz59+tC9e3c2bNjAI488wvDhw5k7d24JV1p2PHSFuaLxzA0H2JOQWvgDK4dCtyfN+/Ofh4zzrDIuUh7Eb4Ulr5v3e70GftWsrUdEygRLw02vXr34z3/+w3XXXVeo/adMmUJkZCTjx4+nSZMmPPDAA9x44428+eabJVxp2dGiVgDdGlXDZcDkRUXoewPQ/h5zKvrUw7DotZIpUCqWY3vh+zth6RuQUYSO7sXBlQs/PQC5WdDgamhxU+m+voiUWeWqz82KFSvo0aNHvm09e/ZkxYoVFlVkjQdPXL2Zvu4AMUeLsPK3hxdc86p5f/V75v96RS7U8Rj49Fr45wdY8AJMaGGOWEo/Vjqvv/p92P+n2dx67ZvmzNwiIpSzcBMbG0toaGi+baGhoSQlJZGenl7gMZmZmSQlJeW7lXdt61Shc/2q5LgMpiwuYt+b+ldC42vBlQO/PgGGUTJFintLOgif9oXj+6BKBFRtABnHzfmUJrSEBS9C6pGSe/2ju83XALjqBQioVXKvJSLlTrkKNxdi3LhxBAQE5N3Cw8OtLqlYnLx6892a/cQmZhTt4J4vg8MJuxeba0+JFEVyLEy9Fo7thsA6MGwWjFwFN34MIU3NOZWWjjev5Pz2TPFPHmkY8PPDkJ0GdbpA2zuK9/wiUu6Vq3ATFhZGXFxcvm1xcXH4+/vj4+NT4DFjxowhMTEx7xYTE1MapZa4S+tWpX1EEFm5rqJfvakSAZ0fNu/PfRqyitC0JRVbSrx5xeboTgioDcN+Ma+a2B3Q/Aa4dzkMmgZhLSE71Zx7ZkILc32zpIPFU8P6z81g7uEN/d4253ISETlNufqt0LFjRxYsWJBv27x58+jYseNZj3E6nfj7++e7uYsHrzTnvflq9b7CL6h5UpdHwb8WJO6DP94ugerE7aQmmMEmYTv414ShP5mLU57ObocmfeGeJTD4W6h5CeRkwKop8FYU/PKo2ZR1oZIOwdxnzPvdn4aq9S78XCLitiwNNykpKWzYsIENGzYA5lDvDRs2sG+f+ctvzJgxDBkyJG//e++9l127dvHEE0+wdetWJk+ezLfffsujjz5qRfmW61I/mFbhgWTmuPhw6a6iHezlCz1PTFG/7E1z1IvI2aQdhc/6w+GtULk6DP0ZgiLPvr/NBg17wvD5cPuPULuTOappzcfwdmuYORKOFPGKo2HArFGQmQg12sCl91/cexIRt2VpuFmzZg2tW7emdevWAIwaNYrWrVvz3HPPAXDo0KG8oAMQGRnJrFmzmDdvHlFRUYwfP54PP/yQnj17WlK/1Ww2Gw+duHrz+cq9HE3NKtoJmg6AiK7m/6x/e6b4CxT3kH7MDDZx/4BfqBlsCnvFxGaDelfAnb+afXMiLzc7s6+fBhMvgel3w+FthTvXpumwbTbYPaH/RHB4XPh7EhG3ZjOMijVcJikpiYCAABITE92iicowDK59ZxmbDibxQPf6PNazUdFOELcZpnQxp64fMhPqdiuROqWcSj8Onw8w127yDTYDSkjjiztnzGpY8l/Y8duJDTZo2h8uexzCmhd8TOoRmNQe0hLg8tHQfczF1SAi5U5R/n6Xqz43ciabzcaDJ9ac+vSPPSSmZxftBKFNof0I8/7sJyCniFd/xH1lJMG0G8xg4xNkXrG52GADEN4ebv0O7l5kTkuAAZtnwJTO8NVg8/X+bc5oM9iENIWu/3fxNYiIW1O4cQNXNw2jUWhlkjNzmLp8T9FP0G0M+FaFhG0wtbc5OZuUnpg/YcWksrUkRmYKfHETHFgD3oHmVb3QpsX7GjVaw81fmCOsml0H2GDbLHi/G0y70bzCA7B9Lmz8Fmx26DfRnIxSROQcFG7cgN1uY+SJqzcfL99NckYRr974BMINH4J3gDnj65QusG1O8RcqZzr0N3zWD+Y+Be+0NfuiWL1qe1YqfDkQYlaCMwCGzIDqLUvu9cKaw01TzblyWg4yQ0z0PPjoKvi0H/z8iLnfpfdDrbYlV4eIuA2FGzfRp0V16larRGJ6Np+vvICRT/WuMIfv1mhjzjT71SCzk3FuEYOSFF7KYfh6sDkZncNprvk1c6T5R/3AWmtqykqDr26GvcvB6W+OdKrRunReu1ojuP59eGANtL4N7B7mfDbJB6FKpDn0W0SkEBRu3ITDbmNkN/PqzYdLd5OWlVP0k1SJgDvnQof7zMd/vANT+0Di/uIrVEw5WfDtEEiMgaB68OgmuOpF8PIzm4I+uBJ+etCcW6a0ZGeYYWv3ErOO236w5kpJ1XrQfxI8uA4uuRNCmsH1H5jTF4iIFIJGS7mRnFwXV4xfzL6jaTzTpwnDu9a98JNt/glmPmDOKeITBNe9Bw2vLr5iK7qfH4G1n5iLPo5YYF61AHOSuvlj4e9vzMfeAeYVi0vuKtmhzzmZ8PWtZnOQp68ZbOp0KrnXExEpIo2WqqA8HHbu72bOP/Lekl1kZOde+Mma9oN7FkP1VpB+FL68CeaNVTNVcfjzQzPYYIMbPzoVbAD8q5tNM3fOhbAWZifjX5+A9y6DPctKpp6cLPh2qBlsPHzMmYUVbESkHFO4cTPXt6lFzUAfDidn8u2aixz1FBQJd/0G7e82Hy+fYC6YmHjgouussPYsM9dZArjyOXMW34LUvhTuXgx93gCfKhC/yWwi/O6O4v3+52bD93fA9l/NtZoGfw2RXYvv/CIiFlC4cTNeHnbuvdxsjpqyaCdZORc58sbDCb3/Czd9anYwjVkJ73WFHfOLodoK5thes5+NKwea32iu73Uudge0u+tU3xNs5iy9Ey8xV93OKeJ6Yv+WmwM/DIetv4DDyxyWrUkcRcQNKNy4oZsuCSekspODiRn8sK6YOgM3G3CimSoK0o7AFzfAghfNP5ByfpkpZmfdtCNmU1//iebSBIXhGwTXvml+/8MvNUdXLXgRJl9qzgFzIVy5MONec/I8uycM+gLq97iwc4mIlDEKN27I29PBPZebfW8mL4omO7eY5k0Jqgt3/gbthpuPl44352hJOlQ853dXLhfMuM9cm6lSCNz8JXj6FP081aPgzjlw3fvgFwZHd5nz0XwxsGiLULpyzSHnG78zh1sP/EydxUXErSjcuKnB7WtTtZIXMUfTmbnhYPGd2NMb+oyHGz82R/rsXW5O+he9oPhew90s+S9s+cls+hk0DQJqXvi5bDaIGgQProFOD5nhZMdc8yrO/BfMCfjOxeWCnx+Cv74Cm8P8HBv3vvB6RETKIIUbN+Xj5cgbCj55YTS5rmIe8d/8BrOZJKyFuebPtBvg9/+YVwXklC0/w6JXzPt93oDaHYrnvM7KcPVLcN8KcwLG3CxY9ga8cwls/B4KmuHBMGDWKHMWZJsdbvjAXLBSRMTNKNy4sds71iHQ15NdCan88ncxXr05qWo9uGv+ic6uhnmF4rP+kBxb/K9VHsVtgun3mPc73Attbi/+16jWEG6bbvaZCaxtzub7w13mqLa4Taf2MwyY/fipIejXvWcGVBERN6Rw48b8nB7c2TkSgEkLo3EV99UbMJuprn0TbvjInNV2z1KzmWrXouJ/rdMZhrnA5/bfYNkEc1K8s12xsELqEfjqFshOhcjL4eqXS+61bDZoci2MXA3dnjKHdO9dBlO6miu9px8z16768wPABgMmQ8uBJVePiIjFNEOxm0tMz6bLq7+TnJnDu7e2oVeL6iX3YgnR8N1Qs+MsNrj8Sbj8CXNI84UyDHPNpfjNEL8l/y0r+cz9G19rhi2/kAt/zYuVmw2fX2cGvSoRMGKhOeKptBzfB3OfNvv5gDnjcHaaeb/fO9BmSOnVIiJSTIry91vhpgIY/9s23vk9mqbV/Zn1UBdshR2CfCGy02HOaFg71XwceRlc/yFUDj3/senHIH4rHD49xGw2h08XxO4BVRtASBNzZfN1n4MrG3yrmgHHqv4ksx+H1e+bV7KGzzfrs8LOheaEgQnbzMd93jDnzRERKYcUbs6hIoabY6lZdHntd1KzcvlwyCX0aFqIoHGx/v7WbCrKTjWHP9/wIdS93HwuKxUObzWDzOlXZJLP1i/IZs6WHNLUDAohTcz7QfXAw+vUbrEb4cd7T1w5AlrcZE5A6FOlJN9pfmunws8PmzXf/KX1I5Fys811qnyrQqNe1tYiInIRFG7OoSKGG4Bxv27hvcW7iAoPZMb9nUr26s1Jh7ebzVTxm83ROZGXwbE95ky9nOWfnX+t/AEmpAkENyz8itA5mbD4NVj2JhguqFwd+k2EBqUwQd3eFfBpX/Pq0RXPwGWPl/xriohUEAo351BRw01CSiZdXvudjGwXn93ZnssaViudF85KMxd+XP95/u2VquUPMCFNzQUkvQOK53X3r4Ef74Ej0ebjtsPg6v+YQ6hLwvEYeL+bOSy+2XVw4yeFn4FYRETOS+HmHCpquAF48efNfLx8N+0iqvDtPR1L5+rNSTt/N2fRrdbYDDOVgkv+NbNOLFOw6l3zcWBtGPAuRHQp/tf5uCfE/m3O+3PnXPCqVLyvISJSwRXl77eGglcg91xeFy8PO3/uOcbKXUdL98XrXQHtR5grTpdGsAGzKavXqzD0ZwiobY4imnotzHnK7PhcHAzDXMog9m/wDYabv1KwERGxmMJNBRLq782gS8IBeOf3HRZXU4oiL4P7/4A2QwEDVk4y54DZv/biz710vLlSt90TBn0OgeEXf04REbkoCjcVzD2X18XDbuOPnUdYu7eUr95YyVkZ+r0Ng78zF508sgM+uspcMiIn68LOue1X83gwR2XV6VR89YqIyAVTuKlgalXx5YY2tQB4e0G0xdVYoOHVcP8Kc5i4kWsuGfHBFRD7T9HOE78VfhgBGOYq6ZfcUSLliohI0SncVED3d6+Hw25j8fbD/BVz3OpySp9vkDnvzk2fgk8QxG00RzotfQNyc85/fNpR+Opmc4bkiK5wzaslXrKIiBSewk0FVKdqJfpH1QDgnd8r4NWbk5oNgJGroFFvc26aBS/AJ9eYy0icTW4OfH8HHNttjr666VNweJZaySIicn4KNxXU/d3rY7PB/C1xbD6YZHU51vELMWcSHjAFnP6w/09z4c+VU8DlOnP/ec+ai4J6VjJHRlWqWuoli4jIuSncVFD1Q/zoc2IRzUkLK/DVGzAn22t1i9kXp243yEmHOU/CZ/3M4eMnrf8CVk4271//HoQ1t6RcERE5N4WbCuyBK+oDMPufQ0THF7DCdkUTUAtunwF9xpsrae9ZCpM7wbrPIGY1/PKIuV+3MdCkr5WViojIOSjcVGCNw/zp2SwUw4CJFbnvzelsNnP0073LIPxSs9PwTw/CJ70hNwua9IPLnrC6ShEROQeFmwruwSsaAPDTXwfZnZBqcTVlSNV6cMdsuOolcHiZHY5Dm5vLN9j1YyMiUpbpt3QF17xmAFc0DsFlwOSK3vfm3+wO6PwQ3LPUbIq69Xtw+lldlYiInIfCjfDgib43P64/wN4junpzhpDG0G00+Fe3uhIRESkEhRuhde0qXNawGjkug6d//IcKtlC8iIi4GYUbAeCFfs1wethZFp3A13/GWF2OiIjIBbM83EyaNImIiAi8vb3p0KEDq1evPuf+EyZMoFGjRvj4+BAeHs6jjz5KRkZGKVXrviKDK/F4z0YAvDxrCwePp1tckYiIyIWxNNx88803jBo1irFjx7Ju3TqioqLo2bMn8fHxBe7/5ZdfMnr0aMaOHcuWLVv46KOP+Oabb3jqqadKuXL3dEfnSNrUDiQlM4cx0zeqeUpERMolS8PNG2+8wYgRI7jjjjto2rQpU6ZMwdfXl48//rjA/f/44w86d+7M4MGDiYiI4Oqrr+aWW24579UeKRyH3cbrN0bh5WFn8fbDfL92v9UliYiIFJll4SYrK4u1a9fSo0ePU8XY7fTo0YMVK1YUeEynTp1Yu3ZtXpjZtWsXs2fPpnfv3md9nczMTJKSkvLd5Ozqh/jxaI+GALz0y2biktTkJyIi5csFhZtPP/2UWbNm5T1+4oknCAwMpFOnTuzdu7dQ50hISCA3N5fQ0NB820NDQ4mNjS3wmMGDB/Piiy/SpUsXPD09qVevHt26dTtns9S4ceMICAjIu4WHhxeqvopsRNdIomoFkJSRw9M/qnlKRETKlwsKN6+88go+Pj4ArFixgkmTJvH6668THBzMo48+WqwFnm7RokW88sorTJ48mXXr1jF9+nRmzZrFSy+9dNZjxowZQ2JiYt4tJkYjgc7Hw2Hn9Ruj8HTYmL8lnpkbDlpdkoiISKF5XMhBMTEx1K9vTvw2Y8YMbrjhBu6++246d+5Mt27dCnWO4OBgHA4HcXFx+bbHxcURFhZW4DHPPvsst99+O8OHDwegRYsWpKamcvfdd/P0009jL2BafKfTidPpLMK7E4BGYZV56IoGjJ+3ned/3kSn+lUJqextdVkiIiLndUFXbvz8/Dhy5AgAv/32G1dddRUA3t7epKcXbgixl5cXbdu2ZcGCBXnbXC4XCxYsoGPHjgUek5aWdkaAcTgcAGo6KQH3dqtHsxr+HE/L5rkZm/Q9FhGRcuGCws1VV13F8OHDGT58ONu3b8/r0Ltp0yYiIiIKfZ5Ro0bxwQcf8Omnn7Jlyxbuu+8+UlNTueOOOwAYMmQIY8aMydu/b9++vPvuu3z99dfs3r2befPm8eyzz9K3b9+8kCPFx9Nh5/UbW+JhtzFnUyyzNh6yuiQREZHzuqBmqUmTJvHMM88QExPDDz/8QNWqVQFYu3Ytt9xyS6HPM2jQIA4fPsxzzz1HbGwsrVq1Ys6cOXmdjPft25fvSs0zzzyDzWbjmWee4cCBA1SrVo2+ffvy8ssvX8jbkEJoViOA+7vV4+3fo3lu5iY61q1KVT8184mISNllMypYW0NSUhIBAQEkJibi7+9vdTnlQlaOi77vLGNbXDLXtqzOxMFtrC5JREQqmKL8/b6gZqk5c+awbNmyvMeTJk2iVatWDB48mGPHjl3IKaUM8/Kw89+bWuKw2/jl70PM+afgofoiIiJlwQWFm8cffzxvMryNGzfyf//3f/Tu3Zvdu3czatSoYi1QyoaWtQK5+7K6ADwz4x+OpWZZXJGIiEjBLijc7N69m6ZNmwLwww8/cO211/LKK68wadIkfv3112ItUMqOh69sQP0QPxJSMnnxl81WlyMiIlKgCwo3Xl5epKWlATB//nyuvvpqAIKCgrS8gRvz9nTw+o0tsdvgx/UHWLAl7vwHiYiIlLILCjddunRh1KhRvPTSS6xevZo+ffoAsH37dmrVqlWsBUrZ0qZ2Fe7qEgnAUz9uJDE92+KKRERE8rugcDNx4kQ8PDz4/vvveffdd6lZsyYAv/76K9dcc02xFihlz/9d3YjI4ErEJWXy8iw1T4mISNmioeByQf7cc5SB763AMODTO9tzecNqVpckIiJurCh/vy9oEj+A3NxcZsyYwZYtWwBo1qwZ/fr100zBFUS7iCCGdoxg6h97GPPD38x99DIqe3taXZaIiMiFNUtFR0fTpEkThgwZwvTp05k+fTq33XYbzZo1Y+fOncVdo5RRT1zTiNpBvhxMzGDcr1utLkdERAS4wHDz0EMPUa9ePWJiYli3bh3r1q1j3759REZG8tBDDxV3jVJG+Xp58NoNLQH4ctU+/ohOsLgiERGRCww3ixcv5vXXXycoKChvW9WqVXn11VdZvHhxsRUnZV/HelW57dLaADzxw9+kZuZYXJGIiFR0FxRunE4nycnJZ2xPSUnBy8vroouS8mV0rybUDPRh/7F0Xp+j5ikREbHWBYWba6+9lrvvvptVq1ZhGAaGYbBy5Uruvfde+vXrV9w1Shnn5/Tg1RtaAPDpir2s2nXE4opERKQiu6Bw8/bbb1OvXj06duyIt7c33t7edOrUifr16zNhwoRiLlHKg64NqnFzu3DAbJ5Kz8q1uCIREamoLmqem+jo6Lyh4E2aNKF+/frFVlhJ0Tw3JScpI5ueby7hUGIGd3WJ5Nlrm1pdkoiIuImi/P0udLgpymrfb7zxRqH3LW0KNyVr4bZ47vjkT2w2+P7ejrStE3T+g0RERM6jRCbxW79+faH2s9lshT2luKHujUK4oU0tfli3n8e//5vZD3XF21MTO4qISOkpdLhZuHBhSdYhbuS5a5uydMdhdh1O5c352xnTq4nVJYmISAVyQR2KRc4lwNeTl68zR099sGQXG2KOW1uQiIhUKAo3UiKuahpK/1Y1cBnw+Hd/kZmj0VMiIlI6FG6kxDzftxnBfl7siE/hnQXRVpcjIiIVhMKNlJgqlbx4qX9zAN5dvJN/DiRaXJGIiFQECjdSonq1qE6fFtXJdRk89t1fZGSreUpEREqWwo2UuBf6NyOokhdbY5MZO3OT1eWIiIibU7iREhfs5+Ttm1tjt8E3a2L4evU+q0sSERE3pnAjpaJLg2D+7+pGADz30yY27lf/GxERKRkKN1Jq7ru8Hj2ahJCV4+LeaWs5lppldUkiIuKGFG6k1NjtNsYPbEWdqr4cOJ7Ow99sINd1weu2ioiIFEjhRkpVgI8nU25ri7ennSXbD/PWgh1WlyQiIm5G4UZKXZPq/oy73lye4e0FO/h9a5zFFYmIiDtRuBFLXNe6FrdfWgeAR77ewL4jaRZXJCIi7kLhRizz7LVNaV07kKSMHO6dtlYT/ImISLFQuBHLeHnYmXxrG6pW8mLzoSSe/vEfDEMdjEVE5OIo3Iilqgf48M4t5gR/P6zbz5ea4E9ERC6Swo1YrlP9YB7v2RiAF37azIaY49YWJCIi5Zrl4WbSpElERETg7e1Nhw4dWL169Tn3P378OCNHjqR69eo4nU4aNmzI7NmzS6laKSn3Xl6Xns1Cycp1cf+0tRzVBH8iInKBLA0333zzDaNGjWLs2LGsW7eOqKgoevbsSXx8fIH7Z2VlcdVVV7Fnzx6+//57tm3bxgcffEDNmjVLuXIpbjabjf/eFEVkcCUOJmbw0FfrNcGfiIhcEJthYQ/ODh060K5dOyZOnAiAy+UiPDycBx98kNGjR5+x/5QpU/jvf//L1q1b8fT0vKDXTEpKIiAggMTERPz9/S+qfil+22KTGTBpOenZuYzsXi+vuUpERCq2ovz9tuzKTVZWFmvXrqVHjx6nirHb6dGjBytWrCjwmJ9++omOHTsycuRIQkNDad68Oa+88gq5uRpC7C4ahVXm1RvMCf4mLdzJvM2a4E9ERIrGsnCTkJBAbm4uoaGh+baHhoYSGxtb4DG7du3i+++/Jzc3l9mzZ/Pss88yfvx4/vOf/5z1dTIzM0lKSsp3k7Ktf6uaDOsUAcCobzawJyHV2oJERKRcsbxDcVG4XC5CQkJ4//33adu2LYMGDeLpp59mypQpZz1m3LhxBAQE5N3Cw8NLsWK5UE/1bkLbOlVIzjQn+EvP0tU5EREpHMvCTXBwMA6Hg7i4/M0OcXFxhIWFFXhM9erVadiwIQ6HI29bkyZNiI2NJSur4NE1Y8aMITExMe8WExNTfG9CSszJCf6C/ZxsjU3mqR83aoI/EREpFMvCjZeXF23btmXBggV521wuFwsWLKBjx44FHtO5c2eio6NxuVx527Zv30716tXx8vIq8Bin04m/v3++m5QPof7eTBzcGofdxo/rDzBt5V6rSxIRkXLA0mapUaNG8cEHH/Dpp5+yZcsW7rvvPlJTU7njjjsAGDJkCGPGjMnb/7777uPo0aM8/PDDbN++nVmzZvHKK68wcuRIq96ClLBL61Zl9DXmiKkXf9nMun3HLK5IRETKOg8rX3zQoEEcPnyY5557jtjYWFq1asWcOXPyOhnv27cPu/1U/goPD2fu3Lk8+uijtGzZkpo1a/Lwww/z5JNPWvUWpBQM7xrJ+phjzN4Yy/3T1vHLQ10I9nNaXZaIiJRRls5zYwXNc1M+pWTm0H/iMnYeTqVj3ap8fld7PBzlqj+8iIhchHIxz41IUfg5PXjv9rb4ejlYsesI//ttu9UliYhIGaVwI+VG/ZDKvH5jSwCmLN7JnH8Kng9JREQqNoUbKVeubVmDu7pEAvDYd3+x63CKxRWJiEhZo3Aj5c7oXo1pHxFEyokJ/tKycqwuSUREyhCFGyl3PB12Jg5uTbXKTrbHpTD6B03wJyIipyjcSLkU4u/N5Fvb4GG38dNfB5n6xx6rSxIRkTJC4UbKrXYRQYzp3QSAl2dtYc2eoxZXJCIiZYHCjZRrd3aO4NqW1clxGYz4bA074pKtLklERCymcCPlms1m47UbWhJVK4Bjadnc+uEq9h5JtbosERGxkMKNlHuVnB5MvaM9jUIrE5+cya0fruJQYrrVZYmIiEUUbsQtVKnkxefD2xMZXIn9x9K59cNVJKRkWl2WiIhYQOFG3EZIZW+mDe9AjQBvdh1O5faPVpOYlm11WSIiUsoUbsSt1Az04YsRlxLs52TLoSSGTV1NaqYm+RMRqUgUbsTtRAZXYtrw9gT4eLJ+33FGfLaGjOxcq8sSEZFSonAjbqlxmD+f3tmeSl4O/th5hAe+XEd2rsvqskREpBQo3IjbahUeyEfD2uH0sDN/SzyPfrOBXJeWaRARcXcKN+LWLq1blSm3t8XTYeOXvw/x1HStQyUi4u4UbsTtdW8Uwls3t8Zug2/WxPDSL1sUcERE3JjCjVQIvVtU5/UbowD4ePlu3py/w+KKRESkpCjcSIVxY9tavNi/GQBvL9jB+0t2WlyRiIiUBIUbqVCGdIzgiWsaAfDK7K18sWqvxRWJiEhxU7iRCuf+bvW5v1s9AJ6Z8Q8/rt9vcUUiIlKcFG6kQnq8ZyOGdqyDYcBj3/3N3E2xVpckIiLFROFGKiSbzcbYvs24sW0tcl0GD365nqU7DltdloiIFAOFG6mw7HYbr17fgt4twsjKdTHiszX8ueeo1WWJiMhFUriRCs3DYWfCoNZ0a1SNjGwXd37yJxv3J1pdloiIXASFG6nwvDzsTLmtLR0ig0jOzGHIx6vYHpdsdVkiInKBFG5EAG9PBx8OvYSoWgEcS8vmtg9XsfdIqtVliYjIBVC4ETmhsrcnn97ZnsZhlYlPzmTwB6s4lJhudVkiIlJECjcipwn09eKzu9oTGVyJA8fTufXDVSSkZFpdloiIFIHCjci/hFT2ZtrwDtQM9GHX4VRu/2g1iWnZVpclIiKFpHAjUoCagT5MG96BYD8nWw4lMWzqalIyc6wuS0RECkHhRuQsIoMrMW14ewJ9PVm/7zi3f7RKV3BERMoBhRuRc2gc5s9nd7YnwMcMOIPeX0F8cobVZYmIyDko3IicR8tagXx7T0dCKjvZGpvMwCkriDmaZnVZIiJyFgo3IoXQKKwy393bkfAgH/YcSeOmKSuIjtdEfyIiZVGZCDeTJk0iIiICb29vOnTowOrVqwt13Ndff43NZmPAgAElW6AIUKdqJb67pxMNQvyITcpg4HsrtVSDiEgZZHm4+eabbxg1ahRjx45l3bp1REVF0bNnT+Lj48953J49e3jsscfo2rVrKVUqAmEB3nx7T0da1grgaGoWt3ywklW7jlhdloiInMbycPPGG28wYsQI7rjjDpo2bcqUKVPw9fXl448/Pusxubm53HrrrbzwwgvUrVu3FKsVgSqVvPhieAcurRtESmYOQz5ezcKt5w7jIiJSeiwNN1lZWaxdu5YePXrkbbPb7fTo0YMVK1ac9bgXX3yRkJAQ7rrrrvO+RmZmJklJSfluIhersrcnU+9oT48mIWTmuBjx2Rp++uug1WWJiAgWh5uEhARyc3MJDQ3Ntz00NJTY2NgCj1m2bBkfffQRH3zwQaFeY9y4cQQEBOTdwsPDL7puETAX23z3trb0b1WDHJfBw1+v58tV+6wuS0SkwrO8WaookpOTuf322/nggw8IDg4u1DFjxowhMTEx7xYTE1PCVUpF4umw8+bAVtx2aW0MA576cSPvLtppdVkiIhWah5UvHhwcjMPhIC4uLt/2uLg4wsLCzth/586d7Nmzh759++Ztc7lcAHh4eLBt2zbq1auX7xin04nT6SyB6kVMdruNl/o3x9/bk8mLdvLanK0kZWTzRM9G2Gw2q8sTEalwLL1y4+XlRdu2bVmwYEHeNpfLxYIFC+jYseMZ+zdu3JiNGzeyYcOGvFu/fv3o3r07GzZsUJOTWMZms/HENY0Z3asxAO8u2skzM/7B5TIsrkxEpOKx9MoNwKhRoxg6dCiXXHIJ7du3Z8KECaSmpnLHHXcAMGTIEGrWrMm4cePw9vamefPm+Y4PDAwEOGO7iBXuvbwe/t6ePD1jI1+s2kdKZg7/uykKT0e5agEWESnXLA83gwYN4vDhwzz33HPExsbSqlUr5syZk9fJeN++fdjt+sMg5cfgDrWp7O3Bo99sYOaGg6Rk5DDp1jZ4ezqsLk1EpEKwGYZRoa6bJyUlERAQQGJiIv7+/laXI25s4dZ47p22lswcFx0ig/hw6CVU9va0uiwRkXKpKH+/dUlEpIR0bxzCZ3e2x8/pwardR7n1w1UcTc2yuiwREbencCNSgjrUrcpXIy4lqJIXf+9PZOB7K4hNzLC6LBERt6ZwI1LCWtQK4Nt7OhLm7010fAo3TvmDvUdSrS5LRMRtKdyIlIL6IX58d29HIqr6sv9YOjdOWcHWWC0FIiJSEhRuREpJeJAv397bkcZhlTmcnMmg91aybt8xq8sSEXE7CjcipSiksjff3N2RNrUDSUzP5rYPV7E8OsHqskRE3IrCjUgpC/D15PO7OtClfjBpWbnc8cmfzN1U8EKxIiJSdAo3Ihao5PTgo2GX0LNZKFm5Lu6btpb3Fu+kgk07JSJSIhRuRCzi9HAwaXAbBl0SjsuAcb9u5b5p60jOyLa6NBGRck3hRsRCHg47r97QgpcGNMfTYWPOplj6T1zO9rhkq0sTESm3FG5ELGaz2bj90jp8e09Hqgd4syshlf4Tl/PTXwetLk1EpFxSuBEpI1rXrsIvD3ahc/2qpGfn8tBX63n+p01k5bisLk1EpFxRuBEpQ6r6Ofnszg7c360eAFP/2MMtH6wkLklLNoiIFJbCjUgZ47DbeOKaxrx/e1sqOz1Yu/cYfd5exspdR6wuTUSkXFC4ESmjrm4Wxs8PdqFxWGUSUjK59cNVvL9Ew8VFRM5H4UakDIsIrsSP93fmutY1yXUZvDJ7K/d/oeHiIiLnonAjUsb5eDl4Y2AUL/VvhqfDxq//xNJ/koaLi4icjcKNSDlgs9m4vWME35wcLn44lQGTlvOzhouLiJxB4UakHGlzYrh4p3pVScvK5cGv1vPCz5vIztVwcRGRkxRuRMoZc7h4e+47MVz8k+V7uOV9DRcXETlJ4UakHPJw2HnytOHiazRcXEQkj8KNSDl2dbMwfvrXcPEPluzScHERqdAUbkTKucjgSky/v1PecPGXZ29h5JfrSMnMsbo0ERFLKNyIuAFfLw/eGBjFiyeGi8/eGEv/icuIjtdwcRGpeBRuRNyEzWZjyInh4mH+3uw8nEq/icv55W8NFxeRikXhRsTNtKldhV8eOjVc/IEv1zN25j+kqplKRCoIhRsRNxT8r+Hin67Yy9VvLmHh1niLKxMRKXkKNyJu6uRw8al3tKNmoA8Hjqdzx9Q/efCr9RxOzrS6PBGREqNwI+LmujUKYd6oyxjRNRK7DX7+6yBXjl/E16v34XJpyLiIuB+FG5EKwNfLg6f7NOWnB7rQvKY/SRk5jJ6+kZvfX0l0fIrV5YmIFCuFG5EKpHnNAGbc35ln+jTBx9PB6j1H6f3WUibM305mTq7V5YmIFAuFG5EKxsNhZ3jXuswbdRndG1UjK9fFhPk76P3WUlbvPmp1eSIiF03hRqSCqlXFl4+HtWPi4NYE+znZeTiVge+tYMz0v0lMy7a6PBGRC6ZwI1KB2Ww2rm1ZgwWjLueW9uEAfLU6hivfWMzPfx3UGlUiUi4p3IgIAb6ejLu+Jd/e05F61SqRkJLJg1+t586pf7L/WJrV5YmIFInCjYjkaR8ZxOyHu/JIjwZ4Oews3HaYq95YwodLd5GT67K6PBGRQikT4WbSpElERETg7e1Nhw4dWL169Vn3/eCDD+jatStVqlShSpUq9OjR45z7i0jROD0cPNKjIbMf7kr7iCDSs3P5z6wtXDf5D/45kGh1eSIi52V5uPnmm28YNWoUY8eOZd26dURFRdGzZ0/i4wueJn7RokXccsstLFy4kBUrVhAeHs7VV1/NgQMHSrlyEfdWP8SPr+++lFevb4G/twcbDyTSf9JyXp61mbQsrVMlImWXzbC4x2CHDh1o164dEydOBMDlchEeHs6DDz7I6NGjz3t8bm4uVapUYeLEiQwZMuS8+yclJREQEEBiYiL+/v4XXb9IRRCfnMGLP2/ml78PAVAz0If/XNec7o1CLK5MRCqKovz9tvTKTVZWFmvXrqVHjx552+x2Oz169GDFihWFOkdaWhrZ2dkEBQUV+HxmZiZJSUn5biJSNCGVvZk4uA2fDDttnapPtE6ViJRNloabhIQEcnNzCQ0Nzbc9NDSU2NjYQp3jySefpEaNGvkC0unGjRtHQEBA3i08PPyi6xapqLo3DuG3Ry9jeJf861S9v2QnSRmaG0dEygYPqwu4GK+++ipff/01ixYtwtvbu8B9xowZw6hRo/IeJyUlFSrg5Obmkp2tX9YXwtPTE4fDYXUZUkIqOT145tqm9G9VkzE//s0/B5J4ZfZW3l4QzaB24dzROYJaVXytLlNEKjBLw01wcDAOh4O4uLh82+Pi4ggLCzvnsf/73/949dVXmT9/Pi1btjzrfk6nE6fTWeiaDMMgNjaW48ePF/oYOVNgYCBhYWHYbDarS5ES0qKWuU7V9HUH+GDpLnbEp/DRst1M/WMP1zQPY0TXurQKD7S6TBGpgCwNN15eXrRt25YFCxYwYMAAwOxQvGDBAh544IGzHvf666/z8ssvM3fuXC655JJirelksAkJCcHX11d/nIvIMAzS0tLyRrtVr17d4oqkJHk47AxsF86NbWuxeMdhPlq6m2XRCcz6+xCz/j5Eu4gqDO9alx5NQnHY9bMkIqXD8mapUaNGMXToUC655BLat2/PhAkTSE1N5Y477gBgyJAh1KxZk3HjxgHw2muv8dxzz/Hll18SERGR1zfHz88PPz+/i6olNzc3L9hUrVr14t5YBebj4wNAfHw8ISEhaqKqAOx2G90bhdC9UQibDybx4bJd/PzXQf7cc4w/96wloqovd3aJ5Ma2tfD1svzXjoi4Oct/ywwaNIjDhw/z3HPPERsbS6tWrZgzZ05eJ+N9+/Zht5/q9/zuu++SlZXFjTfemO88Y8eO5fnnn7+oWk72sfH1VX+Bi3Xye5idna1wU8E0reHPGwNb8eQ1jfn0jz18sWofe46k8dzMTYz/bTu3dqjN0E4RhPoX3E9ORORiWT7PTWk71zj5jIwMdu/eTWRk5Fk7KEvh6HspJ6Vl5fD92v18tGw3e4+Y61R5Omz0jarB8C51aVpD802JyPmVm3lupGyKiIhgwoQJVpchbsLXy4MhHSP4/f+6MeW2trSLqEJ2rsH0dQfo/fZSbvtwFQu3xWsFchEpNpY3S0nx6NatG61atSqWUPLnn39SqVKliy9K5DQOu41rmodxTfMwNsQc54Olu/h14yGWRSewLDqBBiF+DO8aSf9WNfH2VFOmiFw4XbmpIAzDICencOsBVatWTf2OpES1Cg9k0uA2LH68O3d1icTP6cGO+BSe/GEjXV77nbfm7+BIimY+FpELo3DjBoYNG8bixYt56623sNls2Gw2pk6dis1m49dff6Vt27Y4nU6WLVvGzp076d+/P6Ghofj5+dGuXTvmz5+f73z/bpay2Wx8+OGHXHfddfj6+tKgQQN++umnUn6X4o7Cg3x59tqm/DHmCp7q3ZjqAd4kpGTx5vztdHr1d8ZM30h0fIrVZYpIOaNwcx6GYZCWlWPJrbB9EN566y06duzIiBEjOHToEIcOHcqbhXn06NG8+uqrbNmyhZYtW5KSkkLv3r1ZsGAB69ev55prrqFv377s27fvnK/xwgsvMHDgQP7++2969+7NrbfeytGjRy/6+ysC4O/tyd2X1WPJE9156+ZWtKgZQGaOi69W76PHG4u58d0/+HzFHo6mZlldqoiUA+pzcx7p2bk0fW6uJa+9+cWehZoTJCAgAC8vL3x9ffNmdt66dSsAL774IldddVXevkFBQURFReU9fumll/jxxx/56aefzjlx4rBhw7jlllsAeOWVV3j77bdZvXo111xzzQW9N5GCeDrs9G9Vk35RNVi9+ygfLN3Ngq1xrNl7jDV7j/HCz5vp2iCYAa1rclXTUM2ZIyIF0m8GN/fvGZxTUlJ4/vnnmTVrFocOHSInJ4f09PTzXrk5fYmLSpUq4e/vnzcLsUhxs9lsdKhblQ51qxKbmMEvfx9kxoYD/HMgiYXbDrNw22F8PB1c3SyU/q1q0LVBNTwduhAtIiaFm/Pw8XSw+cWelr32xfr3qKfHHnuMefPm8b///Y/69evj4+PDjTfeSFbWuS/3e3p65ntss9lwuVwXXZ/I+YQFeDO8a12Gd61LdHwKP204wMy/DrL3SBozNxxk5oaDVPH1pE/L6gxoVZM2tatg11IPIhWaws152Gy2cnHp28vLi9zc3PPut3z5coYNG8Z1110HmFdy9uzZU8LViRSP+iF+jLq6EY9e1ZANMceZueEgv/x9kISULKat3Me0lfuoGehD/1Y16N+qJo3CKltdsohYoOz/1ZZCiYiIYNWqVezZswc/P7+zXlVp0KAB06dPp2/fvthsNp599lldgZFyx2az0bp2FVrXrsIzfZrwx84jzNxwkLmbYjlwPJ3Ji3YyedFOGodVNvvwtKpBzUAfq8sWkVKiRmo38dhjj+FwOGjatCnVqlU7ax+aN954gypVqtCpUyf69u1Lz549adOmTSlXK1J8PBx2LmtYjfEDo1jzTA8mDW7DVU1D8XTY2BqbzGtzttL51d8ZOGUFX6zayzGNuBJxe1pb6jRaD6n46HspVktMy2b2P4eYueEAq3Yf5eRvOk+HjcsbVqNfq5pc1SQUHy/NhixSHhRlbSk1S4mIWwrw9eSW9rW5pX1tDiWm8/NfZufjTQeTmL8lnvlb4vH1ctC9cQhta1ehVe1Amlb319IPIm5A4UZE3F71AB/uvqwed19Wj+j45LxRVvuOpjHr70PM+vsQYF7VaVLdn1bhgbQKDyQqPJDIqpU0+kqknFGz1GnUlFJ89L2Uss4wDNbHHOeP6AQ2xBxnQ8xxElLO7I/j7+1BVHggrcMDaVU7kKhagVT1c1pQsUjFpmYpEZHzsNlstKldhTa1qwBm2Nl/LD0v6PwVc5yNBxJJyshh6Y4Elu5IyDs2PMiHVuFVTlzhCaBZjQA1Z4mUIQo3IiKYYSc8yJfwIF/6RtUAIDvXxbbYZNbHHGfDvuNsiDnGzsOpxBxNJ+ao2Y8HwMN+qjkr6kSTVt1gNWeJWEXhRkTkLDwddprXDKB5zQBuv7QOAEkZ2fwdk8iGmGP5mrM2Hkhk44FEPl+5F4DK3h60Cg+kcVhlIoIrEVm1EpHVKhFa2VuhR6SEKdyIiBSBv7cnXRoE06VBMHCqOeuv/Sev7pjNWckFNGcBeHvaiahaybwFVyIy2JeIqpWIDK5EtcpObDYFH5GLpXAjInIRTm/OurZl/uasDTHHiY5PYc+RVPYkpBJzLJ2MbBdbY5PZGpt8xrkqeTmocyLoRJwWeiKCK1G1kpeCj0ghKdyIiBSz05uzTped62L/sXT2JKSyOyGVPUdOfT1wLJ3UrFw2H0pi86GkM85Z2elBxImgE1nVN+9+7SBfBR+Rf1G4EcBcm+qRRx7hkUcesboUEbfl6bATGWxejen+r+cyc3KJOWoGn9NDz56ENA4mppOcmZPXr+fffDwd1KriQ3iQr/m1ii/hQT7UquJLeBVfAnw9S+cNipQRCjciImWA08NB/RA/6of4nfFcRnYu+46mmYHn9PCTkEZccgbp2bnsiE9hR3xKgeeu7O1BeBXfvAAUXuVE8DkRhio59adA3Iv+RYuIlHHeng4ahlamYWjlM57LzMnl4PEMYo6mEXMsjf3H0k/cT+fAsTQSUrJIzsg5a3MXQFAlLzPw5Lvy40uNAG8qOT3w9XLg4+XAy2FX85eUCwo3buD999/n+eefZ//+/djtpxZ679+/P1WrVuXpp59m1KhRrFy5ktTUVJo0acK4cePo0aOHhVWLSHFwejjymroKkpaVw/5j6ew/lnZifp4TAehYGjFH00jKyOFoahZHU7P4a/+ZTV6nc9ht+HiaQcfXy4GPp/nV18sjb5u5/VQgOrmfz4n9Tt/u7+1JUCUvTYAoxU7h5nwMA7LTrHltT18oxP+SbrrpJh588EEWLlzIlVdeCcDRo0eZM2cOs2fPJiUlhd69e/Pyyy/jdDr57LPP6Nu3L9u2baN27dol/S5ExEK+Xh5nveoDkJienRd89p925Wf/sXRikzJIy8ohO9dcpSfXZZCSmUNKZk6x1ljZ6UFVPy+C/ZxU9fOiqp+TYD8nwX5eVK3kzHsu2M+LAB9PXT2S81K4OZ/sNHilhjWv/dRB8Cr4f2Onq1KlCr169eLLL7/MCzfff/89wcHBdO/eHbvdTlRUVN7+L730Ej/++CM//fQTDzzwQImVLyJlX4CPJwE+5hISZ5Od6yItK5f0rFzSs3NJy8ohPSuXtBO39OycvOfztmWZ29KyT27Pf0xGdi6J6dnkuAySM3NIzsxhz5Hz/0fSw24zA9CJ0FPttEBUtZIXwZWdBJ94rpKXBx4OGx4OG552uyZPrEAUbtzErbfeyogRI5g8eTJOp5MvvviCm2++GbvdTkpKCs8//zyzZs3i0KFD5OTkkJ6ezr59+6wuW0TKAU+HnQAfOwE+xTvqyjAMktJzSEjNJCE5kyOpWRxJySQhJYuElEyOpGRxJPXU4+SMHHJcBnFJmcQlZRb59Rx2Gx52G54Ouxl4HHY87TY8Tjz2OvHVw24/df/EPqcf42G34eVhx9/Hkyq+ngT6ehHo40mVSl5U8fUkwMeLQF9PPB328xclJULh5nw8fc0rKFa9diH17dsXwzCYNWsW7dq1Y+nSpbz55psAPPbYY8ybN4///e9/1K9fHx8fH2688Uayss5cAVlEpLTYbDYCfD0J8PWkXrUzR4n9W2ZOLkdTs0hIziIh9UT4ScnMC0IJqVknQpL5OMdl5Ds+12WQ6zLIzHGV1FvKp7LTgwBfT6r4mmEn0NfrX2HotPu+XlTx9aKyt4euMBUDhZvzsdkK1TRkNW9vb66//nq++OILoqOjadSoEW3atAFg+fLlDBs2jOuuuw6AlJQU9uzZY2G1IiJF5/RwUD3Ah+oBPufd1zAMclwGObkG2S4X2TkuclwG2bkuc1uui+xcgxyX+TVv+9n2dRnknHiclesiK8dFYno2ienZHEvL4lhaNoknviZlZGMY5DW37T+WXuj3aLeZTYV+3h4n3od5O/19GSe3Y+Q9d3IbJ7YZBe1/4j6YV7G8PRx4e9rx9nTg9HTg7WHP++rteeo5b08HzhPbnB6ntnl72nGedo7Tz+fr5aCqn7PQ77u4Kdy4kVtvvZVrr72WTZs2cdttt+Vtb9CgAdOnT6dv377YbDaeffZZXK7S+Z+LiIgVbDYbng4bng7woXRHY+W6DJJODz3pWRxLNR/nD0Pm/eNp2RxPyyI1KxeXAcfSsjmWll0KlZbca0TVCmDmA11K7Pzno3DjRq644gqCgoLYtm0bgwcPztv+xhtvcOedd9KpUyeCg4N58sknSUoqeL4LERG5OA67zex/U8mrSMdl5uSSmJbN8fRskjNysNnAhhnUTjZUmdts+QbSnr7t5Pa8x5w+6PbUtlyXQUa2i4wcs3N3RraLzBzzq/k4l8wcV76vJ/fLty3HRea/9s/IduHjZe3wfpthGMb5d3MfSUlJBAQEkJiYiL+/f77nMjIy2L17N5GRkXh7e1tUoXvQ91JERIrTuf5+/5u6couIiIhbUbgRERERt1Imws2kSZOIiIjA29ubDh06sHr16nPu/91339G4cWO8vb1p0aIFs2fPLqVKRUREpKyzPNx88803jBo1irFjx7Ju3TqioqLo2bMn8fHxBe7/xx9/cMstt3DXXXexfv16BgwYwIABA/jnn39KuXIREREpiyzvUNyhQwfatWvHxIkTAXC5XISHh/Pggw8yevToM/YfNGgQqamp/PLLL3nbLr30Ulq1asWUKVPO+3rqUFw69L0UEZHiVG46FGdlZbF27dp8q1Pb7XZ69OjBihUrCjxmxYoVZ6xm3bNnz7Pun5mZSVJSUr7b+VSwAWQlQt9DERGxiqXhJiEhgdzcXEJDQ/NtDw0NJTY2tsBjYmNji7T/uHHjCAgIyLuFh4eftR5PT3PdlLQ0i1YBdyMnv4cnv6ciIiKlxe0n8RszZgyjRo3Ke5yUlHTWgONwOAgMDMzr7+Pr64vNpjU+isIwDNLS0oiPjycwMBCHw9qJnEREpOKxNNwEBwfjcDiIi4vLtz0uLo6wsLACjwkLCyvS/k6nE6ez8OtbnDzP2To0S+EEBgae9TMREREpSZaGGy8vL9q2bcuCBQsYMGAAYHYoXrBgAQ888ECBx3Ts2JEFCxbwyCOP5G2bN28eHTt2LJaabDYb1atXJyQkhOzs0ljbw/14enrqio2IiFjG8mapUaNGMXToUC655BLat2/PhAkTSE1N5Y477gBgyJAh1KxZk3HjxgHw8MMPc/nllzN+/Hj69OnD119/zZo1a3j//feLtS6Hw6E/0CIiIuWQ5eFm0KBBHD58mOeee47Y2FhatWrFnDlz8joN79u3D7v9VL/nTp068eWXX/LMM8/w1FNP0aBBA2bMmEHz5s2tegsiIiJShlg+z01pK8o4eRERESkbys08NyIiIiLFzfJmqdJ28kJVYSbzExERkbLh5N/twjQ4Vbhwk5ycDHDOyfxERESkbEpOTiYgIOCc+1S4Pjcul4uDBw9SuXLlYp+g7+QEgTExMW7fn0fv1X1VpPer9+q+KtL7rSjv1TAMkpOTqVGjRr6BRgWpcFdu7HY7tWrVKtHX8Pf3d+t/YKfTe3VfFen96r26r4r0fivCez3fFZuT1KFYRERE3IrCjYiIiLgVhZti5HQ6GTt2bJHWsiqv9F7dV0V6v3qv7qsivd+K9F4Lq8J1KBYRERH3pis3IiIi4lYUbkRERMStKNyIiIiIW1G4EREREbeicFNEkyZNIiIiAm9vbzp06MDq1avPuf93331H48aN8fb2pkWLFsyePbuUKr1w48aNo127dlSuXJmQkBAGDBjAtm3bznnM1KlTsdls+W7e3t6lVPHFef7558+ovXHjxuc8pjx+rgARERFnvFebzcbIkSML3L88fa5Lliyhb9++1KhRA5vNxowZM/I9bxgGzz33HNWrV8fHx4cePXqwY8eO8563qD/zpeVc7zc7O5snn3ySFi1aUKlSJWrUqMGQIUM4ePDgOc95IT8LpeF8n+2wYcPOqPuaa64573nL4md7vvda0M+vzWbjv//971nPWVY/15KkcFME33zzDaNGjWLs2LGsW7eOqKgoevbsSXx8fIH7//HHH9xyyy3cddddrF+/ngEDBjBgwAD++eefUq68aBYvXszIkSNZuXIl8+bNIzs7m6uvvprU1NRzHufv78+hQ4fybnv37i2lii9es2bN8tW+bNmys+5bXj9XgD///DPf+5w3bx4AN91001mPKS+fa2pqKlFRUUyaNKnA519//XXefvttpkyZwqpVq6hUqRI9e/YkIyPjrOcs6s98aTrX+01LS2PdunU8++yzrFu3junTp7Nt2zb69et33vMW5WehtJzvswW45ppr8tX91VdfnfOcZfWzPd97Pf09Hjp0iI8//hibzcYNN9xwzvOWxc+1RBlSaO3btzdGjhyZ9zg3N9eoUaOGMW7cuAL3HzhwoNGnT5982zp06GDcc889JVpncYuPjzcAY/HixWfd55NPPjECAgJKr6hiNHbsWCMqKqrQ+7vL52oYhvHwww8b9erVM1wuV4HPl9fPFTB+/PHHvMcul8sICwsz/vvf/+ZtO378uOF0Oo2vvvrqrOcp6s+8Vf79fguyevVqAzD27t171n2K+rNghYLe69ChQ43+/fsX6Tzl4bMtzOfav39/44orrjjnPuXhcy1uunJTSFlZWaxdu5YePXrkbbPb7fTo0YMVK1YUeMyKFSvy7Q/Qs2fPs+5fViUmJgIQFBR0zv1SUlKoU6cO4eHh9O/fn02bNpVGecVix44d1KhRg7p163Lrrbeyb9++s+7rLp9rVlYW06ZN48477zznIrLl+XM9affu3cTGxub73AICAujQocNZP7cL+ZkvyxITE7HZbAQGBp5zv6L8LJQlixYtIiQkhEaNGnHfffdx5MiRs+7rLp9tXFwcs2bN4q677jrvvuX1c71QCjeFlJCQQG5uLqGhofm2h4aGEhsbW+AxsbGxRdq/LHK5XDzyyCN07tyZ5s2bn3W/Ro0a8fHHHzNz5kymTZuGy+WiU6dO7N+/vxSrvTAdOnRg6tSpzJkzh3fffZfdu3fTtWtXkpOTC9zfHT5XgBkzZnD8+HGGDRt21n3K8+d6upOfTVE+twv5mS+rMjIyePLJJ7nlllvOubBiUX8WyoprrrmGzz77jAULFvDaa6+xePFievXqRW5uboH7u8tn++mnn1K5cmWuv/76c+5XXj/Xi1HhVgWXohk5ciT//PPPedtnO3bsSMeOHfMed+rUiSZNmvDee+/x0ksvlXSZF6VXr15591u2bEmHDh2oU6cO3377baH+R1ReffTRR/Tq1YsaNWqcdZ/y/LmKKTs7m4EDB2IYBu++++459y2vPws333xz3v0WLVrQsmVL6tWrx6JFi7jyyistrKxkffzxx9x6663n7eRfXj/Xi6ErN4UUHByMw+EgLi4u3/a4uDjCwsIKPCYsLKxI+5c1DzzwAL/88gsLFy6kVq1aRTrW09OT1q1bEx0dXULVlZzAwEAaNmx41trL++cKsHfvXubPn8/w4cOLdFx5/VxPfjZF+dwu5Ge+rDkZbPbu3cu8efPOedWmIOf7WSir6tatS3Bw8FnrdofPdunSpWzbtq3IP8NQfj/XolC4KSQvLy/atm3LggUL8ra5XC4WLFiQ73+2p+vYsWO+/QHmzZt31v3LCsMweOCBB/jxxx/5/fffiYyMLPI5cnNz2bhxI9WrVy+BCktWSkoKO3fuPGvt5fVzPd0nn3xCSEgIffr0KdJx5fVzjYyMJCwsLN/nlpSUxKpVq876uV3Iz3xZcjLY7Nixg/nz51O1atUin+N8Pwtl1f79+zly5MhZ6y7vny2YV17btm1LVFRUkY8tr59rkVjdo7k8+frrrw2n02lMnTrV2Lx5s3H33XcbgYGBRmxsrGEYhnH77bcbo0ePztt/+fLlhoeHh/G///3P2LJlizF27FjD09PT2Lhxo1VvoVDuu+8+IyAgwFi0aJFx6NChvFtaWlrePv9+ry+88IIxd+5cY+fOncbatWuNm2++2fD29jY2bdpkxVsokv/7v/8zFi1aZOzevdtYvny50aNHDyM4ONiIj483DMN9PteTcnNzjdq1axtPPvnkGc+V5881OTnZWL9+vbF+/XoDMN544w1j/fr1eaODXn31VSMwMNCYOXOm8ffffxv9+/c3IiMjjfT09LxzXHHFFcY777yT9/h8P/NWOtf7zcrKMvr162fUqlXL2LBhQ76f48zMzLxz/Pv9nu9nwSrneq/JycnGY489ZqxYscLYvXu3MX/+fKNNmzZGgwYNjIyMjLxzlJfP9nz/jg3DMBITEw1fX1/j3XffLfAc5eVzLUkKN0X0zjvvGLVr1za8vLyM9u3bGytXrsx77vLLLzeGDh2ab/9vv/3WaNiwoeHl5WU0a9bMmDVrVilXXHRAgbdPPvkkb59/v9dHHnkk7/sSGhpq9O7d21i3bl3pF38BBg0aZFSvXt3w8vIyatasaQwaNMiIjo7Oe95dPteT5s6dawDGtm3bzniuPH+uCxcuLPDf7cn343K5jGeffdYIDQ01nE6nceWVV57xPahTp44xduzYfNvO9TNvpXO93927d5/153jhwoV55/j3+z3fz4JVzvVe09LSjKuvvtqoVq2a4enpadSpU8cYMWLEGSGlvHy25/t3bBiG8d577xk+Pj7G8ePHCzxHeflcS5LNMAyjRC8NiYiIiJQi9bkRERERt6JwIyIiIm5F4UZERETcisKNiIiIuBWFGxEREXErCjciIiLiVhRuRERExK0o3IhIhbdo0SJsNhvHjx+3uhQRKQYKNyIiIuJWFG5ERETErSjciIjlXC4X48aNIzIyEh8fH6Kiovj++++BU01Gs2bNomXLlnh7e3PppZfyzz//5DvHDz/8QLNmzXA6nURERDB+/Ph8z2dmZvLkk08SHh6O0+mkfv36fPTRR/n2Wbt2LZdccgm+vr506tSJbdu2lewbF5ESoXAjIpYbN24cn332GVOmTGHTpk08+uij3HbbbSxevDhvn8cff5zx48fz559/Uq1aNfr27Ut2djZghpKBAwdy8803s3HjRp5//nmeffZZpk6dmnf8kCFD+Oqrr3j77bfZsmUL7733Hn5+fvnqePrppxk/fjxr1qzBw8ODO++8s1Tev4gULy2cKSKWyszMJCgoiPnz59OxY8e87cOHDyctLY27776b7t278/XXXzNo0CAAjh49Sq1atZg6dSoDBw7k1ltv5fDhw/z22295xz/xxBPMmjWLTZs2sX37dho1asS8efPo0aPHGTUsWrSI7t27M3/+fK688koAZs+eTZ8+fUhPT8fb27uEvwsiUpx05UZELBUdHU1aWhpXXXUVfn5+ebfPPvuMnTt35u13evAJCgqiUaNGbNmyBYAtW7bQuXPnfOft3LkzO3bsIDc3lw0bNuBwOLj88svPWUvLli3z7levXh2A+Pj4i36PIlK6PKwuQEQqtpSUFABmzZpFzZo18z3ndDrzBZwL5ePjU6j9PD098+7bbDbA7A8kIuWLrtyIiKWaNm2K0+lk37591K9fP98tPDw8b7+VK1fm3T927Bjbt2+nSZMmADRp0oTly5fnO+/y5ctp2LAhDoeDFi1a4HK58vXhERH3pSs3ImKpypUr89hjj/Hoo4/icrno0qULiYmJLF++HH9/f+rUqQPAiy++SNWqVQkNDeXpp58mODiYAQMGAPB///d/tGvXjpdeeolBgwaxYsUKJk6cyOTJkwGIiIhg6NCh3Hnnnbz99ttERUWxd+9e4uPjGThwoFVvXURKiMKNiFjupZdeolq1aowbN45du3YRGBhImzZteOqpp/KahV599VUefvhhduzYQatWrfj555/x8vICoE2bNnz77bc899xzvPTSS1SvXp0XX3yRYcOG5b3Gu+++y1NPPcX999/PkSNHqF27Nk899ZQVb1dESphGS4lImXZyJNOxY8cIDAy0uhwRKQfU50ZERETcisKNiIiIuBU1S4mIiIhb0ZUbERERcSsKNyIiIuJWFG5ERETErSjciIiIiFtRuBERERG3onAjIiIibkXhRkRERNyKwo2IiIi4FYUbERERcSv/D9GEKTnJkT+SAAAAAElFTkSuQmCC\\n\"","          },","          \"metadata\": {}","        }","      ]","    },","    {","      \"cell_type\": \"markdown\",","      \"metadata\": {","        \"id\": \"Jxi5ux2xt_Xy\"","      },","      \"source\": [","        \"As you can see, our accuracy and loss look great for our training data. However, the same cannot be said for our validation data. This is usually a red flag that our model is overfitting to our training data. In the next section, we are going to make some changes to this model to see if we can get the ovefitting under control.\"","      ]","    },","    {","      \"cell_type\": \"markdown\",","      \"metadata\": {","        \"id\": \"V87QIOEct5sB\"","      },","      \"source\": [","        \"\\n\",","        \"\\n\",","        \"---\\n\",","        \"\\n\",","        \"###Improving our Model\"","      ]","    },","    {","      \"cell_type\": \"markdown\",","      \"metadata\": {","        \"id\": \"5CQHgQuRvgjF\"","      },","      \"source\": [","        \"Below is a very similar model to the one we created earlier. The only difference is the addition of 2 dropout layers. Dropout layers will ignore a random selection of neurons during training which can help with overfitting.\"","      ]","    },","    {","      \"cell_type\": \"code\",","      \"metadata\": {","        \"id\": \"0c1v7IaRgE9-\",","        \"colab\": {","          \"base_uri\": \"https://localhost:8080/\"","        },","        \"outputId\": \"131aed28-d501-4874-a18d-e81cfe06b50d\"","      },","      \"source\": [","        \"model2 = Sequential()\\n\",","        \"\\n\",","        \"model2.add(Conv2D(input_shape=x_train[0,:,:,:].shape, filters=96, kernel_size=(3,3), activation='relu'))\\n\",","        \"model2.add(Conv2D(filters=96, kernel_size=(3,3), strides=2, activation='relu'))\\n\",","        \"\\n\",","        \"# added dropout layer\\n\",","        \"model2.add(Dropout(0.2))\\n\",","        \"model2.add(Conv2D(filters=192, kernel_size=(3,3), activation='relu'))\\n\",","        \"model2.add(Conv2D(filters=192, kernel_size=(3,3), strides=2, activation='relu'))\\n\",","        \"\\n\",","        \"# added dropout layer\\n\",","        \"model2.add(Dropout(0.5))\\n\",","        \"model2.add(Flatten())\\n\",","        \"model2.add(BatchNormalization())\\n\",","        \"model2.add(Dense(256, activation='relu'))\\n\",","        \"model2.add(Dense(num_classes, activation=\\\"softmax\\\"))\\n\",","        \"model2.compile(loss='categorical_crossentropy', optimizer='adam', metrics=['accuracy'])\\n\",","        \"model2.summary()\"","      ],","      \"execution_count\": null,","      \"outputs\": [","        {","          \"output_type\": \"stream\",","          \"name\": \"stdout\",","          \"text\": [","            \"Model: \\\"sequential_1\\\"\\n\",","            \"_________________________________________________________________\\n\",","            \" Layer (type)                Output Shape              Param #   \\n\",","            \"=================================================================\\n\",","            \" conv2d_4 (Conv2D)           (None, 30, 30, 96)        2688      \\n\",","            \"                                                                 \\n\",","            \" conv2d_5 (Conv2D)           (None, 14, 14, 96)        83040     \\n\",","            \"                                                                 \\n\",","            \" dropout (Dropout)           (None, 14, 14, 96)        0         \\n\",","            \"                                                                 \\n\",","            \" conv2d_6 (Conv2D)           (None, 12, 12, 192)       166080    \\n\",","            \"                                                                 \\n\",","            \" conv2d_7 (Conv2D)           (None, 5, 5, 192)         331968    \\n\",","            \"                                                                 \\n\",","            \" dropout_1 (Dropout)         (None, 5, 5, 192)         0         \\n\",","            \"                                                                 \\n\",","            \" flatten_1 (Flatten)         (None, 4800)              0         \\n\",","            \"                                                                 \\n\",","            \" batch_normalization_1 (Batc  (None, 4800)             19200     \\n\",","            \" hNormalization)                                                 \\n\",","            \"                                                                 \\n\",","            \" dense_2 (Dense)             (None, 256)               1229056   \\n\",","            \"                                                                 \\n\",","            \" dense_3 (Dense)             (None, 10)                2570      \\n\",","            \"                                                                 \\n\",","            \"=================================================================\\n\",","            \"Total params: 1,834,602\\n\",","            \"Trainable params: 1,825,002\\n\",","            \"Non-trainable params: 9,600\\n\",","            \"_________________________________________________________________\\n\"","          ]","        }","      ]","    },","    {","      \"cell_type\": \"markdown\",","      \"metadata\": {","        \"id\": \"YEQTRM-7zMYC\"","      },","      \"source\": [","        \"Let's try training this model with our dropout layers to see if it helps with our overfitting issue.\"","      ]","    },","    {","      \"cell_type\": \"code\",","      \"metadata\": {","        \"id\": \"_3bF-VNMzHT1\",","        \"colab\": {","          \"base_uri\": \"https://localhost:8080/\"","        },","        \"outputId\": \"3cfb289d-d87e-4518-a671-98053be87a3a\"","      },","      \"source\": [","        \"history2 = model2.fit(\\n\",","        \"    x_train,\\n\",","        \"    y_train,\\n\",","        \"    epochs=num_epochs,\\n\",","        \"    batch_size=batch,\\n\",","        \"    validation_data=(x_test, y_test))\"","      ],","      \"execution_count\": null,","      \"outputs\": [","        {","          \"output_type\": \"stream\",","          \"name\": \"stdout\",","          \"text\": [","            \"Epoch 1/20\\n\",","            \"1563/1563 [==============================] - 18s 9ms/step - loss: 1.6507 - accuracy: 0.3964 - val_loss: 1.3749 - val_accuracy: 0.4972\\n\",","            \"Epoch 2/20\\n\",","            \"1563/1563 [==============================] - 15s 9ms/step - loss: 1.3376 - accuracy: 0.5172 - val_loss: 1.2916 - val_accuracy: 0.5556\\n\",","            \"Epoch 3/20\\n\",","            \"1563/1563 [==============================] - 14s 9ms/step - loss: 1.1960 - accuracy: 0.5758 - val_loss: 1.1727 - val_accuracy: 0.5760\\n\",","            \"Epoch 4/20\\n\",","            \"1563/1563 [==============================] - 14s 9ms/step - loss: 1.0961 - accuracy: 0.6107 - val_loss: 1.1068 - val_accuracy: 0.6098\\n\",","            \"Epoch 5/20\\n\",","            \"1563/1563 [==============================] - 14s 9ms/step - loss: 1.0184 - accuracy: 0.6401 - val_loss: 0.9095 - val_accuracy: 0.6782\\n\",","            \"Epoch 6/20\\n\",","            \"1563/1563 [==============================] - 14s 9ms/step - loss: 0.9569 - accuracy: 0.6631 - val_loss: 0.8944 - val_accuracy: 0.6864\\n\",","            \"Epoch 7/20\\n\",","            \"1563/1563 [==============================] - 15s 10ms/step - loss: 0.9118 - accuracy: 0.6807 - val_loss: 0.9295 - val_accuracy: 0.6797\\n\",","            \"Epoch 8/20\\n\",","            \"1563/1563 [==============================] - 15s 9ms/step - loss: 0.8703 - accuracy: 0.6925 - val_loss: 0.9148 - val_accuracy: 0.6812\\n\",","            \"Epoch 9/20\\n\",","            \"1563/1563 [==============================] - 14s 9ms/step - loss: 0.8394 - accuracy: 0.7062 - val_loss: 0.8253 - val_accuracy: 0.7205\\n\",","            \"Epoch 10/20\\n\",","            \"1563/1563 [==============================] - 14s 9ms/step - loss: 0.8020 - accuracy: 0.7175 - val_loss: 0.8013 - val_accuracy: 0.7241\\n\",","            \"Epoch 11/20\\n\",","            \"1563/1563 [==============================] - 14s 9ms/step - loss: 0.7892 - accuracy: 0.7210 - val_loss: 0.7861 - val_accuracy: 0.7296\\n\",","            \"Epoch 12/20\\n\",","            \"1563/1563 [==============================] - 14s 9ms/step - loss: 0.7679 - accuracy: 0.7336 - val_loss: 0.8826 - val_accuracy: 0.7051\\n\",","            \"Epoch 13/20\\n\",","            \"1563/1563 [==============================] - 14s 9ms/step - loss: 0.7478 - accuracy: 0.7373 - val_loss: 0.8134 - val_accuracy: 0.7268\\n\",","            \"Epoch 14/20\\n\",","            \"1563/1563 [==============================] - 14s 9ms/step - loss: 0.7286 - accuracy: 0.7459 - val_loss: 0.8176 - val_accuracy: 0.7248\\n\",","            \"Epoch 15/20\\n\",","            \"1563/1563 [==============================] - 14s 9ms/step - loss: 0.7040 - accuracy: 0.7540 - val_loss: 0.8295 - val_accuracy: 0.7209\\n\",","            \"Epoch 16/20\\n\",","            \"1563/1563 [==============================] - 14s 9ms/step - loss: 0.6984 - accuracy: 0.7552 - val_loss: 0.7752 - val_accuracy: 0.7370\\n\",","            \"Epoch 17/20\\n\",","            \"1563/1563 [==============================] - 14s 9ms/step - loss: 0.6915 - accuracy: 0.7560 - val_loss: 0.8556 - val_accuracy: 0.7146\\n\",","            \"Epoch 18/20\\n\",","            \"1563/1563 [==============================] - 14s 9ms/step - loss: 0.6624 - accuracy: 0.7666 - val_loss: 0.7989 - val_accuracy: 0.7379\\n\",","            \"Epoch 19/20\\n\",","            \"1563/1563 [==============================] - 14s 9ms/step - loss: 0.6689 - accuracy: 0.7665 - val_loss: 0.8861 - val_accuracy: 0.7109\\n\",","            \"Epoch 20/20\\n\",","            \"1563/1563 [==============================] - 14s 9ms/step - loss: 0.6562 - accuracy: 0.7714 - val_loss: 0.7474 - val_accuracy: 0.7524\\n\"","          ]","        }","      ]","    },","    {","      \"cell_type\": \"code\",","      \"metadata\": {","        \"id\": \"UTDcTFXEzH2T\",","        \"colab\": {","          \"base_uri\": \"https://localhost:8080/\",","          \"height\": 927","        },","        \"outputId\": \"d257a2ec-b2e3-4117-abb0-df18eca6707d\"","      },","      \"source\": [","        \"#  Ploting the accuracy graph\\n\",","        \"plt.plot(history2.history['accuracy'])\\n\",","        \"plt.plot(history2.history['val_accuracy'])\\n\",","        \"plt.title('model accuracy')\\n\",","        \"plt.ylabel('accuracy')\\n\",","        \"plt.xlabel('epoch')\\n\",","        \"plt.legend(['train', 'val'], loc='best')\\n\",","        \"plt.show()\\n\",","        \"# Ploting the loss graph\\n\",","        \"plt.plot(history2.history['loss'])\\n\",","        \"plt.plot(history2.history['val_loss'])\\n\",","        \"plt.title('model loss')\\n\",","        \"plt.ylabel('loss')\\n\",","        \"plt.xlabel('epoch')\\n\",","        \"plt.legend(['train', 'val'], loc='best')\\n\",","        \"plt.show()\"","      ],","      \"execution_count\": null,","      \"outputs\": [","        {","          \"output_type\": \"display_data\",","          \"data\": {","            \"text/plain\": [","              \"\u003cFigure size 640x480 with 1 Axes\u003e\"","            ],","            \"image/png\": \"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\\n\"","          },","          \"metadata\": {}","        },","        {","          \"output_type\": \"display_data\",","          \"data\": {","            \"text/plain\": [","              \"\u003cFigure size 640x480 with 1 Axes\u003e\"","            ],","            \"image/png\": \"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\\n\"","          },","          \"metadata\": {}","        }","      ]","    },","    {","      \"cell_type\": \"markdown\",","      \"metadata\": {","        \"id\": \"CZolzkLezSYC\"","      },","      \"source\": [","        \"As you can see, the dropout layers were very helpful with curbing the model's overfitting tendencies. The training and validation accuracies were much more in line with each other. We did take a bit of a hit in training accuracy but the accuracy we achieved in our earlier model wasn't very meaningful anyway since it didn't generalize to data outside of the training set.\"","      ]","    }","  ]","}"],"stylingDirectives":null,"csv":null,"csvError":null,"dependabotInfo":{"showConfigurationBanner":null,"configFilePath":null,"networkDependabotPath":"/4019charan/4019charan/network/updates","dismissConfigurationNoticePath":"/settings/dismiss-notice/dependabot_configuration_notice","configurationNoticeDismissed":false,"repoAlertsPath":"/4019charan/4019charan/security/dependabot","repoSecurityAndAnalysisPath":"/4019charan/4019charan/settings/security_analysis","repoOwnerIsOrg":false,"currentUserCanAdminRepo":true},"displayName":"dl_intro.ipynb","displayUrl":"https://notebooks.githubusercontent.com/view/ipynb?browser=chrome\u0026bypass_fastly=true\u0026color_mode=auto\u0026commit=c4cb06b3d9b5c796964f76010d84b84593afa0a2\u0026device=unknown_device\u0026docs_host=https%3A%2F%2Fdocs.github.com\u0026enc_url=68747470733a2f2f7261772e67697468756275736572636f6e74656e742e636f6d2f3430313963686172616e2f3430313963686172616e2f633463623036623364396235633739363936346637363031306438346238343539336166613061322f646c5f696e74726f2e6970796e62\u0026logged_in=true\u0026nwo=4019charan%2F4019charan\u0026path=dl_intro.ipynb\u0026platform=mac\u0026repository_id=654778635\u0026repository_type=Repository\u0026version=116","headerInfo":{"blobSize":"193 KB","deleteInfo":{"deleteTooltip":"Delete this file"},"editInfo":{"editTooltip":"Edit this file"},"ghDesktopPath":"https://desktop.github.com","gitLfsPath":null,"onBranch":true,"shortPath":"95f6af0","siteNavLoginPath":"/login?return_to=https%3A%2F%2Fgithub.com%2F4019charan%2F4019charan%2Fblob%2Fmain%2Fdl_intro.ipynb","isCSV":false,"isRichtext":false,"toc":null,"lineInfo":{"truncatedLoc":"817","truncatedSloc":"817"},"mode":"file"},"image":false,"isCodeownersFile":null,"isPlain":false,"isValidLegacyIssueTemplate":false,"issueTemplateHelpUrl":"https://docs.github.com/articles/about-issue-and-pull-request-templates","issueTemplate":null,"discussionTemplate":null,"language":"Jupyter Notebook","languageID":185,"large":false,"loggedIn":true,"newDiscussionPath":"/4019charan/4019charan/discussions/new","newIssuePath":"/4019charan/4019charan/issues/new","planSupportInfo":{"repoIsFork":null,"repoOwnedByCurrentUser":null,"requestFullPath":"/4019charan/4019charan/blob/main/dl_intro.ipynb","showFreeOrgGatedFeatureMessage":null,"showPlanSupportBanner":null,"upgradeDataAttributes":null,"upgradePath":null},"publishBannersInfo":{"dismissActionNoticePath":"/settings/dismiss-notice/publish_action_from_dockerfile","dismissStackNoticePath":"/settings/dismiss-notice/publish_stack_from_file","releasePath":"/4019charan/4019charan/releases/new?marketplace=true","showPublishActionBanner":false,"showPublishStackBanner":false},"renderImageOrRaw":false,"richText":null,"renderedFileInfo":{"identityUUID":"7333939c-19af-42ed-9c66-fb99820ddd4e","renderFileType":"ipynb","size":197937},"shortPath":null,"tabSize":8,"topBannersInfo":{"overridingGlobalFundingFile":false,"globalPreferredFundingPath":null,"repoOwner":"4019charan","repoName":"4019charan","showInvalidCitationWarning":false,"citationHelpUrl":"https://docs.github.com/en/github/creating-cloning-and-archiving-repositories/creating-a-repository-on-github/about-citation-files","showDependabotConfigurationBanner":null,"actionsOnboardingTip":null},"truncated":false,"viewable":true,"workflowRedirectUrl":null,"symbols":{"timedOut":false,"notAnalyzed":true,"symbols":[]}},"copilotInfo":{"documentationUrl":"https://docs.github.com/copilot/overview-of-github-copilot/about-github-copilot-for-individuals","notices":{"codeViewPopover":{"dismissed":false,"dismissPath":"/settings/dismiss-notice/code_view_copilot_popover"}},"userAccess":{"accessAllowed":false,"hasSubscriptionEnded":false,"orgHasCFBAccess":false,"userHasCFIAccess":false,"userHasOrgs":false,"userIsOrgAdmin":false,"userIsOrgMember":false,"business":null,"featureRequestInfo":null}},"csrf_tokens":{"/4019charan/4019charan/branches":{"post":"S_lfUeM3YQfi1rTQIs2to8eb077YKDuTtAStlYMbm3OJuKs0huEOHhY3nyGi86EdtEIOnL5LnIFSyRnYUhGt9A"},"/repos/preferences":{"post":"ZQqQGZE3hhPGtB_6Z0AMyryHBLySTELEXUubjWEpH9W_YIqPZ0vgj7rI7rgBdwKIi7dtS5cnUFUIVU1NKrtkRg"}}},"title":"4019charan/dl_intro.ipynb at main · 4019charan/4019charan","appPayload":{"helpUrl":"https://docs.github.com","findFileWorkerPath":"/assets-cdn/worker/find-file-worker-83d4418b406d.js","findInFileWorkerPath":"/assets-cdn/worker/find-in-file-worker-fb8f4fb0e8c0.js","githubDevUrl":"https://github.dev/","enabled_features":{"virtualize_file_tree":true,"react_repos_overview":true,"code_nav_ui_events":false,"ref_selector_v2":false,"blob_firefox_separate_characters":true,"copilot_conversational_ux":false,"react_code_view_delete":true,"copilot_conversational_ux_symbols":false,"copilot_popover_file_editor_header":true,"copilot_smell_icebreaker_ux":false,"lfs_download_button":true}}}</script>
  <div data-target="react-app.reactRoot"></div>
</react-app>
</turbo-frame>



  </div>

</turbo-frame>

    </main>
  </div>

  </div>

          <footer class="footer width-full container-xl p-responsive" role="contentinfo">
  <h2 class='sr-only'>Footer</h2>

  <div class="position-relative d-flex flex-items-center pb-2 f6 color-fg-muted border-top color-border-muted flex-column-reverse flex-lg-row flex-wrap flex-lg-nowrap mt-6 pt-6">
    <div class="list-style-none d-flex flex-wrap col-0 col-lg-2 flex-justify-start flex-lg-justify-between mb-2 mb-lg-0">
      <div class="mt-2 mt-lg-0 d-flex flex-items-center">
        <a aria-label="Homepage" title="GitHub" class="footer-octicon mr-2" href="https://github.com">
          <svg aria-hidden="true" height="24" viewBox="0 0 16 16" version="1.1" width="24" data-view-component="true" class="octicon octicon-mark-github">
    <path d="M8 0c4.42 0 8 3.58 8 8a8.013 8.013 0 0 1-5.45 7.59c-.4.08-.55-.17-.55-.38 0-.27.01-1.13.01-2.2 0-.75-.25-1.23-.54-1.48 1.78-.2 3.65-.88 3.65-3.95 0-.88-.31-1.59-.82-2.15.08-.2.36-1.02-.08-2.12 0 0-.67-.22-2.2.82-.64-.18-1.32-.27-2-.27-.68 0-1.36.09-2 .27-1.53-1.03-2.2-.82-2.2-.82-.44 1.1-.16 1.92-.08 2.12-.51.56-.82 1.28-.82 2.15 0 3.06 1.86 3.75 3.64 3.95-.23.2-.44.55-.51 1.07-.46.21-1.61.55-2.33-.66-.15-.24-.6-.83-1.23-.82-.67.01-.27.38.01.53.34.19.73.9.82 1.13.16.45.68 1.31 2.69.94 0 .67.01 1.3.01 1.49 0 .21-.15.45-.55.38A7.995 7.995 0 0 1 0 8c0-4.42 3.58-8 8-8Z"></path>
</svg>
</a>        <span>
        &copy; 2023 GitHub, Inc.
        </span>
      </div>
    </div>

    <nav aria-label='Footer' class="col-12 col-lg-8">
      <h3 class='sr-only' id='sr-footer-heading'>Footer navigation</h3>
      <ul class="list-style-none d-flex flex-wrap col-12 flex-justify-center flex-lg-justify-between mb-2 mb-lg-0" aria-labelledby='sr-footer-heading'>
          <li class="mr-3 mr-lg-0"><a href="https://docs.github.com/site-policy/github-terms/github-terms-of-service" data-analytics-event="{&quot;category&quot;:&quot;Footer&quot;,&quot;action&quot;:&quot;go to terms&quot;,&quot;label&quot;:&quot;text:terms&quot;}">Terms</a></li>
          <li class="mr-3 mr-lg-0"><a href="https://docs.github.com/site-policy/privacy-policies/github-privacy-statement" data-analytics-event="{&quot;category&quot;:&quot;Footer&quot;,&quot;action&quot;:&quot;go to privacy&quot;,&quot;label&quot;:&quot;text:privacy&quot;}">Privacy</a></li>
          <li class="mr-3 mr-lg-0"><a data-analytics-event="{&quot;category&quot;:&quot;Footer&quot;,&quot;action&quot;:&quot;go to security&quot;,&quot;label&quot;:&quot;text:security&quot;}" href="https://github.com/security">Security</a></li>
          <li class="mr-3 mr-lg-0"><a href="https://www.githubstatus.com/" data-analytics-event="{&quot;category&quot;:&quot;Footer&quot;,&quot;action&quot;:&quot;go to status&quot;,&quot;label&quot;:&quot;text:status&quot;}">Status</a></li>
          <li class="mr-3 mr-lg-0"><a data-ga-click="Footer, go to help, text:Docs" href="https://docs.github.com">Docs</a></li>
          <li class="mr-3 mr-lg-0"><a href="https://support.github.com?tags=dotcom-footer" data-analytics-event="{&quot;category&quot;:&quot;Footer&quot;,&quot;action&quot;:&quot;go to contact&quot;,&quot;label&quot;:&quot;text:contact&quot;}">Contact GitHub</a></li>
          <li class="mr-3 mr-lg-0"><a href="https://github.com/pricing" data-analytics-event="{&quot;category&quot;:&quot;Footer&quot;,&quot;action&quot;:&quot;go to Pricing&quot;,&quot;label&quot;:&quot;text:Pricing&quot;}">Pricing</a></li>
        <li class="mr-3 mr-lg-0"><a href="https://docs.github.com" data-analytics-event="{&quot;category&quot;:&quot;Footer&quot;,&quot;action&quot;:&quot;go to api&quot;,&quot;label&quot;:&quot;text:api&quot;}">API</a></li>
        <li class="mr-3 mr-lg-0"><a href="https://services.github.com" data-analytics-event="{&quot;category&quot;:&quot;Footer&quot;,&quot;action&quot;:&quot;go to training&quot;,&quot;label&quot;:&quot;text:training&quot;}">Training</a></li>
          <li class="mr-3 mr-lg-0"><a href="https://github.blog" data-analytics-event="{&quot;category&quot;:&quot;Footer&quot;,&quot;action&quot;:&quot;go to blog&quot;,&quot;label&quot;:&quot;text:blog&quot;}">Blog</a></li>
          <li><a data-ga-click="Footer, go to about, text:about" href="https://github.com/about">About</a></li>
      </ul>
    </nav>
  </div>

  <div class="d-flex flex-justify-center pb-6">
    <span class="f6 color-fg-muted"></span>
  </div>
</footer>




  <div id="ajax-error-message" class="ajax-error-message flash flash-error" hidden>
    <svg aria-hidden="true" height="16" viewBox="0 0 16 16" version="1.1" width="16" data-view-component="true" class="octicon octicon-alert">
    <path d="M6.457 1.047c.659-1.234 2.427-1.234 3.086 0l6.082 11.378A1.75 1.75 0 0 1 14.082 15H1.918a1.75 1.75 0 0 1-1.543-2.575Zm1.763.707a.25.25 0 0 0-.44 0L1.698 13.132a.25.25 0 0 0 .22.368h12.164a.25.25 0 0 0 .22-.368Zm.53 3.996v2.5a.75.75 0 0 1-1.5 0v-2.5a.75.75 0 0 1 1.5 0ZM9 11a1 1 0 1 1-2 0 1 1 0 0 1 2 0Z"></path>
</svg>
    <button type="button" class="flash-close js-ajax-error-dismiss" aria-label="Dismiss error">
      <svg aria-hidden="true" height="16" viewBox="0 0 16 16" version="1.1" width="16" data-view-component="true" class="octicon octicon-x">
    <path d="M3.72 3.72a.75.75 0 0 1 1.06 0L8 6.94l3.22-3.22a.749.749 0 0 1 1.275.326.749.749 0 0 1-.215.734L9.06 8l3.22 3.22a.749.749 0 0 1-.326 1.275.749.749 0 0 1-.734-.215L8 9.06l-3.22 3.22a.751.751 0 0 1-1.042-.018.751.751 0 0 1-.018-1.042L6.94 8 3.72 4.78a.75.75 0 0 1 0-1.06Z"></path>
</svg>
    </button>
    You can’t perform that action at this time.
  </div>

    <template id="site-details-dialog">
  <details class="details-reset details-overlay details-overlay-dark lh-default color-fg-default hx_rsm" open>
    <summary role="button" aria-label="Close dialog"></summary>
    <details-dialog class="Box Box--overlay d-flex flex-column anim-fade-in fast hx_rsm-dialog hx_rsm-modal">
      <button class="Box-btn-octicon m-0 btn-octicon position-absolute right-0 top-0" type="button" aria-label="Close dialog" data-close-dialog>
        <svg aria-hidden="true" height="16" viewBox="0 0 16 16" version="1.1" width="16" data-view-component="true" class="octicon octicon-x">
    <path d="M3.72 3.72a.75.75 0 0 1 1.06 0L8 6.94l3.22-3.22a.749.749 0 0 1 1.275.326.749.749 0 0 1-.215.734L9.06 8l3.22 3.22a.749.749 0 0 1-.326 1.275.749.749 0 0 1-.734-.215L8 9.06l-3.22 3.22a.751.751 0 0 1-1.042-.018.751.751 0 0 1-.018-1.042L6.94 8 3.72 4.78a.75.75 0 0 1 0-1.06Z"></path>
</svg>
      </button>
      <div class="octocat-spinner my-6 js-details-dialog-spinner"></div>
    </details-dialog>
  </details>
</template>

    <div class="Popover js-hovercard-content position-absolute" style="display: none; outline: none;" tabindex="0">
  <div class="Popover-message Popover-message--bottom-left Popover-message--large Box color-shadow-large" style="width:360px;">
  </div>
</div>

    <template id="snippet-clipboard-copy-button">
  <div class="zeroclipboard-container position-absolute right-0 top-0">
    <clipboard-copy aria-label="Copy" class="ClipboardButton btn js-clipboard-copy m-2 p-0 tooltipped-no-delay" data-copy-feedback="Copied!" data-tooltip-direction="w">
      <svg aria-hidden="true" height="16" viewBox="0 0 16 16" version="1.1" width="16" data-view-component="true" class="octicon octicon-copy js-clipboard-copy-icon m-2">
    <path d="M0 6.75C0 5.784.784 5 1.75 5h1.5a.75.75 0 0 1 0 1.5h-1.5a.25.25 0 0 0-.25.25v7.5c0 .138.112.25.25.25h7.5a.25.25 0 0 0 .25-.25v-1.5a.75.75 0 0 1 1.5 0v1.5A1.75 1.75 0 0 1 9.25 16h-7.5A1.75 1.75 0 0 1 0 14.25Z"></path><path d="M5 1.75C5 .784 5.784 0 6.75 0h7.5C15.216 0 16 .784 16 1.75v7.5A1.75 1.75 0 0 1 14.25 11h-7.5A1.75 1.75 0 0 1 5 9.25Zm1.75-.25a.25.25 0 0 0-.25.25v7.5c0 .138.112.25.25.25h7.5a.25.25 0 0 0 .25-.25v-7.5a.25.25 0 0 0-.25-.25Z"></path>
</svg>
      <svg aria-hidden="true" height="16" viewBox="0 0 16 16" version="1.1" width="16" data-view-component="true" class="octicon octicon-check js-clipboard-check-icon color-fg-success d-none m-2">
    <path d="M13.78 4.22a.75.75 0 0 1 0 1.06l-7.25 7.25a.75.75 0 0 1-1.06 0L2.22 9.28a.751.751 0 0 1 .018-1.042.751.751 0 0 1 1.042-.018L6 10.94l6.72-6.72a.75.75 0 0 1 1.06 0Z"></path>
</svg>
    </clipboard-copy>
  </div>
</template>
<template id="snippet-clipboard-copy-button-unpositioned">
  <div class="zeroclipboard-container">
    <clipboard-copy aria-label="Copy" class="ClipboardButton btn btn-invisible js-clipboard-copy m-2 p-0 tooltipped-no-delay d-flex flex-justify-center flex-items-center" data-copy-feedback="Copied!" data-tooltip-direction="w">
      <svg aria-hidden="true" height="16" viewBox="0 0 16 16" version="1.1" width="16" data-view-component="true" class="octicon octicon-copy js-clipboard-copy-icon">
    <path d="M0 6.75C0 5.784.784 5 1.75 5h1.5a.75.75 0 0 1 0 1.5h-1.5a.25.25 0 0 0-.25.25v7.5c0 .138.112.25.25.25h7.5a.25.25 0 0 0 .25-.25v-1.5a.75.75 0 0 1 1.5 0v1.5A1.75 1.75 0 0 1 9.25 16h-7.5A1.75 1.75 0 0 1 0 14.25Z"></path><path d="M5 1.75C5 .784 5.784 0 6.75 0h7.5C15.216 0 16 .784 16 1.75v7.5A1.75 1.75 0 0 1 14.25 11h-7.5A1.75 1.75 0 0 1 5 9.25Zm1.75-.25a.25.25 0 0 0-.25.25v7.5c0 .138.112.25.25.25h7.5a.25.25 0 0 0 .25-.25v-7.5a.25.25 0 0 0-.25-.25Z"></path>
</svg>
      <svg aria-hidden="true" height="16" viewBox="0 0 16 16" version="1.1" width="16" data-view-component="true" class="octicon octicon-check js-clipboard-check-icon color-fg-success d-none">
    <path d="M13.78 4.22a.75.75 0 0 1 0 1.06l-7.25 7.25a.75.75 0 0 1-1.06 0L2.22 9.28a.751.751 0 0 1 .018-1.042.751.751 0 0 1 1.042-.018L6 10.94l6.72-6.72a.75.75 0 0 1 1.06 0Z"></path>
</svg>
    </clipboard-copy>
  </div>
</template>


    <style>
      .user-mention[href$="/4019charan"] {
        color: var(--color-user-mention-fg);
        background-color: var(--color-user-mention-bg);
        border-radius: 2px;
        margin-left: -2px;
        margin-right: -2px;
        padding: 0 2px;
      }
    </style>


    </div>

    <div id="js-global-screen-reader-notice" class="sr-only" aria-live="polite" ></div>
  </body>
</html>

